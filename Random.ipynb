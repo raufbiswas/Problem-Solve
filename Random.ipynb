{
 "cells": [
  {
   "cell_type": "code",
   "execution_count": 1,
   "metadata": {},
   "outputs": [
    {
     "name": "stdout",
     "output_type": "stream",
     "text": [
      "{'gmail': ['tom'], 'gsuite mail': ['harry', 'lisa'], 'brac mail': ['abc', 'xyz']}\n"
     ]
    }
   ],
   "source": [
    "string = 'tom@gmail.com, harry@g.bracu.ac.bd, lisa@g.bracu.ac.bd, abc@bracu.ac.bd, xyz@bracu.ac.bd'\n",
    "s = string.split(', ')\n",
    "d = {}\n",
    "for i in s:\n",
    "    i = i.split('@')\n",
    "    if i[1] == 'g.bracu.ac.bd':\n",
    "        x = 'gsuite mail'\n",
    "        if x not in d:\n",
    "            d[x] = [i[0]]\n",
    "        else:\n",
    "            d[x] += [i[0]]\n",
    "    elif i[1] == 'bracu.ac.bd':\n",
    "        x = 'brac mail'\n",
    "        if x not in d:\n",
    "            d[x] = [i[0]]\n",
    "        else:\n",
    "            d[x] += [i[0]]\n",
    "    else:\n",
    "        x = 'gmail'\n",
    "        if x not in d:\n",
    "            d[x] = [i[0]]\n",
    "        else:\n",
    "            d[x] += [i[0]]\n",
    "print(d)"
   ]
  },
  {
   "cell_type": "code",
   "execution_count": 3,
   "metadata": {},
   "outputs": [
    {
     "name": "stdout",
     "output_type": "stream",
     "text": [
      "{'Summer2020': {('CSE111', 'CSE260', 'ENG101'): 3.8}, 'Summer2022': {('CSE230', 'CSE220', 'MAT110'): 4.0}}\n"
     ]
    }
   ],
   "source": [
    "result={}\n",
    "list1= [['CSE111: 3.7', 'CSE260: 3.7', 'ENG101: 4.0'], 'Summer2020', ['CSE230: 4.0', 'CSE220: 4.0', 'MAT110: 4.0'], 'Summer2022']\n",
    "for i in range(len(list1)):\n",
    "  if i%2==0:\n",
    "    list_course=[]\n",
    "    list_gpa=[]\n",
    "    for j in list1[i]:\n",
    "      course,cgpa=j.split(': ')\n",
    "      list_course.append(course)\n",
    "      list_gpa.append(float(cgpa))\n",
    "    sum=0\n",
    "    for x in list_gpa:\n",
    "      sum+=x\n",
    "    cgpa_sum=round(sum/len(list_course),1)\n",
    "    one_semester={}\n",
    "    one_semester[tuple(list_course)]=cgpa_sum\n",
    "    result[list1[i+1]]=one_semester\n",
    "print(result)\n"
   ]
  },
  {
   "cell_type": "code",
   "execution_count": 27,
   "metadata": {},
   "outputs": [
    {
     "name": "stdout",
     "output_type": "stream",
     "text": [
      "Hello Person\n",
      "Ali\n",
      "Boby\n",
      "792\n",
      "Bolo\n",
      "429\n",
      "<__main__.person object at 0x000002ABFB1E0130>\n"
     ]
    }
   ],
   "source": [
    "class person:\n",
    "    print('Hello Person')\n",
    "    def __init__(self,n,c):\n",
    "        self.name = n\n",
    "        self.contact = c\n",
    "p1 = person('Ali', 792)\n",
    "p2 = person('Bolo', 429)\n",
    "print(p1.name)\n",
    "p1.name = 'Boby'\n",
    "print(p1.name)\n",
    "print(p1.contact)\n",
    "print(p2.name)\n",
    "print(p2.contact)\n",
    "print(p1) #object of a class and it will print this object's location\n",
    "#print(p2.c) #'person' object has no attribute 'c'"
   ]
  },
  {
   "cell_type": "code",
   "execution_count": 18,
   "metadata": {},
   "outputs": [
    {
     "name": "stdout",
     "output_type": "stream",
     "text": [
      "Hello Person\n",
      "Bob\n",
      "23344\n"
     ]
    }
   ],
   "source": [
    "class person:\n",
    "    print('Hello Person')\n",
    "    def __init__(self):\n",
    "        pass\n",
    "p1=person()\n",
    "p1.name = 'Bob'\n",
    "val = input()\n",
    "p1.id = val\n",
    "print(p1.name)\n",
    "print(p1.id)"
   ]
  },
  {
   "cell_type": "code",
   "execution_count": 22,
   "metadata": {},
   "outputs": [
    {
     "name": "stdout",
     "output_type": "stream",
     "text": [
      "Rose\n"
     ]
    }
   ],
   "source": [
    "class flower:\n",
    "    def __init__(self):\n",
    "        pass\n",
    "flower1 = flower()\n",
    "flower1.name = 'Rose'\n",
    "flower1.color = 'Red'\n",
    "flower1.num_of_petal = 6\n",
    "print(flower1.name)"
   ]
  },
  {
   "cell_type": "code",
   "execution_count": 23,
   "metadata": {},
   "outputs": [
    {
     "name": "stdout",
     "output_type": "stream",
     "text": [
      "Rose\n"
     ]
    }
   ],
   "source": [
    "class flower:\n",
    "    def __init__(self):\n",
    "        self.name = ''\n",
    "        self.color = ''\n",
    "        self.num_of_petal = 0\n",
    "flower1 = flower()\n",
    "flower1.name = 'Rose'\n",
    "flower1.color = 'Red'\n",
    "flower1.num_of_petal = 6\n",
    "print(flower1.name)"
   ]
  },
  {
   "cell_type": "code",
   "execution_count": 1,
   "metadata": {},
   "outputs": [
    {
     "name": "stdout",
     "output_type": "stream",
     "text": [
      "24\n",
      "12.0\n"
     ]
    }
   ],
   "source": [
    "lw = int(input())\n",
    "up = int(input())+1\n",
    "sum = 0\n",
    "count = 0\n",
    "for i in range(lw,up):\n",
    "    if i%2 != 0 and i%3 == 0:\n",
    "        sum+=i\n",
    "        count+=1\n",
    "print(sum)\n",
    "print(sum/count)"
   ]
  }
 ],
 "metadata": {
  "kernelspec": {
   "display_name": "base",
   "language": "python",
   "name": "python3"
  },
  "language_info": {
   "codemirror_mode": {
    "name": "ipython",
    "version": 3
   },
   "file_extension": ".py",
   "mimetype": "text/x-python",
   "name": "python",
   "nbconvert_exporter": "python",
   "pygments_lexer": "ipython3",
   "version": "3.9.12"
  },
  "orig_nbformat": 4,
  "vscode": {
   "interpreter": {
    "hash": "ad2bdc8ecc057115af97d19610ffacc2b4e99fae6737bb82f5d7fb13d2f2c186"
   }
  }
 },
 "nbformat": 4,
 "nbformat_minor": 2
}
