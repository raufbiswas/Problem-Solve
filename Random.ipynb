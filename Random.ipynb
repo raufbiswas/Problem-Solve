{
 "cells": [
  {
   "cell_type": "code",
   "execution_count": 1,
   "metadata": {},
   "outputs": [
    {
     "name": "stdout",
     "output_type": "stream",
     "text": [
      "{'gmail': ['tom'], 'gsuite mail': ['harry', 'lisa'], 'brac mail': ['abc', 'xyz']}\n"
     ]
    }
   ],
   "source": [
    "string = 'tom@gmail.com, harry@g.bracu.ac.bd, lisa@g.bracu.ac.bd, abc@bracu.ac.bd, xyz@bracu.ac.bd'\n",
    "s = string.split(', ')\n",
    "d = {}\n",
    "for i in s:\n",
    "    i = i.split('@')\n",
    "    if i[1] == 'g.bracu.ac.bd':\n",
    "        x = 'gsuite mail'\n",
    "        if x not in d:\n",
    "            d[x] = [i[0]]\n",
    "        else:\n",
    "            d[x] += [i[0]]\n",
    "    elif i[1] == 'bracu.ac.bd':\n",
    "        x = 'brac mail'\n",
    "        if x not in d:\n",
    "            d[x] = [i[0]]\n",
    "        else:\n",
    "            d[x] += [i[0]]\n",
    "    else:\n",
    "        x = 'gmail'\n",
    "        if x not in d:\n",
    "            d[x] = [i[0]]\n",
    "        else:\n",
    "            d[x] += [i[0]]\n",
    "print(d)"
   ]
  },
  {
   "cell_type": "code",
   "execution_count": 3,
   "metadata": {},
   "outputs": [
    {
     "name": "stdout",
     "output_type": "stream",
     "text": [
      "{'Summer2020': {('CSE111', 'CSE260', 'ENG101'): 3.8}, 'Summer2022': {('CSE230', 'CSE220', 'MAT110'): 4.0}}\n"
     ]
    }
   ],
   "source": [
    "result={}\n",
    "list1= [['CSE111: 3.7', 'CSE260: 3.7', 'ENG101: 4.0'], 'Summer2020', ['CSE230: 4.0', 'CSE220: 4.0', 'MAT110: 4.0'], 'Summer2022']\n",
    "for i in range(len(list1)):\n",
    "  if i%2==0:\n",
    "    list_course=[]\n",
    "    list_gpa=[]\n",
    "    for j in list1[i]:\n",
    "      course,cgpa=j.split(': ')\n",
    "      list_course.append(course)\n",
    "      list_gpa.append(float(cgpa))\n",
    "    sum=0\n",
    "    for x in list_gpa:\n",
    "      sum+=x\n",
    "    cgpa_sum=round(sum/len(list_course),1)\n",
    "    one_semester={}\n",
    "    one_semester[tuple(list_course)]=cgpa_sum\n",
    "    result[list1[i+1]]=one_semester\n",
    "print(result)"
   ]
  },
  {
   "attachments": {},
   "cell_type": "markdown",
   "metadata": {},
   "source": [
    "1. Driver Code\n",
    "\n",
    "```\n",
    "#Write your code here\n",
    "customer= []\n",
    "customer_01 = Customer('Sam')\n",
    "print('-------------------------------')\n",
    "customer_01.add_to_cart(\"Chips\")\n",
    "print(customer_01.show_cart())\n",
    "print('-------------------------------')\n",
    "customer_01.add_to_cart(\"Mangoes\", \"Cookies\")\n",
    "print(customer_01.show_cart())\n",
    "print('-------------------------------')\n",
    "customer_01.remove_from_cart(\"Chips\")\n",
    "print(customer_01.show_cart())\n",
    "print('-------------------------------')\n",
    "customer_01.confirm_order()\n",
    "print('-------------------------------')\n",
    "customer.append(Customer('David'))\n",
    "print('-------------------------------')\n",
    "customer[0].add_to_cart(\"Chips\", \"Cake\")\n",
    "print(customer[0].show_cart())\n",
    "print('-------------------------------')\n",
    "customer[0].add_to_cart(\"Chocolates\")\n",
    "print(customer[0].show_cart())\n",
    "print('-------------------------------')\n",
    "customer[0].remove_from_cart(\"Cake\", \"Chocolates\")\n",
    "print(customer[0].show_cart())\n",
    "print('-------------------------------')\n",
    "customer[0].confirm_order()\n",
    "print('-------------------------------')\n",
    "\n",
    "Output\n",
    "Sam just entered the shop\n",
    "-------------------------------\n",
    "Items in cart: Chips\n",
    "-------------------------------\n",
    "Items in cart: Chips, Mangoes, Cookies\n",
    "-------------------------------\n",
    "Items in cart: Mangoes, Cookies\n",
    "-------------------------------\n",
    "Sam placed his order at Super Shop.\n",
    "Thank you for your purchase!\n",
    "-------------------------------\n",
    "David just entered the shop\n",
    "-------------------------------\n",
    "Items in cart: Chips, Cake\n",
    "-------------------------------\n",
    "Items in cart: Chips, Cake, Chocolates\n",
    "-------------------------------\n",
    "Items in cart: Chips\n",
    "-------------------------------\n",
    "David placed his order at Super Shop.\n",
    "Thank you for your purchase!\n",
    "-------------------------------\n",
    "\n",
    "```\n"
   ]
  },
  {
   "cell_type": "code",
   "execution_count": 5,
   "metadata": {},
   "outputs": [
    {
     "name": "stdout",
     "output_type": "stream",
     "text": [
      "Sam just entered the shop\n",
      "-------------------------------\n",
      "Items in cart: Chips\n",
      "-------------------------------\n",
      "Items in cart: Chips, Mangoes, Cookies\n",
      "-------------------------------\n",
      "Items in cart: Chips, Mangoes, Cookies\n",
      "-------------------------------\n",
      "Sam placed his order at Super Shop.\n",
      "Thank you for your purchase!\n",
      "-------------------------------\n",
      "David just entered the shop\n",
      "-------------------------------\n",
      "Items in cart: Chips, Cake\n",
      "-------------------------------\n",
      "Items in cart: Chips, Cake, Chocolates\n",
      "-------------------------------\n",
      "Items in cart: Chips, Cake, Chocolates\n",
      "-------------------------------\n",
      "David placed his order at Super Shop.\n",
      "Thank you for your purchase!\n",
      "-------------------------------\n"
     ]
    }
   ],
   "source": [
    "class Customer:\n",
    "    def __init__(self,name):\n",
    "        self.name = name\n",
    "        self.cart = ''\n",
    "        print(f'{self.name} just entered the shop')\n",
    "    def add_to_cart(self,*products):\n",
    "        self.product = list(products)\n",
    "        for i in self.product:\n",
    "            self.cart += i+', '\n",
    "    def show_cart(self):\n",
    "        return f'Items in cart: {self.cart[:-2:]}'\n",
    "    def remove_from_cart(self,*items):\n",
    "        for j in items:\n",
    "            if j in self.product:\n",
    "                self.product.remove(j)\n",
    "    def confirm_order(self):\n",
    "        print(f'{self.name} placed his order at Super Shop.\\nThank you for your purchase!')\n",
    "customer= []\n",
    "customer_01 = Customer('Sam')\n",
    "print('-------------------------------')\n",
    "customer_01.add_to_cart(\"Chips\")\n",
    "print(customer_01.show_cart())\n",
    "print('-------------------------------')\n",
    "customer_01.add_to_cart(\"Mangoes\", \"Cookies\")\n",
    "print(customer_01.show_cart())\n",
    "print('-------------------------------')\n",
    "customer_01.remove_from_cart(\"Chips\")\n",
    "print(customer_01.show_cart())\n",
    "print('-------------------------------')\n",
    "customer_01.confirm_order()\n",
    "print('-------------------------------')\n",
    "customer.append(Customer('David'))\n",
    "print('-------------------------------')\n",
    "customer[0].add_to_cart(\"Chips\", \"Cake\")\n",
    "print(customer[0].show_cart())\n",
    "print('-------------------------------')\n",
    "customer[0].add_to_cart(\"Chocolates\")\n",
    "print(customer[0].show_cart())\n",
    "print('-------------------------------')\n",
    "customer[0].remove_from_cart(\"Cake\", \"Chocolates\")\n",
    "print(customer[0].show_cart())\n",
    "print('-------------------------------')\n",
    "customer[0].confirm_order()\n",
    "print('-------------------------------')"
   ]
  }
 ],
 "metadata": {
  "kernelspec": {
   "display_name": "base",
   "language": "python",
   "name": "python3"
  },
  "language_info": {
   "codemirror_mode": {
    "name": "ipython",
    "version": 3
   },
   "file_extension": ".py",
   "mimetype": "text/x-python",
   "name": "python",
   "nbconvert_exporter": "python",
   "pygments_lexer": "ipython3",
   "version": "3.9.12"
  },
  "orig_nbformat": 4,
  "vscode": {
   "interpreter": {
    "hash": "ad2bdc8ecc057115af97d19610ffacc2b4e99fae6737bb82f5d7fb13d2f2c186"
   }
  }
 },
 "nbformat": 4,
 "nbformat_minor": 2
}
