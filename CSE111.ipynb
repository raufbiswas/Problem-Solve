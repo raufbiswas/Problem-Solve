{
  "cells": [
    {
      "cell_type": "markdown",
      "metadata": {
        "id": "RPUxK6hr-iU8"
      },
      "source": [
        "#CSE110(LAB1)"
      ]
    },
    {
      "cell_type": "markdown",
      "metadata": {
        "id": "md5vYZRRIF22"
      },
      "source": [
        "**String**"
      ]
    },
    {
      "cell_type": "markdown",
      "metadata": {
        "id": "5DCf6GkeIRch"
      },
      "source": [
        "1. From a given string, print the string in all uppercase if the number of uppercase letters is more than lowercase letters. Otherwise, if lowercase is greater or equal to uppercase letters, print all lowercase. The inputs will contain letters (A-Z, a-z) only.\n",
        "```\n",
        "Sample Input     Sample Output\n",
        "HOusE            HOUSE\n",
        "ApplE            apple\n",
        "BaNaNa           banana\n",
        "```"
      ]
    },
    {
      "cell_type": "code",
      "execution_count": null,
      "metadata": {
        "colab": {
          "base_uri": "https://localhost:8080/"
        },
        "id": "7jFpzGjWIr0o",
        "outputId": "79fe7de7-15bc-44b8-b9d4-feda541f586b"
      },
      "outputs": [
        {
          "name": "stdout",
          "output_type": "stream",
          "text": [
            "HOUSE\n"
          ]
        }
      ],
      "source": [
        "st = 'HOusE'\n",
        "s1 = ''\n",
        "s2 = ''\n",
        "for i in st:\n",
        "  a = ord(i)\n",
        "  if a>=65 and a<=90 :\n",
        "    s1+=i\n",
        "  else:\n",
        "    s2+=i\n",
        "if len(s1)>len(s2):\n",
        "  print(st.upper())\n",
        "else:\n",
        "  print(st.lower())"
      ]
    },
    {
      "cell_type": "markdown",
      "metadata": {
        "id": "tYxGNJPqKBdo"
      },
      "source": [
        "2. Given a string, print whether it is a number, word or mixed with digit and letters. If all the characters are numeric values, print NUMBER. If they are all letters, print WORD. If it is mixed, print MIXED.\n",
        "```\n",
        "Sample Input     Sample Output\n",
        "213213           NUMBER\n",
        "jhg231j213       MIXED\n",
        "Hello            WORD\n",
        "```"
      ]
    },
    {
      "cell_type": "code",
      "execution_count": null,
      "metadata": {
        "colab": {
          "base_uri": "https://localhost:8080/"
        },
        "id": "FZY8XDsrTcl6",
        "outputId": "b9e5f2a4-3efb-427d-ea98-a6d428a39403"
      },
      "outputs": [
        {
          "name": "stdout",
          "output_type": "stream",
          "text": [
            "MIXED\n"
          ]
        }
      ],
      "source": [
        "s = 'jhg231j213'\n",
        "s1 = ''\n",
        "s2 = ''\n",
        "l = len(s)\n",
        "for i in s:\n",
        "    a = ord(i)\n",
        "    if a >= 48 and a <= 57:\n",
        "        s1 += i\n",
        "    elif (a >= 65 and a <= 90) or (a >= 97 and a <= 122):\n",
        "        s2 += i\n",
        "if l == len(s1):\n",
        "    print('NUMBER')\n",
        "elif l == len(s2):\n",
        "    print('WORD')\n",
        "else:\n",
        "    print('MIXED')"
      ]
    },
    {
      "cell_type": "markdown",
      "metadata": {
        "id": "CBTFxcPwT4Ab"
      },
      "source": [
        "3. In a given string, there will be two uppercase letters in between some lowercase letters. Print the substring from the first uppercase letter to the last uppercase letter excluding them. If there are no letters in between them, print the word BLANK. It is guaranteed that there will be only two uppercase letters in the string.\n",
        "```\n",
        "Sample Input    Sample Output\n",
        "baNgladEsh      glad\n",
        "coDIng          BLANK\n",
        "```"
      ]
    },
    {
      "cell_type": "code",
      "execution_count": null,
      "metadata": {
        "colab": {
          "base_uri": "https://localhost:8080/"
        },
        "id": "2DyO1_wUUPp_",
        "outputId": "d994c0e8-085d-4e94-88f3-0480272520d9"
      },
      "outputs": [
        {
          "name": "stdout",
          "output_type": "stream",
          "text": [
            "glad\n"
          ]
        }
      ],
      "source": [
        "s = 'baNgladEsh'\n",
        "s1 = ''\n",
        "n = 0\n",
        "for i in range(len(s)):\n",
        "  a = ord(s[i]) \n",
        "  if a>= 65 and a<=90:\n",
        "    n+=1\n",
        "    if n != 2:\n",
        "      s1+=s[i+1::]\n",
        "    else:\n",
        "      x = len(s[i::])\n",
        "      s1 = s1[:-x:]\n",
        "      break\n",
        "if s1 == '':\n",
        "  print('BLANK')\n",
        "else:\n",
        "  print(s1)   "
      ]
    },
    {
      "cell_type": "markdown",
      "metadata": {
        "id": "Xo3Fh9QLS1Nr"
      },
      "source": [
        "4. Create a string from two given strings by concatenating common characters of the given strings.\n",
        "```\n",
        "Sample Input        Sample Output\n",
        "harry, hermione     hrrhr\n",
        "dean, tom           Nothing in common.\n",
        "```"
      ]
    },
    {
      "cell_type": "code",
      "execution_count": null,
      "metadata": {
        "colab": {
          "base_uri": "https://localhost:8080/"
        },
        "id": "MCYo-pXNTX81",
        "outputId": "5734edf9-618e-401a-a839-338525dc9aea"
      },
      "outputs": [
        {
          "name": "stdout",
          "output_type": "stream",
          "text": [
            "hrrhr\n"
          ]
        }
      ],
      "source": [
        "s1 = 'harry'\n",
        "s2 = 'hermione'\n",
        "s = ''\n",
        "for i in s1:\n",
        "  if i in s2:\n",
        "    s+=i\n",
        "for j in s2:\n",
        "  if j in s1:\n",
        "    s+=j\n",
        "if s == '':\n",
        "  print('Nothing in common.')\n",
        "else:\n",
        "  print(s)"
      ]
    },
    {
      "cell_type": "markdown",
      "metadata": {
        "id": "WyxmMXYbYnnF"
      },
      "source": [
        "5. Again, you have lost your USIS password!! You went to the registrar office and requested for a new password. This time, you need to follow some rules to set your password. Otherwise, they won't change it. The rules are\n",
        "\n",
        "At least one lowercase letter\n",
        "\n",
        "At least one uppercase letter\n",
        "\n",
        "At least one digit (0-9)\n",
        "\n",
        "At least one special character (_ , $ , #, @)\n",
        "\n",
        "Your task is to find whether a given password follows all those rules. If it breaks any rule, you have to print Lowercase Missing, Uppercase Missing, Digit Missing or Special Missing respective to the missing case. For more than one rule break, print all the rules that were broken (order doesn't matter). If the password is ok, print OK.\n",
        "```\n",
        "Sample Input         Sample Output\n",
        "\n",
        "ohMyBR@CU            Digit missing\n",
        "ohmybracu            Uppercase character missing, Digit missing, Special character missing\n",
        "OhMyBR@CU20          OK\n",
        "```"
      ]
    },
    {
      "cell_type": "code",
      "execution_count": null,
      "metadata": {
        "colab": {
          "base_uri": "https://localhost:8080/"
        },
        "id": "0b9tYnnGaLlj",
        "outputId": "0600cbda-eb0b-4741-db42-d5e333bf95e2"
      },
      "outputs": [
        {
          "name": "stdout",
          "output_type": "stream",
          "text": [
            "ADbh23\n",
            "Special character missing\n"
          ]
        }
      ],
      "source": [
        "inp =input()\n",
        "s=\"\"\n",
        "special = '_' , '$' , '#', '@'\n",
        "lw = True\n",
        "up = True\n",
        "sp = True\n",
        "dg = True\n",
        "for i in inp:\n",
        "  i = ord(i)\n",
        "  if i>=48 and i<=57:\n",
        "    dg = False\n",
        "  if i>=65 and i<=90:\n",
        "    up = False\n",
        "  if i>=97 and i<=122:\n",
        "    lw = False\n",
        "  if chr(i) in special:\n",
        "    sp = False\n",
        "if lw == True:\n",
        "  s += 'Lowercase character missing, '\n",
        "if up == True:\n",
        "  s += 'Uppercase character missing, '\n",
        "if dg == True:\n",
        "  s += 'Digit missing, '\n",
        "if sp == True:\n",
        "  s += 'Special character missing, '\n",
        "if s == '':\n",
        "  print('OK')\n",
        "else:\n",
        "  print(s[:len (s)-2:])"
      ]
    },
    {
      "cell_type": "markdown",
      "metadata": {
        "id": "8iXz_uNf-WcU"
      },
      "source": [
        "**List**"
      ]
    },
    {
      "cell_type": "markdown",
      "metadata": {
        "id": "FUScoplg-ZKo"
      },
      "source": [
        "1. Write a python program which prints the frequency of the numbers that were given as input by the user. Stop taking input when you find the string “STOP”. Do not print the frequency of numbers that were not given as input.\n",
        "```\n",
        "Sample Input     \n",
        "10\n",
        "20\n",
        "20                 Sample Output\n",
        "30                 10 - 2 times\n",
        "10                 20 - 2 times\n",
        "50                 30 - 1 times\n",
        "90                 50 - 1 times\n",
        "STOP               90 - 1 times\n",
        "```"
      ]
    },
    {
      "cell_type": "code",
      "execution_count": null,
      "metadata": {
        "colab": {
          "base_uri": "https://localhost:8080/"
        },
        "id": "_V7zJ30r_BLB",
        "outputId": "96fe7827-328f-407f-acad-2fee69d73cb5"
      },
      "outputs": [
        {
          "name": "stdout",
          "output_type": "stream",
          "text": [
            "10\n",
            "20\n",
            "20\n",
            "30\n",
            "10\n",
            "50\n",
            "90\n",
            "STOP\n",
            "10 - 2 times\n",
            "20 - 2 times\n",
            "30 - 1 times\n",
            "50 - 1 times\n",
            "90 - 1 times\n"
          ]
        }
      ],
      "source": [
        "l = []\n",
        "l1 = []\n",
        "count = 0\n",
        "while True:\n",
        "  st = input()\n",
        "  if st == 'STOP':\n",
        "    break\n",
        "  else:\n",
        "    l1.append(int(st))\n",
        "for i in l1:\n",
        "  if i not in l:\n",
        "    l.append(i)\n",
        "for j in l:\n",
        "  for k in l1:\n",
        "    if j == k:\n",
        "      count+=1\n",
        "  print(f'{j} - {count} times')\n",
        "  count = 0"
      ]
    },
    {
      "cell_type": "markdown",
      "metadata": {
        "id": "cdPgO-FsJDdK"
      },
      "source": [
        "2. Write a python program that calculates the sum of N given lists and prints the highest sum and its respective list. Input starts with N and followed by N lists.\n",
        "```\n",
        "Sample Input       Sample Output\n",
        "4                  33\n",
        "1 2 3              [10, 11, 12]\n",
        "4 5 6\n",
        "10 11 12\n",
        "7 8 9\n",
        "```"
      ]
    },
    {
      "cell_type": "code",
      "execution_count": null,
      "metadata": {
        "colab": {
          "base_uri": "https://localhost:8080/"
        },
        "id": "Cr-h7xpEJaz2",
        "outputId": "c0bb5103-e9fd-4c66-b9c0-3e5d44a3f6e1"
      },
      "outputs": [
        {
          "name": "stdout",
          "output_type": "stream",
          "text": [
            "4\n",
            "1 2 3\n",
            "18 19 34\n",
            "11 12 13\n",
            "7 8 9\n",
            "71\n",
            "[18, 19, 34]\n"
          ]
        }
      ],
      "source": [
        "l=[]\n",
        "n=int(input())\n",
        "for i in range(n):\n",
        "  nl=[]\n",
        "  u=input().split()\n",
        "  for j in u:\n",
        "    nl.append(int(j))\n",
        "  l.append(nl)\n",
        "max=0\n",
        "index=0\n",
        "for k in range(len(l)):\n",
        "  sum=0\n",
        "  for m in l[k]:\n",
        "    sum+=m\n",
        "  if sum>max:\n",
        "    max=sum\n",
        "    index=k\n",
        "print(max)\n",
        "print(l[index])"
      ]
    },
    {
      "cell_type": "markdown",
      "metadata": {
        "id": "ckYFJ5LNkdHB"
      },
      "source": [
        "3. Write a python program that prints a list which contains cross multiplication between two given lists.\n",
        "```\n",
        "Sample Input          Sample Output\n",
        "2 3 6                 [6, 8, 10, 9, 12, 15, 18, 24, 30]\n",
        "3 4 5\n",
        "```"
      ]
    },
    {
      "cell_type": "code",
      "execution_count": null,
      "metadata": {
        "colab": {
          "base_uri": "https://localhost:8080/"
        },
        "id": "-rKLt7idkvi2",
        "outputId": "c6555f66-bea4-4bb8-e79b-493d48043892"
      },
      "outputs": [
        {
          "name": "stdout",
          "output_type": "stream",
          "text": [
            "[6, 8, 10, 9, 12, 15, 18, 24, 30]\n"
          ]
        }
      ],
      "source": [
        "l1 = [2, 3, 6]\n",
        "l2 = [3, 4, 5]\n",
        "l = []\n",
        "for i in l1:\n",
        "  for j in l2:\n",
        "    l.append(i*j)\n",
        "print(l)"
      ]
    },
    {
      "cell_type": "markdown",
      "metadata": {
        "id": "l7si5wlSm7BR"
      },
      "source": [
        "4. Let there are N numbers in a list and that list is said to be a UB Jumper if the absolute values of the difference between the successive elements take on all the values 1 through N − 1. For example, 2 1 4 6 10 is a UB Jumper because the absolute differences between them are 1 3 2 4 which is all numbers from 1 to (5 - 1) or 4.**Write a python program that takes a number sequence as input and prints whether it is a UB Jumper or Not UB Jumper. Input will stop after getting “STOP” as input.** (Number order or absolute difference order doesn’t follow any sequence.)\n",
        "\n",
        "```\n",
        "Sample Input        Sample Output\n",
        "1 4 2 3             UB Jumper\n",
        "2 1 4 6 10          UB Jumper\n",
        "1 4 2 -1 6          Not UB Jumper\n",
        "STOP\n",
        "````"
      ]
    },
    {
      "cell_type": "code",
      "execution_count": null,
      "metadata": {
        "colab": {
          "base_uri": "https://localhost:8080/"
        },
        "id": "PkuVb4IVnig5",
        "outputId": "9234cb33-92b2-48b5-cd89-025c16960c7e"
      },
      "outputs": [
        {
          "name": "stdout",
          "output_type": "stream",
          "text": [
            "1 4 2 3\n",
            "UB Jumper\n",
            "2 1 4 6 10\n",
            "UB Jumper\n",
            "1 4 2 -1 6\n",
            "Not UB Jumper\n",
            "STOP\n"
          ]
        }
      ],
      "source": [
        "while True:\n",
        "  inp = input().split()\n",
        "  if inp == ['STOP']:\n",
        "    break\n",
        "  else:\n",
        "    num = [int(i) for i in inp]\n",
        "    l = []\n",
        "    l2 = []\n",
        "    for j in range(len(num)-1):\n",
        "      l.append(abs(num[j]-num[j+1]))\n",
        "      l2.append(j+1)\n",
        "  l.sort()\n",
        "  if l == l2:\n",
        "    print('UB Jumper')\n",
        "  else:\n",
        "    print('Not UB Jumper')"
      ]
    },
    {
      "cell_type": "markdown",
      "metadata": {
        "id": "CLj7Bs9a7hnD"
      },
      "source": [
        "5. BRACU has n students who are regular competitive programmers. According\n",
        "to the ACM ICPC rules, each person can participate in the regional championship at most 5 times.\n",
        "\n",
        "The head of the BRACU ACM Chapter is recently gathering teams to participate in this championship. Each team must consist of exactly three people, at that, any person cannot be a member of two or more teams. What maximum number of teams can the head make if he wants each team to participate in the world championship with the same members at least k times?\n",
        "\n",
        "The first line of input contains two integers, n and k. The next line contains n integers: y1,y2, ...,yn (0≤ yi≤ 5), where yi shows the number of times the i-thperson participated in the ACM ICPC Regional.\n",
        "\n",
        "Write a python program that prints how many teams can be formed according to the above problem statement.\n",
        "\n",
        "```\n",
        "Sample Input 1           Sample Output 1\n",
        "5 2                      1\n",
        "0 4 5 1 0\n",
        "Sample Input 2           Sample Output 2\n",
        "6 4                      0\n",
        "0 1 2 3 4 5\n",
        "Sample Input 3          Sample Output 3\n",
        "6 5                     2\n",
        "0 0 0 0 0 0\n",
        "```"
      ]
    },
    {
      "cell_type": "code",
      "execution_count": null,
      "metadata": {
        "colab": {
          "base_uri": "https://localhost:8080/"
        },
        "id": "ilqcsdvX8fti",
        "outputId": "89d1edea-590e-4ad1-85c1-363b12fb7fd6"
      },
      "outputs": [
        {
          "name": "stdout",
          "output_type": "stream",
          "text": [
            "6 5\n",
            "0 0 0 0 0 0\n",
            "2\n"
          ]
        }
      ],
      "source": [
        "n = input().split()\n",
        "k = int(n[1])\n",
        "count = 0\n",
        "ip = input().split(' ')\n",
        "l = []\n",
        "for i in ip:\n",
        "  l.append(int(i))\n",
        "for j in l:\n",
        "  if (j+k) <= 5:\n",
        "    count+=1\n",
        "print(count//3)"
      ]
    },
    {
      "cell_type": "markdown",
      "metadata": {
        "id": "6L9sRvpI9qmk"
      },
      "source": [
        "**Dictionary & Tuple**"
      ]
    },
    {
      "cell_type": "markdown",
      "metadata": {
        "id": "QVJ4CeD59Wpw"
      },
      "source": [
        "1. Write a Python program to combine two dictionaries into one by adding values for common keys. Input contains two comma separated dictionaries. Print the new dictionary and create a tuple which contains unique values in sorted order.\n",
        "\n",
        "```\n",
        "Sample Input\n",
        "a: 100, b: 100, c: 200, d: 300\n",
        "a: 300, b: 200, d: 400, e: 200\n",
        "\n",
        "Sample Output\n",
        "{'a': 400, 'b': 300, 'c': 200,'d': 700, 'e': 200}\n",
        "Values: (200, 300, 400, 700)\n",
        "```"
      ]
    },
    {
      "cell_type": "code",
      "execution_count": null,
      "metadata": {
        "colab": {
          "base_uri": "https://localhost:8080/"
        },
        "id": "qqG9Ipie9zlC",
        "outputId": "755bf22a-61fe-430d-9173-9f1cba368440"
      },
      "outputs": [
        {
          "name": "stdout",
          "output_type": "stream",
          "text": [
            "a: 100, b: 100, c: 200, d: 300\n",
            "a: 300, b: 200, d: 400, e: 200\n",
            "{'a': 400, 'b': 300, 'c': 200, 'd': 700, 'e': 200}\n",
            "(200, 300, 400, 700)\n"
          ]
        }
      ],
      "source": [
        "inp1 = input().split(', ')\n",
        "inp2 = input().split(', ')\n",
        "d = {}\n",
        "t = []\n",
        "for i in inp1:\n",
        "  i = i.split(': ')\n",
        "  d[i[0]] = int(i[1])\n",
        "for j in inp2:\n",
        "  j = j.split(': ')\n",
        "  if j[0] in d1:\n",
        "    d[j[0]] += int(j[1])\n",
        "  else:\n",
        "    d[j[0]] = int(j[1])\n",
        "print(d)\n",
        "for k in d.values():\n",
        "  if k not in t:\n",
        "    t.append(k)\n",
        "for ind1 in range(len(t)-1):\n",
        "    mv = t[ind1]\n",
        "    mi = ind1\n",
        "    for ind2 in range(ind1+1, len(t)):\n",
        "      if t[ind2] < mv:\n",
        "        mv = t[ind2]\n",
        "        mi = ind2\n",
        "    r = mv\n",
        "    t[mi] = t[ind1]\n",
        "    t[ind1] = r\n",
        "print(tuple(t))"
      ]
    },
    {
      "cell_type": "markdown",
      "metadata": {
        "id": "DlbwJWtb5J8t"
      },
      "source": [
        "2. Write a python program which prints the frequency of the numbers that were given as input by the user. Stop taking input when you find the string “STOP”. Do not print the frequency of numbers that were not given as input. Use a dictionary to solve the problem.\n",
        "```\n",
        "Sample Input          Sample Output\n",
        "10                    10 - 2 times\n",
        "20                    20 - 2 times\n",
        "20                    30 - 1 times\n",
        "30                    50 - 1 times\n",
        "10                    90 - 1 times\n",
        "50\n",
        "90\n",
        "STOP\n",
        "```"
      ]
    },
    {
      "cell_type": "code",
      "execution_count": null,
      "metadata": {
        "colab": {
          "base_uri": "https://localhost:8080/"
        },
        "id": "ouj_KXqo50WJ",
        "outputId": "9db5e4f0-4f17-4db7-a0cf-09eb0e672315"
      },
      "outputs": [
        {
          "name": "stdout",
          "output_type": "stream",
          "text": [
            "10\n",
            "20\n",
            "20\n",
            "30\n",
            "10\n",
            "50\n",
            "90\n",
            "STOP\n",
            "10 - 2 times\n",
            "20 - 2 times\n",
            "30 - 1 times\n",
            "50 - 1 times\n",
            "90 - 1 times\n"
          ]
        }
      ],
      "source": [
        "d = {}\n",
        "while True:\n",
        "  st = input()\n",
        "  if st == 'STOP':\n",
        "    break\n",
        "  else:\n",
        "    if st not in d:\n",
        "      d[st] = 1\n",
        "    else:\n",
        "      d[st]+=1\n",
        "for i,j in d.items():\n",
        "  print(f'{i} - {j} times')"
      ]
    },
    {
      "cell_type": "markdown",
      "metadata": {
        "id": "xN7BOOc67krH"
      },
      "source": [
        "3. Write python code to invert a dictionary. It should print a dictionary where the keys are values from the input dictionary and the values are lists of keys from the input dictionary having the same value. Make sure the program handles multiple same values.\n",
        "```\n",
        "Sample Input\n",
        "key1 : value1, key2 : value2, key3 : value1\n",
        "Sample Output\n",
        "{ \"value1\" : [\"key1\", \"key3\"], \"value2\" : [\"key2\"] }\n",
        "\n",
        "```"
      ]
    },
    {
      "cell_type": "code",
      "execution_count": null,
      "metadata": {
        "colab": {
          "base_uri": "https://localhost:8080/"
        },
        "id": "IxmJY3nT70_U",
        "outputId": "24ef1207-de6e-4fb7-b7ce-67040b28ad62"
      },
      "outputs": [
        {
          "name": "stdout",
          "output_type": "stream",
          "text": [
            "key1 : value1, key2 : value2, key3 : value1\n",
            "{'value1': ['key1', 'key3'], 'value2': ['key2']}\n"
          ]
        }
      ],
      "source": [
        "st = input().split(', ')\n",
        "d = {}\n",
        "for i in st:\n",
        "  i = i.split(' : ')\n",
        "  if i[1] not in d:\n",
        "    d[i[1]] = [i[0]]\n",
        "  else:\n",
        "    d[i[1]] += [i[0]]\n",
        "print(d)"
      ]
    },
    {
      "cell_type": "markdown",
      "metadata": {
        "id": "BUKG5x_x9iqp"
      },
      "source": [
        "4. On some basic cell phones, text messages can be sent using the numeric keypad. Because each key has multiple letters associated with it, multiple key presses are needed for most letters. Pressing the number once generates the first character listed for that key. Pressing the number 2, 3, 4 or 5 times generates the second, third, fourth or fifth character.\n",
        "\n",
        "```\n",
        "Key Symbols\n",
        "1   .,?!:\n",
        "2   ABC\n",
        "3   DEF\n",
        "4   GHI\n",
        "5   JKL\n",
        "6   MNO\n",
        "7   PQRS\n",
        "8   TUV\n",
        "9   WXYZ\n",
        "0   Space\n",
        "```\n",
        "Write a program that displays the key presses needed for a message entered by the user. Construct a dictionary that maps from each letter or symbol to the key presses needed to generate it. Then use the dictionary to create and display the presses needed for the user’s message.\n",
        "```\n",
        "Sample Input\n",
        "Hello, World!\n",
        "\n",
        "Sample Output\n",
        "4433555555666110966677755531111\n",
        "\n",
        "```\n"
      ]
    },
    {
      "cell_type": "code",
      "execution_count": null,
      "metadata": {
        "colab": {
          "base_uri": "https://localhost:8080/"
        },
        "id": "7zKQabqv-Dg8",
        "outputId": "282d0795-f318-4898-ef0b-c07f69ebaf6a"
      },
      "outputs": [
        {
          "name": "stdout",
          "output_type": "stream",
          "text": [
            "adgjmptw \n",
            "234567890\n"
          ]
        }
      ],
      "source": [
        "d = { '1' : '.,?!:' , '2' : 'ABC' , '3' : 'DEF' , '4' : 'GHI' , '5' : 'JKL' , '6' : 'MNO' , '7' : 'PQRS' , '8' : 'TUV', '9' : 'WXYZ' , '0' : ' '}\n",
        "s = input().upper()\n",
        "ns = ''\n",
        "for i in s:\n",
        "  for j,k in d.items():\n",
        "    for l in range(len(k)):\n",
        "      if k[l] == i:\n",
        "        ns+=(j*(l+1))\n",
        "print(ns)"
      ]
    },
    {
      "cell_type": "markdown",
      "metadata": {
        "id": "T2-pgPWUmYl5"
      },
      "source": [
        "#LAB2"
      ]
    },
    {
      "cell_type": "markdown",
      "metadata": {
        "id": "um-v-wgYmaK5"
      },
      "source": [
        "1. Write a function which will return the fraction part after dividing a number by another. The range should be within 0 and 1. Exception: Since dividing anything by 0 results in error so if the denominator is 0, the function will return 0 instead of attempting the division.\n",
        "```\n",
        "Function Call        Sample Output  \n",
        "(5, 2)               0.5\n",
        "(5, 0)               0\n",
        "(0, 5)               0\n",
        "```"
      ]
    },
    {
      "cell_type": "code",
      "execution_count": null,
      "metadata": {
        "colab": {
          "base_uri": "https://localhost:8080/"
        },
        "id": "EbKd3mb8JMWS",
        "outputId": "b9f817a7-6ab0-43f9-a817-b7d3c820337e"
      },
      "outputs": [
        {
          "name": "stdout",
          "output_type": "stream",
          "text": [
            "0.5\n"
          ]
        }
      ],
      "source": [
        "def fraction(m,n):\n",
        "    if n == 0:\n",
        "        return 0\n",
        "    else:\n",
        "        x = m/n\n",
        "        return (x-int(x))\n",
        "a = fraction(5,2)\n",
        "if a>=0 and a<=1:\n",
        "    if a == 0.0 :\n",
        "        print(0)\n",
        "    else:\n",
        "        print(a)"
      ]
    },
    {
      "cell_type": "markdown",
      "metadata": {
        "id": "f-Sh3PTvJypp"
      },
      "source": [
        "2. You are one of the gym instructors at AmiKenoMota. You decide to provide a customized diet and exercise plans based on the BMI of an individual. You measure the weight in kilograms and height in meters and calculate the BMI before a plan can be decided. Write a BMI function that takes in two values, weight in kg and height in cm and print the score along with the condition. (Make sure to convert cm into m before calculation)\n",
        "\n",
        "BMI(height, weight)\n",
        "\n",
        "𝐵𝑀𝐼 = 𝑘𝑔/𝑚2\n",
        "\n",
        "Based on the BMI score return the following output.\n",
        "\n",
        "● < 18.5- Underweight\n",
        "\n",
        "● 18.5 - 24.9 - Normal\n",
        "\n",
        "● 25 -30 - Overweight\n",
        "\n",
        "● > 30 – Obese\n",
        "\n",
        "```\n",
        "Function Call     Sample Output\n",
        "(175, 96)         Score is 31.3. You are Obese \n",
        "(152, 48)         Score is 20.8. You are Normal\n",
        "```"
      ]
    },
    {
      "cell_type": "code",
      "execution_count": null,
      "metadata": {
        "colab": {
          "base_uri": "https://localhost:8080/"
        },
        "id": "Hj3KTde6J4Dx",
        "outputId": "129ae326-1bb7-4c25-ea5b-062b5687752f"
      },
      "outputs": [
        {
          "name": "stdout",
          "output_type": "stream",
          "text": [
            "Score is 20.78. You are normal\n"
          ]
        }
      ],
      "source": [
        "def bmi(height,weight):\n",
        "  height = height/100\n",
        "  BMI = round((weight/(height**2)),2)\n",
        "  s = ''\n",
        "  if BMI < 18.5:\n",
        "    s+='underweight'\n",
        "  elif BMI>= 18.5 and BMI<25:\n",
        "    s+='normal'\n",
        "  elif BMI>= 25 and BMI<=30:\n",
        "    s+= 'overweight'\n",
        "  else:\n",
        "    s+='obese'\n",
        "  return (f'Score is {BMI}. You are {s}')  \n",
        "print(bmi(152,48))"
      ]
    },
    {
      "cell_type": "markdown",
      "metadata": {
        "id": "RqHR5iqoJ_2H"
      },
      "source": [
        "3. Write a function which will take 3 arguments minimum, maximum and divisor. \n",
        "You have to find all the numbers that are divisible by the divisor where minimum \n",
        "value is inclusive and maximum value is exclusive. Add all the numbers and return \n",
        "the value.\n",
        "```\n",
        "Function Call    Sample Output\n",
        "(0, 10, 2)       20\n",
        "(3, 16, 3)       45\n",
        "```"
      ]
    },
    {
      "cell_type": "code",
      "execution_count": null,
      "metadata": {
        "colab": {
          "base_uri": "https://localhost:8080/"
        },
        "id": "G7y6t7q-KFNY",
        "outputId": "f26294ea-4147-4513-a506-2e64b479e126"
      },
      "outputs": [
        {
          "name": "stdout",
          "output_type": "stream",
          "text": [
            "45\n"
          ]
        }
      ],
      "source": [
        "def divi(min,max,div):\n",
        "    sum = 0\n",
        "    for i in range(min,max):\n",
        "        if i%div == 0:\n",
        "           sum+=i\n",
        "    return sum \n",
        "print(divi(3,16,3))"
      ]
    },
    {
      "cell_type": "markdown",
      "metadata": {
        "id": "AewgTC9FKKoV"
      },
      "source": [
        "4. You want to order Burger from Chillox through the FoodPanda App. You have to \n",
        "calculate the total price. Write a function which will take the name of the burger and \n",
        "place(Mohakhali/Outside of Mohakhali) as input. Use default argument technique \n",
        "for taking place input.\n",
        "```\n",
        "Menu                           Price(Tk)\n",
        "BBQ Chicken Cheese Burger      250\n",
        "Beef Burger                    170\n",
        "Naga Drums                     200\n",
        "```\n",
        "Hint: Total Price = meal_cost + delivery_charge + tax \n",
        "\n",
        "Note that:\n",
        "\n",
        "● If your home is in Mohakhali area then your delivery charge is 40 taka else 60 taka\n",
        "\n",
        "● Your tax rate is 8% of your meal.\n",
        "```\n",
        "Function Call                      Sample Output \n",
        "(‘Beef Burger’, ‘Dhanmondi’)       243.6\n",
        "(‘Beef Burger’)                    223.6\n",
        "```"
      ]
    },
    {
      "cell_type": "code",
      "execution_count": null,
      "metadata": {
        "colab": {
          "base_uri": "https://localhost:8080/"
        },
        "id": "HqrPNhyLKO7H",
        "outputId": "d5a5c340-49d7-4bb7-cc7b-b0ef4130c2dd"
      },
      "outputs": [
        {
          "name": "stdout",
          "output_type": "stream",
          "text": [
            "Enter Food Name: Beef Burger\n",
            "Enter Location: Dhanmondi\n",
            "243.6\n"
          ]
        }
      ],
      "source": [
        "def price(food, lc = input('Enter Location: ')):\n",
        "    fp = {'BBQ Chicken Cheese Burger' : 250, 'Beef Burger' : 170, 'Naga Drums' : 200}\n",
        "    total = 0\n",
        "    for i,j in fp.items():\n",
        "        if food == i:\n",
        "            if lc == 'Mohakhali':\n",
        "                total+=(j+40+(j*0.08))\n",
        "            else:\n",
        "                total+=(j+60+(j*0.08))\n",
        "    print(total)\n",
        "price(input('Enter Food Name: '), 'Dhanmondi')"
      ]
    },
    {
      "cell_type": "markdown",
      "metadata": {
        "id": "V_jtfMOVLgF3"
      },
      "source": [
        "5. A company named Sheba.xyz has recently moved from their old domain to a new domain. However, a lot of the company email addresses are still using the old one. Write a function in python that replaces this old domain with the new one in any outdated email addresses. Keep same if the email address contains the newdomain.\n",
        "(Do not use builtin replace function)\n",
        "\n",
        "Firstly, define a “replace_domain” function which accepts three parameters\n",
        "\n",
        "*The email address to be checked\n",
        "\n",
        "*The new domain\n",
        "\n",
        "*The old domain (Use Default argument technique to handle this)\n",
        "```\n",
        "Function Call                                     Sample Output\n",
        "(‘alice@kaaj.com’, ‘sheba.xyz’, ‘kaaj.com’)       Changed: alice@sheba.xyz\n",
        "(‘bob@sheba.xyz’, ‘sheba.xyz’)                    Unchanged: bob@sheba.xyz\n",
        "```"
      ]
    },
    {
      "cell_type": "code",
      "execution_count": null,
      "metadata": {
        "colab": {
          "base_uri": "https://localhost:8080/"
        },
        "id": "QHtaWm7lL_gI",
        "outputId": "f25c3ab4-85d7-43da-c015-bdbc4c37bc76"
      },
      "outputs": [
        {
          "name": "stdout",
          "output_type": "stream",
          "text": [
            "Unchanged: bob@sheba.xyz\n"
          ]
        }
      ],
      "source": [
        "def replace_domain(mail,domnew, domold = 'kaaj.com'):\n",
        "  m = mail.split('@')\n",
        "  if m[1] == domold:\n",
        "    print(f\"Changed: {m[0]+'@'+domnew}\")\n",
        "  else:\n",
        "    print(f'Unchanged: {mail}')\n",
        "replace_domain('bob@sheba.xyz', 'sheba.xyz')"
      ]
    },
    {
      "cell_type": "markdown",
      "metadata": {
        "id": "4M5goNNSN9P3"
      },
      "source": [
        "6. Write a function which takes only your full name as input and finds the total number of vowels in that input. Output every vowel and at the end output the total number of vowelsfound. If your name does not contain any vowel then yourfunction should print “No vowels in the name!”.\n",
        "\n",
        "```\n",
        "Function Call        Sample Output\n",
        "(Steve Jobs)         Vowels: e, e, o. Total number of vowels: 3\n",
        "(XYZ)                No vowels in the name\n",
        "```"
      ]
    },
    {
      "cell_type": "code",
      "execution_count": null,
      "metadata": {
        "colab": {
          "base_uri": "https://localhost:8080/"
        },
        "id": "fClGuTLHOSmZ",
        "outputId": "286bb68c-a5bc-4a66-bb7e-db3a35d90999"
      },
      "outputs": [
        {
          "name": "stdout",
          "output_type": "stream",
          "text": [
            "Enter Your Name: Steve Jobs\n",
            "Vowels e, e, o. Total number of vowels: 3\n"
          ]
        }
      ],
      "source": [
        "def name(n):\n",
        "  s = ''\n",
        "  count = 0\n",
        "  vowels = 'AaEeIiOoUu'\n",
        "  for i in n:\n",
        "    if i in vowels:\n",
        "      s+=i+', '\n",
        "      count+=1\n",
        "  if s == '':\n",
        "    print('No vowels in the name')\n",
        "  else:\n",
        "    print(f'Vowels {s[:len(s)-2:]}. Total number of vowels: {count}')\n",
        "name(input('Enter Your Name: '))"
      ]
    },
    {
      "cell_type": "markdown",
      "metadata": {
        "id": "Z3X69-j1OgIA"
      },
      "source": [
        "7. Write a function which checks whether a given string is a palindrome or not.\n",
        "\n",
        "Note: A palindrome is a word, phrase, or sequence that reads the same backward as forward. For palindrome, any spaces in middle are not considered and should be trimmed.\n",
        "```\n",
        "Function Call       Sample Output\n",
        "(‘madam’)           Palindrome\n",
        "(‘hello’)           Not a palindrome\n",
        "(‘nurses run’)      Palindrome\n",
        "```"
      ]
    },
    {
      "cell_type": "code",
      "execution_count": null,
      "metadata": {
        "colab": {
          "base_uri": "https://localhost:8080/"
        },
        "id": "rNag_5xiO3aH",
        "outputId": "3475f8d1-6774-4b39-fe37-470592c06cf3"
      },
      "outputs": [
        {
          "name": "stdout",
          "output_type": "stream",
          "text": [
            "Palindrome\n"
          ]
        }
      ],
      "source": [
        "def palin(st):\n",
        "  s = ''\n",
        "  for i in st:\n",
        "    if i != ' ':\n",
        "      s+=i\n",
        "  p = s[::-1]\n",
        "  if p == s:\n",
        "    print('Palindrome')\n",
        "  else:\n",
        "    print('Not a palindrome')\n",
        "palin('madam')"
      ]
    },
    {
      "cell_type": "markdown",
      "metadata": {
        "id": "lkzBEjKeO45m"
      },
      "source": [
        "8. Write a function which takes a number of days as input and prints total number of years, number of months and remaining number of days as output.\n",
        "```\n",
        "Function Call      Sample Output\n",
        "(4320)             11 years, 10 months and 5 days\n",
        "(4000)             10 years, 11 months and 20 days\n",
        "```"
      ]
    },
    {
      "cell_type": "code",
      "execution_count": null,
      "metadata": {
        "colab": {
          "base_uri": "https://localhost:8080/"
        },
        "id": "3IZM1zN-PKX-",
        "outputId": "32178799-b2e4-4131-ed75-e6fadf6f57c7"
      },
      "outputs": [
        {
          "name": "stdout",
          "output_type": "stream",
          "text": [
            "4000\n",
            "10 years, 11 months and 20 days\n"
          ]
        }
      ],
      "source": [
        "def days(d):\n",
        "  x = d//365\n",
        "  m = d%365\n",
        "  y = m//30\n",
        "  z = m%30\n",
        "  print(f'{x} years, {y} months and {z} days')\n",
        "days(int(input()))"
      ]
    },
    {
      "cell_type": "markdown",
      "metadata": {
        "id": "bHM0Q5T2PK4-"
      },
      "source": [
        "9. You are a class teacher at a kindergarten school. As a task, you asked your students to write a paragraph. Unfortunately, you notice that most of the students did not use capital letters correctly. Your task is to write a function which takes a string as its only parameter and returns a new copy of the string that has been correctly capitalized. Your function should:\n",
        "```\n",
        "● Capitalize the first letter in the string\n",
        "● Capitalize the first letter after a full-stop, exclamation mark or questionmark\n",
        "● Capitalize the word “i” if it is in lowercase.\n",
        "```\n",
        "Summary: You have to write a function that reads a string from the user and\n",
        "capitalizes. The string is then returned and displayed.\n",
        "\n",
        "```\n",
        "Function Call\n",
        "('my favourite animal is a dog. a dog has sharp teeth so that it can eat flesh very easily.\n",
        "do you know my pet dog’s name? i love my pet very much.')\n",
        "\n",
        "Sample Output\n",
        "My favourite animal is a dog. A dog has sharp teeth so that it can eat flesh very\n",
        "easily. Do you know my pet dog’s name? I love my pet very much.\n",
        "```"
      ]
    },
    {
      "cell_type": "code",
      "execution_count": null,
      "metadata": {
        "colab": {
          "base_uri": "https://localhost:8080/"
        },
        "id": "I8IjJJb5Pfoz",
        "outputId": "006a1dcd-d082-4c23-a884-dc40d3ab82bf"
      },
      "outputs": [
        {
          "name": "stdout",
          "output_type": "stream",
          "text": [
            "Enter a string: my favourite animal is a dog. a dog has sharp teeth so that it can eat flesh very easily. do you know my pet dog’s name? i love my pet very much.\n",
            "My favourite animal is a dog. A dog has sharp teeth so that it can eat flesh very easily. Do you know my pet dog’s name? I love my pet very much.\n"
          ]
        }
      ],
      "source": [
        "def correction(string = input('Enter a string: ') ):\n",
        "  s = string[0].upper()\n",
        "  sp = '.?!'\n",
        "  for i in range(1,len(string)):\n",
        "    if (string[i-1] == ' ') and (string[i+1] == ' ') and string[i] == 'i':\n",
        "      s+='I'\n",
        "    else:\n",
        "      if (string[i-1] == ' ') and (string[i-2] in sp):\n",
        "        s+=string[i].upper()\n",
        "      else:\n",
        "        s+=string[i]\n",
        "  return s\n",
        "print(correction())"
      ]
    },
    {
      "cell_type": "markdown",
      "metadata": {
        "id": "U2cwVkI7Jz3e"
      },
      "source": [
        "#LAB3"
      ]
    },
    {
      "cell_type": "markdown",
      "metadata": {
        "id": "br6UWmH8J6r7"
      },
      "source": [
        "1. Write a class that for running the following codes: \n",
        "\n",
        "[You are not allowed to change the code below]\n",
        "```\n",
        "#Write your class code here\n",
        "\n",
        "data_type1 = DataType('Integer', 1234)\n",
        "print(data_type1.name)\n",
        "print(data_type1.value)\n",
        "print('=====================')\n",
        "data_type2 = DataType('String', 'Hello')\n",
        "print(data_type2.name)\n",
        "print(data_type2.value)\n",
        "print('=====================')\n",
        "data_type3 = DataType('Float', 4.0)\n",
        "print(data_type3.name)\n",
        "print(data_type3.value)\n",
        "\n",
        "Output:\n",
        "\n",
        "Integer\n",
        "1234\n",
        "=====================\n",
        "String\n",
        "Hello\n",
        "=====================\n",
        "Float\n",
        "4.0\n",
        "```\n",
        "Subtasks:\n",
        "\n",
        "1.Create a class named DataType with the required constructor.\n",
        "\n",
        "2.Assign name and values in constructor according to the output.\n"
      ]
    },
    {
      "cell_type": "code",
      "execution_count": null,
      "metadata": {
        "colab": {
          "base_uri": "https://localhost:8080/"
        },
        "id": "flLHSM7LQlVu",
        "outputId": "05876c6a-de07-46e2-e2b2-cc916385eea1"
      },
      "outputs": [
        {
          "name": "stdout",
          "output_type": "stream",
          "text": [
            "Integer\n",
            "1234\n",
            "=====================\n",
            "String\n",
            "Hello\n",
            "=====================\n",
            "Float\n",
            "4.0\n"
          ]
        }
      ],
      "source": [
        "class DataType:\n",
        "    def __init__(self,typ,val):\n",
        "        self.name = typ\n",
        "        self.value = val\n",
        "data_type1 = DataType('Integer', 1234)\n",
        "print(data_type1.name)\n",
        "print(data_type1.value)\n",
        "print('=====================')\n",
        "data_type2 = DataType('String', 'Hello')\n",
        "print(data_type2.name)\n",
        "print(data_type2.value)\n",
        "print('=====================')\n",
        "data_type3 = DataType('Float', 4.0)\n",
        "print(data_type3.name)\n",
        "print(data_type3.value)"
      ]
    },
    {
      "cell_type": "markdown",
      "metadata": {
        "id": "HVDYvGP6QoVL"
      },
      "source": [
        "2. Design a class Joker with parameterized constructor so that the following line of code prints the result shown in the output box.\n",
        "\n",
        "[You are not allowed to change the code below]\n",
        "```\n",
        "#Write your class code here\n",
        "\n",
        "j1 = Joker('Heath Ledger', 'Mind Game', False)\n",
        "print(j1.name)\n",
        "print(j1.power)\n",
        "print(j1.is_he_psycho)\n",
        "print('=====================')\n",
        "j2 = Joker('Joaquin Phoenix', 'Laughing out Loud', True)\n",
        "print(j2.name)\n",
        "print(j2.power)\n",
        "print(j2.is_he_psycho)\n",
        "print('=====================')\n",
        "if j1 == j2:\n",
        "    print('same')\n",
        "else: \n",
        "    print('different')\n",
        "j2.name = 'Heath Ledger'\n",
        "if j1.name == j2.name:\n",
        "    print('same')\n",
        "else:\n",
        "    print('different')\n",
        "#Write your code for 2,3 here\n",
        "\n",
        "\n",
        "Output:\n",
        "\n",
        "Heath Ledger\n",
        "Mind Game\n",
        "False\n",
        "=====================\n",
        "Joaquin Phoenix\n",
        "Laughing out Loud\n",
        "True\n",
        "=====================\n",
        "different\n",
        "same\n",
        "```\n",
        "Subtask:\n",
        "1) Design the class using a parameterized constructor.\n",
        "2) The first if/else block prints the output as ‘different’, but why? Explain your answer and print your explanation at the very end.\n",
        "3) The second if/else block prints the output as ‘same’, but why? Explain your answer and print your explanation at the very end.\n"
      ]
    },
    {
      "cell_type": "code",
      "execution_count": null,
      "metadata": {
        "colab": {
          "base_uri": "https://localhost:8080/"
        },
        "id": "cuDpJnX8Qw97",
        "outputId": "c1fff50c-12ea-40cd-8ab0-67c40bcd5ad6"
      },
      "outputs": [
        {
          "name": "stdout",
          "output_type": "stream",
          "text": [
            "Heath Ledger\n",
            "Mind Game\n",
            "False\n",
            "=====================\n",
            "Joaquin Phoenix\n",
            "Laughing out Loud\n",
            "True\n",
            "=====================\n",
            "different\n",
            "same\n",
            "The first if/else block prints the output as 'different' because j1 and j2 are two different objects of Joker Class so their reference/location aren't same. That's why it prints the output as 'different'.\n",
            "The second if/else block prints the output as 'same' because we are comparing two same string values here.\n"
          ]
        }
      ],
      "source": [
        "class Joker:\n",
        "    def __init__(self, n, p, boolean):\n",
        "        self.name = n\n",
        "        self.power = p\n",
        "        self.is_he_psycho = boolean\n",
        "j1 = Joker('Heath Ledger', 'Mind Game', False)\n",
        "print(j1.name)\n",
        "print(j1.power)\n",
        "print(j1.is_he_psycho)\n",
        "print('=====================')\n",
        "j2 = Joker('Joaquin Phoenix', 'Laughing out Loud', True)\n",
        "print(j2.name)\n",
        "print(j2.power)\n",
        "print(j2.is_he_psycho)\n",
        "print('=====================')\n",
        "if j1 == j2:\n",
        "    print('same')\n",
        "else: \n",
        "    print('different')\n",
        "j2.name = 'Heath Ledger'\n",
        "if j1.name == j2.name:\n",
        "    print('same')\n",
        "else:\n",
        "    print('different')\n",
        "print(\"The first if/else block prints the output as 'different' because j1 and j2 are two different objects of Joker Class so their reference/location aren't same. That's why it prints the output as 'different'.\")\n",
        "print(\"The second if/else block prints the output as 'same' because we are comparing two same string values here.\")"
      ]
    },
    {
      "cell_type": "markdown",
      "metadata": {
        "id": "Q3Y4UkaUECT0"
      },
      "source": [
        "3. Design a class called Pokemon using a parameterized  constructor so that after executing the following line of code the desired result shown in the output box will be printed. First object along with print has been done for you, you also need to create other objects and print accordingly to get the output correctly.\n",
        "\n",
        "[You are not allowed to change the code below]\n",
        "```\n",
        "#Write your code for class here\n",
        "\n",
        "team_pika = Pokemon('pikachu', 'charmander', 90, 60, 10)\n",
        "print('=======Team 1=======')\n",
        "print('Pokemon 1:',team_pika.pokemon1_name, team_pika.pokemon1_power)\n",
        "print('Pokemon 2:',team_pika.pokemon2_name, team_pika.pokemon2_power)\n",
        "pika_combined_power = (team_pika.pokemon1_power + team_pika.pokemon2_power) * team_pika.damage_rate\n",
        "print('Combined Power:', pika_combined_power)\n",
        "#Write your code for subtask 2,3,4 here\n",
        "\n",
        "Output:\n",
        "\n",
        "=======Team 1=======\n",
        "Pokemon 1: pikachu 90\n",
        "Pokemon 2: charmander 60\n",
        "Combined Power: 1500\n",
        "=======Team 2=======\n",
        "Pokemon 1: bulbasaur 80\n",
        "Pokemon 2: squirtle 70\n",
        "Combined Power: 1350\n",
        "```\n",
        "Subtask:\n",
        "\n",
        "1) Design the Pokemon class using a parameterized constructor. The 5 values that are being passed through the constructor are pokemon 1 name, pokemon 2 name, pokemon 1 power, pokemon 2 power, damage rate respectively. After designing the class, if you run the above code the details in Team 1 will be printed.\n",
        "\n",
        "2) Create an object named team_bulb and pass the values ‘bulbasaur’, ‘squirtle’, 80, 70, 9 respectively.\n",
        "\n",
        "3) Use print statements accordingly to print the desired result of Team 2.\n",
        "\n",
        "\n",
        "Note: Power is always being calculated using the instance variables. \n",
        "\n",
        "Example: \n",
        "(team_pika.pokemon1_power + team_pika.pokemon2_power) * team_pika.damage_rate\n"
      ]
    },
    {
      "cell_type": "code",
      "execution_count": 6,
      "metadata": {
        "colab": {
          "base_uri": "https://localhost:8080/"
        },
        "id": "i4ECB6YfEF22",
        "outputId": "8ca37d8c-2f38-4328-d92d-174183634ebd"
      },
      "outputs": [
        {
          "name": "stdout",
          "output_type": "stream",
          "text": [
            "=======Team 1=======\n",
            "Pokemon 1: pikachu 90\n",
            "Pokemon 2: charmander 60\n",
            "Combined Power: 1500\n",
            "=======Team 2=======\n",
            "Pokemon 1: bulbasaur 80\n",
            "Pokemon 2: squirtle 70\n",
            "Combined Power: 1350\n"
          ]
        }
      ],
      "source": [
        "class Pokemon:\n",
        "    def __init__(self, nam1, nam2, pow1, pow2, dm):\n",
        "        self.pokemon1_name = nam1\n",
        "        self.pokemon1_power = pow1\n",
        "        self.pokemon2_name = nam2\n",
        "        self.pokemon2_power = pow2\n",
        "        self.damage_rate = dm\n",
        "team_pika = Pokemon('pikachu', 'charmander', 90, 60, 10)\n",
        "print('=======Team 1=======')\n",
        "print('Pokemon 1:',team_pika.pokemon1_name, team_pika.pokemon1_power)\n",
        "print('Pokemon 2:',team_pika.pokemon2_name, team_pika.pokemon2_power)\n",
        "pika_combined_power = (team_pika.pokemon1_power + team_pika.pokemon2_power) * team_pika.damage_rate\n",
        "print('Combined Power:', pika_combined_power)\n",
        "team_bulb = Pokemon('bulbasaur', 'squirtle', 80, 70, 9)\n",
        "print('=======Team 2=======')\n",
        "print('Pokemon 1:',team_bulb.pokemon1_name, team_bulb.pokemon1_power)\n",
        "print('Pokemon 2:',team_bulb.pokemon2_name, team_bulb.pokemon2_power)\n",
        "bulb_combined_power = (team_bulb.pokemon1_power + team_bulb.pokemon2_power) * team_bulb.damage_rate\n",
        "print('Combined Power:', bulb_combined_power)"
      ]
    },
    {
      "cell_type": "markdown",
      "metadata": {
        "id": "l6eQYjslEOoz"
      },
      "source": [
        "\n",
        "4. Design the Country class so that the code gives the expected output.\n",
        "\n",
        "[You are not allowed to change the code below]\n",
        "\n",
        "```\n",
        "# Write your Class Code here\n",
        "country = Country()\n",
        "print('Name:',country.name)\n",
        "print('Continent:',country.continent)\n",
        "print('Capital:',country.capital)\n",
        "print('Fifa Ranking:',country.fifa_ranking)\n",
        "print('===================')\n",
        "country.name = “Belgium”\n",
        "country.continent = “Europe”\n",
        "country.capital = “Brussels”\n",
        "country.fifa_ranking = 1\n",
        "print('Name:',country.name)\n",
        "print('Continent:',country.continent)\n",
        "print('Capital:',country.capital)\n",
        "print('Fifa Ranking:',country.fifa_ranking)\n",
        "\n",
        "\n",
        "Output:\n",
        "\n",
        "Name: Bangladesh\n",
        "Continent: Asia\n",
        "Capital: Dhaka\n",
        "Fifa Ranking: 187\n",
        "===================\n",
        "Name: Belgium\n",
        "Continent: Europe\n",
        "Capital: Brussels\n",
        "Fifa Ranking: 1\n",
        "```\n"
      ]
    },
    {
      "cell_type": "code",
      "execution_count": 1,
      "metadata": {
        "colab": {
          "base_uri": "https://localhost:8080/"
        },
        "id": "t0B4ttvnERrj",
        "outputId": "4bc5c33f-4c7d-45c0-a47f-4d8447d4f205"
      },
      "outputs": [
        {
          "name": "stdout",
          "output_type": "stream",
          "text": [
            "Name: Bangladesh\n",
            "Continent: Asia\n",
            "Capital: Dhaka\n",
            "Fifa Ranking: 187\n",
            "===================\n",
            "Name: Belgium\n",
            "Continent: Europe\n",
            "Capital: Brussels\n",
            "Fifa Ranking: 1\n"
          ]
        }
      ],
      "source": [
        "class Country:\n",
        "    def __init__(self,cn='Bangladesh',cc='Asia',ccp='Dhaka',cfr=187):\n",
        "        self.name = cn\n",
        "        self.continent = cc\n",
        "        self.capital = ccp\n",
        "        self.fifa_ranking = cfr\n",
        "country = Country()\n",
        "print('Name:',country.name)\n",
        "print('Continent:',country.continent)\n",
        "print('Capital:',country.capital)\n",
        "print('Fifa Ranking:',country.fifa_ranking)\n",
        "print('===================')\n",
        "country.name = 'Belgium'\n",
        "country.continent = 'Europe'\n",
        "country.capital = 'Brussels'\n",
        "country.fifa_ranking = 1\n",
        "print('Name:',country.name)\n",
        "print('Continent:',country.continent)\n",
        "print('Capital:',country.capital)\n",
        "print('Fifa Ranking:',country.fifa_ranking)"
      ]
    },
    {
      "cell_type": "markdown",
      "metadata": {
        "id": "OgJy7w3lk43C"
      },
      "source": [
        "5. Write the DemonSlayer class so that the code gives the expected output.\n",
        "\n",
        "[You are not allowed to change the code below]\n",
        "\n",
        "```\n",
        "# Write your Class Code here\n",
        "tanjiro = DemonSlayer(\"Tanjiro\", \"Water Breathing\", 10, 10)\n",
        "print('Name:',tanjiro.name)\n",
        "print('Fighting Style:',tanjiro.style)\n",
        "print(f'Knows {tanjiro.number_of_technique} technique(s) and has killed {tanjiro.kill} demon(s)')\n",
        "print('===================')\n",
        "zenitsu = DemonSlayer(\"Zenitsu\", \"Thunder Breathing\", 1, 4)\n",
        "print('Name:',zenitsu.name)\n",
        "print('Fighting Style:',zenitsu.style)\n",
        "print(f'Knows {zenitsu.number_of_technique} technique(s) and has killed {zenitsu.kill} demon(s)')\n",
        "print('===================')\n",
        "inosuke = DemonSlayer(\"Inosuke\", \"Beast Breathing\", 5, 7)\n",
        "print('Name:',inosuke.name)\n",
        "print('Fighting Style:',inosuke.style)\n",
        "print(f'Knows {inosuke.number_of_technique} technique(s) and has killed {inosuke.kill} demon(s)')\n",
        "print('===================')\n",
        "print(f'{tanjiro.name}, {zenitsu.name}, {inosuke.name} knows total {tanjiro.number_of_technique + zenitsu.number_of_technique + inosuke.number_of_technique} techniques')\n",
        "print(f'They have killed total {tanjiro.kill + zenitsu.kill + inosuke.kill} demons')\n",
        "\n",
        "Output:\n",
        "\n",
        "Name: Tanjiro\n",
        "Fighting Style: Water Breathing\n",
        "Knows 10 technique(s) and has killed 10 demon(s)\n",
        "===================\n",
        "Name: Zenitsu\n",
        "Fighting Style: Thunder Breathing\n",
        "Knows 1 technique(s) and has killed 4 demon(s)\n",
        "===================\n",
        "Name: Inosuke\n",
        "Fighting Style: Beast Breathing\n",
        "Knows 5 technique(s) and has killed 7 demon(s)\n",
        "===================\n",
        "Tanjiro, Zenitsu, Inosuke knows total 16 techniques\n",
        "They have killed total 21 demons\n",
        "```\n"
      ]
    },
    {
      "cell_type": "code",
      "execution_count": 7,
      "metadata": {
        "colab": {
          "base_uri": "https://localhost:8080/"
        },
        "id": "lY6QpsLXk9ko",
        "outputId": "d2657ae9-f29b-4b79-fa30-2660efde20a7"
      },
      "outputs": [
        {
          "name": "stdout",
          "output_type": "stream",
          "text": [
            "Name: Tanjiro\n",
            "Fighting Style: Water Breathing\n",
            "Knows 10 technique(s) and has killed 10 demon(s)\n",
            "===================\n",
            "Name: Zenitsu\n",
            "Fighting Style: Thunder Breathing\n",
            "Knows 1 technique(s) and has killed 4 demon(s)\n",
            "===================\n",
            "Name: Inosuke\n",
            "Fighting Style: Beast Breathing\n",
            "Knows 5 technique(s) and has killed 7 demon(s)\n",
            "===================\n",
            "Tanjiro, Zenitsu, Inosuke knows total 16 techniques\n",
            "They have killed total 21 demons\n"
          ]
        }
      ],
      "source": [
        "class DemonSlayer:\n",
        "    def __init__(self, name, fight, ktec, kdem):\n",
        "        self.name = name\n",
        "        self.style = fight\n",
        "        self.number_of_technique = ktec\n",
        "        self.kill = kdem\n",
        "tanjiro = DemonSlayer(\"Tanjiro\", \"Water Breathing\", 10, 10)\n",
        "print('Name:',tanjiro.name)\n",
        "print('Fighting Style:',tanjiro.style)\n",
        "print(f'Knows {tanjiro.number_of_technique} technique(s) and has killed {tanjiro.kill} demon(s)')\n",
        "print('===================')\n",
        "zenitsu = DemonSlayer(\"Zenitsu\", \"Thunder Breathing\", 1, 4)\n",
        "print('Name:',zenitsu.name)\n",
        "print('Fighting Style:',zenitsu.style)\n",
        "print(f'Knows {zenitsu.number_of_technique} technique(s) and has killed {zenitsu.kill} demon(s)')\n",
        "print('===================')\n",
        "inosuke = DemonSlayer(\"Inosuke\", \"Beast Breathing\", 5, 7)\n",
        "print('Name:',inosuke.name)\n",
        "print('Fighting Style:',inosuke.style)\n",
        "print(f'Knows {inosuke.number_of_technique} technique(s) and has killed {inosuke.kill} demon(s)')\n",
        "print('===================')\n",
        "print(f'{tanjiro.name}, {zenitsu.name}, {inosuke.name} knows total {tanjiro.number_of_technique + zenitsu.number_of_technique + inosuke.number_of_technique} techniques')\n",
        "print(f'They have killed total {tanjiro.kill + zenitsu.kill + inosuke.kill} demons')"
      ]
    },
    {
      "cell_type": "markdown",
      "metadata": {
        "id": "AKx407PdlAsn"
      },
      "source": [
        "6. Write the box class so that the code gives the expected output.\n",
        "\n",
        "```\n",
        "#Write your class code here\n",
        "print(\"Box 1\")\n",
        "b1 = box([10,10,10])\n",
        "print(\"=========================\")\n",
        "print(\"Height:\", b1.height)\n",
        "print(\"Width:\", b1.width)\n",
        "print(\"Breadth:\", b1.breadth)\n",
        "print(\"-------------------------\")\n",
        "print(\"Box 2\")\n",
        "b2 = box((30,10,10))\n",
        "print(\"=========================\")\n",
        "print(\"Height:\", b2.height)\n",
        "print(\"Width:\", b2.width)\n",
        "print(\"Breadth:\", b2.breadth)\n",
        "b2.height = 300\n",
        "print(\"Updating Box 2!\")\n",
        "print(\"Height:\", b2.height)\n",
        "print(\"Width:\", b2.width)\n",
        "print(\"Breadth:\", b2.breadth)\n",
        "print(\"-------------------------\")\n",
        "print(\"Box 3\")\n",
        "b3 = b2\n",
        "print(\"Height:\", b3.height)\n",
        "print(\"Width:\", b3.width)\n",
        "print(\"Breadth:\", b3.breadth)\n",
        "\n",
        "Output:\n",
        "Box 1\n",
        "Creating a Box!\n",
        "Volume of the box is 1000 cubic units.\n",
        "=========================\n",
        "Height: 10\n",
        "Width: 10\n",
        "Breadth: 10\n",
        "---------------------------------------------\n",
        "Box 2\n",
        "Creating a Box!\n",
        "Volume of the box is 3000 cubic units.\n",
        "=========================\n",
        "Height: 30\n",
        "Width: 10\n",
        "Breadth: 10\n",
        "Updating Box 2!\n",
        "Height: 300\n",
        "Width: 10\n",
        "Breadth: 10\n",
        "---------------------------------------------\n",
        "Box 3\n",
        "Height: 300\n",
        "Width: 10\n",
        "Breadth: 10\n",
        "```"
      ]
    },
    {
      "cell_type": "code",
      "execution_count": 8,
      "metadata": {
        "colab": {
          "base_uri": "https://localhost:8080/"
        },
        "id": "uz2VeFg4lDpA",
        "outputId": "8ff1a634-f0ce-40ae-c219-5d4eb71465ab"
      },
      "outputs": [
        {
          "name": "stdout",
          "output_type": "stream",
          "text": [
            "Box 1\n",
            "Creating a Box!\n",
            "Volume of the box is 1000 cubic units.\n",
            "=========================\n",
            "Height: 10\n",
            "Width: 10\n",
            "Breadth: 10\n",
            "-------------------------\n",
            "Box 2\n",
            "Creating a Box!\n",
            "Volume of the box is 3000 cubic units.\n",
            "=========================\n",
            "Height: 30\n",
            "Width: 10\n",
            "Breadth: 10\n",
            "Updating Box 2!\n",
            "Height: 300\n",
            "Width: 10\n",
            "Breadth: 10\n",
            "-------------------------\n",
            "Box 3\n",
            "Height: 300\n",
            "Width: 10\n",
            "Breadth: 10\n"
          ]
        }
      ],
      "source": [
        "class box:\n",
        "    def __init__(self, hwb):\n",
        "        self.height = hwb[0]\n",
        "        self.width = hwb[1]\n",
        "        self.breadth = hwb[2]\n",
        "        print(f'Creating a Box!\\nVolume of the box is {self.height*self.width*self.breadth} cubic units.')\n",
        "print(\"Box 1\")\n",
        "b1 = box([10,10,10])\n",
        "print(\"=========================\")\n",
        "print(\"Height:\", b1.height)\n",
        "print(\"Width:\", b1.width)\n",
        "print(\"Breadth:\", b1.breadth)\n",
        "print(\"-------------------------\")\n",
        "print(\"Box 2\")\n",
        "b2 = box((30,10,10))\n",
        "print(\"=========================\")\n",
        "print(\"Height:\", b2.height)\n",
        "print(\"Width:\", b2.width)\n",
        "print(\"Breadth:\", b2.breadth)\n",
        "b2.height = 300\n",
        "print(\"Updating Box 2!\")\n",
        "print(\"Height:\", b2.height)\n",
        "print(\"Width:\", b2.width)\n",
        "print(\"Breadth:\", b2.breadth)\n",
        "print(\"-------------------------\")\n",
        "print(\"Box 3\")\n",
        "b3 = b2\n",
        "print(\"Height:\", b3.height)\n",
        "print(\"Width:\", b3.width)\n",
        "print(\"Breadth:\", b3.breadth)"
      ]
    },
    {
      "cell_type": "markdown",
      "metadata": {
        "id": "q725Ep_alIQb"
      },
      "source": [
        "7. Design the required class from the given code and the outputs.\n",
        "\n",
        "[You are not allowed to change the code below]\n",
        "\n",
        "Hint:\n",
        "\n",
        "Number of the border characters for the top and the bottom \n",
        "= 1 \n",
        "   + Number of spaces between the left side border and the first character of the button name \n",
        "   + Length of the button name \n",
        "   + Number of spaces between the right side border and the last character of the button name \n",
        "   + 1\n",
        "\n",
        "NOTE: Don’t count the space or any character from the button representation to solve this problem.\n",
        "\n",
        "```\n",
        "#Write your class code here\n",
        "\n",
        "word = \"CANCEL\"  \n",
        "spaces = 10\n",
        "border = 'x'\n",
        "b1 = buttons(word, spaces, border)\n",
        "print(\"=======================================================\")\n",
        "b2 = buttons(\"Notify\",3, '!')\n",
        "print(\"=======================================================\")\n",
        "b3 = buttons('SAVE PROGRESS', 5, '$')\n",
        "\n",
        "Output: \n",
        "\n",
        "CANCEL Button Specifications:\n",
        "Button name: CANCEL\n",
        "Number of the border characters for the top and the bottom: 28\n",
        "Number of spaces between the left side border and the first character of the button name: 10\n",
        "Number of spaces between the right side border and the last character of the button name: 10\n",
        "Characters representing the borders: x\n",
        "\n",
        "xxxxxxxxxxxxxxxxxxxxxxxxxxxx\n",
        "x          CANCEL          x\n",
        "xxxxxxxxxxxxxxxxxxxxxxxxxxxx\n",
        "=========================================================\n",
        "Notify Button Specifications:\n",
        "Button name: Notify\n",
        "Number of the border characters for the top and the bottom: 14\n",
        "Number of spaces between the left side border and the first character of the button name: 3\n",
        "Number of spaces between the right side border and the last character of the button name: 3\n",
        "Characters representing the borders: !\n",
        "\n",
        "!!!!!!!!!!!!!!\n",
        "!   Notify   !\n",
        "!!!!!!!!!!!!!!\n",
        "=========================================================\n",
        "SAVE PROGRESS Button Specifications:\n",
        "Button name: SAVE PROGRESS\n",
        "Number of the border characters for the top and the bottom: 25\n",
        "Number of spaces between the left side border and the first character of the button name: 5\n",
        "Number of spaces between the right side border and the last character of the button name: 5\n",
        "Characters representing the borders: $\n",
        "\n",
        "$$$$$$$$$$$$$$$$$$$$$$$$$\n",
        "$     SAVE PROGRESS     $\n",
        "$$$$$$$$$$$$$$$$$$$$$$$$$\n",
        "```"
      ]
    },
    {
      "cell_type": "code",
      "execution_count": 9,
      "metadata": {
        "colab": {
          "base_uri": "https://localhost:8080/"
        },
        "id": "n7RL-TBmlLBg",
        "outputId": "95f680e6-0456-43d9-8408-364f2cfed75a"
      },
      "outputs": [
        {
          "name": "stdout",
          "output_type": "stream",
          "text": [
            "CANCEL Button Specifications:\n",
            "Button Name: CANCEL\n",
            "Number of the border characters for the top and the bottom: 28\n",
            "Number of spaces between the left side border and the first character of the button name: 10\n",
            "Number of spaces between the right side border and the last character of the button name: 10\n",
            "Characters representing the borders: CANCEL\n",
            "\n",
            "xxxxxxxxxxxxxxxxxxxxxxxxxxxx\n",
            "x          CANCEL          x\n",
            "xxxxxxxxxxxxxxxxxxxxxxxxxxxx\n",
            "=======================================================\n",
            "Notify Button Specifications:\n",
            "Button Name: Notify\n",
            "Number of the border characters for the top and the bottom: 14\n",
            "Number of spaces between the left side border and the first character of the button name: 3\n",
            "Number of spaces between the right side border and the last character of the button name: 3\n",
            "Characters representing the borders: Notify\n",
            "\n",
            "!!!!!!!!!!!!!!\n",
            "!   Notify   !\n",
            "!!!!!!!!!!!!!!\n",
            "=======================================================\n",
            "SAVE PROGRESS Button Specifications:\n",
            "Button Name: SAVE PROGRESS\n",
            "Number of the border characters for the top and the bottom: 25\n",
            "Number of spaces between the left side border and the first character of the button name: 5\n",
            "Number of spaces between the right side border and the last character of the button name: 5\n",
            "Characters representing the borders: SAVE PROGRESS\n",
            "\n",
            "$$$$$$$$$$$$$$$$$$$$$$$$$\n",
            "$     SAVE PROGRESS     $\n",
            "$$$$$$$$$$$$$$$$$$$$$$$$$\n"
          ]
        }
      ],
      "source": [
        "class buttons:\n",
        "    def __init__(self,word, spaces, border):\n",
        "        self.word = word\n",
        "        self.spaces = spaces\n",
        "        self.border = border\n",
        "        sum = 2+self.spaces*2+len(self.word)\n",
        "        print(f'{self.word} Button Specifications:')\n",
        "        print(f'Button Name: {self.word}')\n",
        "        print(f'Number of the border characters for the top and the bottom: {sum}')\n",
        "        print(f'Number of spaces between the left side border and the first character of the button name: {self.spaces}')\n",
        "        print(f'Number of spaces between the right side border and the last character of the button name: {self.spaces}')\n",
        "        print(f'Characters representing the borders: {self.word}')\n",
        "        print(f\"\\n{self.border*sum}\\n{self.border+' '*self.spaces+self.word+' '*self.spaces+self.border}\\n{self.border*sum}\")\n",
        "word = \"CANCEL\"\n",
        "spaces = 10\n",
        "border = 'x'\n",
        "b1 = buttons(word, spaces, border)\n",
        "print(\"=======================================================\")\n",
        "b2 = buttons(\"Notify\",3, '!')\n",
        "print(\"=======================================================\")\n",
        "b3 = buttons('SAVE PROGRESS', 5, '$')"
      ]
    },
    {
      "cell_type": "markdown",
      "metadata": {
        "id": "tbZKlkrd8FaS"
      },
      "source": [
        "8. Suppose your little sibling wants your help to check his math homework. He is done with his homework but wants you to see if all his results are correct. Since the student with all correct results gets 3 stars. However, you want your brother to check this on his own. So, you design a calculator for him in python. You could have given your scientific calculator but you wanted to give him a basic calculator and also wanted to see if you can even design one.\n",
        "\n",
        "Subtasks:\n",
        "\n",
        "1.Create a class called Calculator.\n",
        "\n",
        "2.Your class shall have 1 constructor and 4 methods, namely add, subtract, multiply and divide.\n",
        "\n",
        "3.Now, create an object of your class. After creating an object, it should print “Let’s Calculate!”\n",
        "\n",
        "4.Then take 3 inputs from the user: first value, operator, second value\n",
        "\n",
        "5.Now based on the given operator, call the required method and print the result.\n",
        "\n",
        "```\n",
        "Sample Input:\n",
        "1\n",
        "+\n",
        "2\n",
        "Sample Output:\n",
        "Let’s Calculate!\n",
        "Value 1: 1\n",
        "Operator: +\n",
        "Value 2: 2\n",
        "Result:  3\n",
        "```"
      ]
    },
    {
      "cell_type": "code",
      "execution_count": 10,
      "metadata": {
        "colab": {
          "base_uri": "https://localhost:8080/"
        },
        "id": "MujShnjz8JnT",
        "outputId": "b23bb1c8-5f65-4681-a031-b25df8682a25"
      },
      "outputs": [
        {
          "name": "stdout",
          "output_type": "stream",
          "text": [
            "1\n",
            "+\n",
            "2\n",
            "Let's Calculate!\n",
            "Value 1: 1\n",
            "Operator: +\n",
            "Value 2: 2\n",
            "Result: 3\n"
          ]
        }
      ],
      "source": [
        "class Calculator:\n",
        "    def __init__ (self):\n",
        "        pass\n",
        "    def Calculate(self,val1,op,val2):\n",
        "        self.val1 = val1\n",
        "        self.op = op\n",
        "        self.val2 = val2\n",
        "        val = 0\n",
        "        print(\"Let's Calculate!\")\n",
        "        print(f'Value 1: {self.val1}')\n",
        "        print(f'Operator: {self.op}')\n",
        "        print(f'Value 2: {self.val2}')\n",
        "        if self.op == '+':\n",
        "            print(f'Result: {self.add()}')\n",
        "        elif self.op == '-':\n",
        "            print(f'Result: {self.subtract()}')\n",
        "        elif self.op == '*':\n",
        "            print(f'Result: {self.multiply()}')\n",
        "        else:\n",
        "            print(f'Result: {self.divide()}')\n",
        "    def add(self):\n",
        "        val = self.val1 + self.val2\n",
        "        return val\n",
        "    def subtract(self):\n",
        "        val = self.val1 - self.val2\n",
        "        return val\n",
        "    def multiply(self):\n",
        "        val = self.val1 * self.val2\n",
        "        return val\n",
        "    def divide(self):\n",
        "        val = self.val1 / self.val2\n",
        "        return val\n",
        "s = Calculator()\n",
        "val1 = int(input())\n",
        "op = input()\n",
        "val2 = int(input())\n",
        "s.Calculate(val1,op,val2)"
      ]
    },
    {
      "cell_type": "markdown",
      "metadata": {
        "id": "ZntnCmZJ8OEE"
      },
      "source": [
        "9. Implement the design of the Patient class so that the following output is produced:\n",
        "[For BMI, the formula is BMI = weight/height^2, where weight is in kg and height in meters] \n",
        "Driver Code\tOutput\n",
        "\n",
        "```\n",
        "# Write your code here\n",
        "\n",
        "p1 = Patient(\"A\", 55, 63.0, 158.0)\n",
        "p1.printDetails()\n",
        "print(\"====================\")\n",
        "p2 = Patient(\"B\", 53, 61.0, 149.0)\n",
        "p2.printDetails()\n",
        "\n",
        "Output:\n",
        "Name: A\n",
        "Age: 55\n",
        "Weight: 63.0 kg\n",
        "Height: 158.0 cm\n",
        "BMI: 25.236340330075304\n",
        "====================\n",
        "Name: B\n",
        "Age: 53\n",
        "Weight: 61.0 kg\n",
        "Height: 149.0 cm\n",
        "BMI: 27.476239809017613\n",
        "``` "
      ]
    },
    {
      "cell_type": "code",
      "execution_count": 11,
      "metadata": {
        "colab": {
          "base_uri": "https://localhost:8080/"
        },
        "id": "2HYACFsi8RdN",
        "outputId": "eda2fda4-d552-4677-8702-df401f4998d5"
      },
      "outputs": [
        {
          "name": "stdout",
          "output_type": "stream",
          "text": [
            "Name: A\n",
            "Age: 55\n",
            "Weight: 63.0 kg\n",
            "Height: 158.0 cm\n",
            "BMI: 25.236340330075304\n",
            "====================\n",
            "Name: B\n",
            "Age: 53\n",
            "Weight: 61.0 kg\n",
            "Height: 149.0 cm\n",
            "BMI: 27.476239809017613\n"
          ]
        }
      ],
      "source": [
        "class Patient:\n",
        "    def __init__(self,name, age, weight, height):\n",
        "        self.name = name\n",
        "        self.age = age\n",
        "        self.weight = weight\n",
        "        self.height = height\n",
        "    def printDetails(self):\n",
        "        print(f'Name: {self.name}')\n",
        "        print(f'Age: {self.age}')\n",
        "        print(f'Weight: {self.weight} kg')\n",
        "        print(f'Height: {self.height} cm')\n",
        "        print(f'BMI: {self.weight/((self.height/100)**2)}')\n",
        "p1 = Patient(\"A\", 55, 63.0, 158.0)\n",
        "p1.printDetails()\n",
        "print(\"====================\")\n",
        "p2 = Patient(\"B\", 53, 61.0, 149.0)\n",
        "p2.printDetails()"
      ]
    },
    {
      "cell_type": "markdown",
      "metadata": {
        "id": "7gR338-k8V1l"
      },
      "source": [
        "10. Design a “Vehicle” class. A vehicle assumes that the whole world is a 2-dimensional graph paper. It maintains its x and y coordinates (both are integers). Any new object created of the Vehicle class will always start at the coordinates (0,0). \n",
        "\n",
        "It must have methods to move up, down, left, right and a print_position() method for printing the current coordinate.\n",
        "\n",
        "Note: All moves are 1 step. That means a single call to any move method changes the value of either x or y or both by 1.\n",
        "\n",
        "[You are not allowed to change the code below]\n",
        "\n",
        "```\n",
        "# Write your class here\n",
        "\n",
        "car = Vehicle()\n",
        "car.print_position()\n",
        "car.moveUp()\n",
        "car.print_position()\n",
        "car.moveLeft()\n",
        "car.print_position()\n",
        "car.moveDown()\n",
        "car.print_position()\n",
        "car.moveRight()\n",
        "\n",
        "OUTPUT\n",
        "(0,0)\n",
        "(0,1)\n",
        "(-1,1)\n",
        "(-1,0)\n",
        "```"
      ]
    },
    {
      "cell_type": "code",
      "execution_count": 12,
      "metadata": {
        "colab": {
          "base_uri": "https://localhost:8080/"
        },
        "id": "GJUCWfaS8Z0X",
        "outputId": "23b2f34f-d9bb-49fd-ca6e-9687cf02114b"
      },
      "outputs": [
        {
          "name": "stdout",
          "output_type": "stream",
          "text": [
            "(0, 0)\n",
            "(0, 1)\n",
            "(-1, 1)\n",
            "(-1, 0)\n"
          ]
        }
      ],
      "source": [
        "class Vehicle:\n",
        "    def __init__(self):\n",
        "        self.x = 0\n",
        "        self.y = 0\n",
        "    def print_position(self):\n",
        "        print((self.x, self.y))\n",
        "    def moveUp(self):\n",
        "        self.y+=1\n",
        "    def moveLeft(self):\n",
        "        self.x-=1\n",
        "    def moveDown(self):\n",
        "        self.y-=1\n",
        "    def moveRight(self):\n",
        "        self.x+=1\n",
        "car = Vehicle()\n",
        "car.print_position()\n",
        "car.moveUp()\n",
        "car.print_position()\n",
        "car.moveLeft()\n",
        "car.print_position()\n",
        "car.moveDown()\n",
        "car.print_position()\n",
        "car.moveRight()"
      ]
    },
    {
      "cell_type": "markdown",
      "metadata": {
        "id": "HXFtw0p70xMt"
      },
      "source": [
        "11. Design a class Shape for the given code below.\n",
        "\n",
        "* Write a class Shape.\n",
        "\n",
        "* Write the required constructor that takes 3 parameters and initialize the instance variables accordingly.\n",
        "\n",
        "* Write a method area() that prints the area.\n",
        "\n",
        "Hint: the area method can calculate only for the shapes: Triangle, Rectangle, Rhombus, and Square. So, you have to use conditions inside this method\n",
        "\n",
        "For this task, assume that --\n",
        "\n",
        "* for a triangle, the arguments passed are the base and height\n",
        "* for a rhombus, the arguments passed are the diagonals\n",
        "* for a square or rectangle, the arguments passed are the sides.\n",
        "\n",
        "```\n",
        "# Write your code here\n",
        "\n",
        "Driver Code\n",
        "\n",
        "triangle = Shape(\"Triangle\",10,25)\n",
        "triangle.area()\n",
        "print(\"==========================\")\n",
        "square = Shape(\"Square\",10,10)\n",
        "square.area()\n",
        "print(\"==========================\")\n",
        "rhombus = Shape(\"Rhombus\",18,25)\n",
        "rhombus.area()\n",
        "print(\"==========================\")\n",
        "rectangle = Shape(\"Rectangle\",15,30)\n",
        "rectangle.area()\n",
        "print(\"==========================\")\n",
        "trapezium = Shape(\"Trapezium\",15,30)\n",
        "trapezium.area()\n",
        "\n",
        "Output\n",
        "\n",
        "Area: 125.0\n",
        "==========================\n",
        "Area: 100\n",
        "==========================\n",
        "Area: 225.0\n",
        "==========================\n",
        "Area: 450\n",
        "==========================\n",
        "Area: Shape unknown\n",
        "```"
      ]
    },
    {
      "cell_type": "code",
      "execution_count": 13,
      "metadata": {
        "colab": {
          "base_uri": "https://localhost:8080/"
        },
        "id": "6xXi4Kt23bxt",
        "outputId": "08fd7bbf-360e-46ac-dd90-50ca4e1c5f55"
      },
      "outputs": [
        {
          "name": "stdout",
          "output_type": "stream",
          "text": [
            "Area: 125.0\n",
            "==========================\n",
            "Area: 100\n",
            "==========================\n",
            "Area: 225.0\n",
            "==========================\n",
            "Area: 450\n",
            "==========================\n",
            "Area: Shape Unknown\n"
          ]
        }
      ],
      "source": [
        "class Shape:\n",
        "  def __init__(self,typ,b,h):\n",
        "    self.typ = typ\n",
        "    self.side1 = b\n",
        "    self.side2 = h\n",
        "  def area(self):\n",
        "    if self.typ == 'Triangle' or self.typ == 'Rhombus':\n",
        "      print(f'Area: {0.5*self.side1*self.side2}')\n",
        "    elif self.typ == 'Square' or self.typ == 'Rectangle':\n",
        "      print(f'Area: {self.side1*self.side2}')\n",
        "    else:\n",
        "      print(f'Area: Shape Unknown')\n",
        "triangle = Shape(\"Triangle\",10,25)\n",
        "triangle.area()\n",
        "print(\"==========================\")\n",
        "square = Shape(\"Square\",10,10)\n",
        "square.area()\n",
        "print(\"==========================\")\n",
        "rhombus = Shape(\"Rhombus\",18,25)\n",
        "rhombus.area()\n",
        "print(\"==========================\")\n",
        "rectangle = Shape(\"Rectangle\",15,30)\n",
        "rectangle.area()\n",
        "print(\"==========================\")\n",
        "trapezium = Shape(\"Trapezium\",15,30)\n",
        "trapezium.area()"
      ]
    },
    {
      "cell_type": "markdown",
      "metadata": {
        "id": "MecTlirr4IPl"
      },
      "source": [
        "12. Implement the design of the Calculator class so that the following output is produced:\n",
        "\n",
        "```\n",
        "Driver Code\n",
        "\n",
        "# Write your code here\n",
        "\n",
        "c1 = Calculator()\n",
        "print(\"==================\")\n",
        "val = c1.calculate(10, 20, '+')\n",
        "print(\"Returned value:\", val)\n",
        "c1.showCalculation()\n",
        "print(\"==================\")\n",
        "val = c1.calculate(val, 10, '-')\n",
        "print(\"Returned value:\", val)\n",
        "c1.showCalculation()\n",
        "print(\"==================\")\n",
        "val = c1.calculate(val, 5, '*')\n",
        "print(\"Returned value:\", val)\n",
        "c1.showCalculation()\n",
        "print(\"==================\")\n",
        "val = c1.calculate(val, 16, '/')\n",
        "print(\"Returned value:\", val)\n",
        "c1.showCalculation()\n",
        "\n",
        "Output\n",
        "\n",
        "Calculator is ready!\n",
        "==================\n",
        "Returned value: 30\n",
        "10 + 20 = 30\n",
        "==================\n",
        "Returned value: 20\n",
        "30 - 10 = 20\n",
        "==================\n",
        "Returned value: 100\n",
        "20 * 5 = 100\n",
        "==================\n",
        "Returned value: 6.25\n",
        "100 / 16 = 6.25\n",
        "```"
      ]
    },
    {
      "cell_type": "code",
      "execution_count": 14,
      "metadata": {
        "colab": {
          "base_uri": "https://localhost:8080/"
        },
        "id": "sz2kvMmc4XfF",
        "outputId": "6db68331-ae9a-4c6b-edad-774703ef2a97"
      },
      "outputs": [
        {
          "name": "stdout",
          "output_type": "stream",
          "text": [
            "Calculator is ready!\n",
            "==================\n",
            "Returned value: 30\n",
            "10 + 20 = 30\n",
            "==================\n",
            "Returned value: 20\n",
            "30 - 10 = 20\n",
            "==================\n",
            "Returned value: 100\n",
            "20 * 5 = 100\n",
            "==================\n",
            "Returned value: 6.25\n",
            "100 / 16 = 6.25\n"
          ]
        }
      ],
      "source": [
        "class Calculator:\n",
        "  def __init__(self):\n",
        "    print('Calculator is ready!')\n",
        "  def calculate(self, val1, val2, sign):\n",
        "    self.value1 = val1\n",
        "    self.value2 = val2\n",
        "    self.sign = sign\n",
        "    sum = 0\n",
        "    if self.sign == '+':\n",
        "      sum = self.value1 + self.value2\n",
        "    elif self.sign == '-':\n",
        "      sum = self.value1 - self.value2\n",
        "    elif self.sign == '*':\n",
        "      sum = self.value1 * self.value2\n",
        "    else:\n",
        "      sum = self.value1 / self.value2\n",
        "    return sum\n",
        "  def showCalculation(self):\n",
        "    print(f'{self.value1} {self.sign} {self.value2} = {val}')\n",
        "c1 = Calculator()\n",
        "print(\"==================\")\n",
        "val = c1.calculate(10, 20, '+')\n",
        "print(\"Returned value:\", val)\n",
        "c1.showCalculation()\n",
        "print(\"==================\")\n",
        "val = c1.calculate(val, 10, '-')\n",
        "print(\"Returned value:\", val)\n",
        "c1.showCalculation()\n",
        "print(\"==================\")\n",
        "val = c1.calculate(val, 5, '*')\n",
        "print(\"Returned value:\", val)\n",
        "c1.showCalculation()\n",
        "print(\"==================\")\n",
        "val = c1.calculate(val, 16, '/')\n",
        "print(\"Returned value:\", val)\n",
        "c1.showCalculation()"
      ]
    },
    {
      "cell_type": "markdown",
      "metadata": {
        "id": "1V2TKT9m8rXx"
      },
      "source": [
        "13. Design the Programmer class in such a way so that the following code provides the expected output.\n",
        "\n",
        "Hint:\n",
        "\n",
        "o Write the constructor with appropriate printing and multiple arguments.\n",
        "\n",
        "o Write the addExp() method with appropriate printing and argument.\n",
        "\n",
        "o Write the printDetails() method\n",
        "\n",
        "[You are not allowed to change the code below]\n",
        "\n",
        "```\n",
        "# Write your code here.\n",
        "p1 = Programmer(\"Ethen Hunt\", \"Java\", 10)\n",
        "p1.printDetails()\n",
        "print('--------------------------')\n",
        "p2 = Programmer(\"James Bond\", \"C++\", 7)\n",
        "p2.printDetails()\n",
        "print('--------------------------')\n",
        "p3 = Programmer(\"Jon Snow\", \"Python\", 4)\n",
        "p3.printDetails()\n",
        "p3.addExp(5)\n",
        "p3.printDetails()\n",
        "\n",
        "OUTPUT:\n",
        "Horray! A new programmer is born\n",
        "Name: Ethen Hunt\n",
        "Language: Java\n",
        "Experience: 10 years.\n",
        "--------------------------      \n",
        "Horray! A new programmer is born\n",
        "Name: James Bond\n",
        "Language: C++\n",
        "Experience: 7 years.\n",
        "--------------------------\n",
        "Horray! A new programmer is born\n",
        "Name: Jon Snow\n",
        "Language: Python\n",
        "Experience: 4 years.\n",
        "Updating experience of Jon Snow\n",
        "Name: Jon Snow\n",
        "Language: Python\n",
        "Experience: 9 years.\n",
        "```"
      ]
    },
    {
      "cell_type": "code",
      "execution_count": 15,
      "metadata": {
        "colab": {
          "base_uri": "https://localhost:8080/"
        },
        "id": "QIBEslnt8t7B",
        "outputId": "393d9abc-5034-45c7-c114-08bdcd153f1f"
      },
      "outputs": [
        {
          "name": "stdout",
          "output_type": "stream",
          "text": [
            "Horray! A new programmer is born\n",
            "Name: Ethen Hunt\n",
            "Language: Java\n",
            "Experience: 10\n",
            "--------------------------\n",
            "Horray! A new programmer is born\n",
            "Name: James Bond\n",
            "Language: C++\n",
            "Experience: 7\n",
            "--------------------------\n",
            "Horray! A new programmer is born\n",
            "Name: Jon Snow\n",
            "Language: Python\n",
            "Experience: 4\n",
            "Updating experience of Jon Snow\n",
            "Name: Jon Snow\n",
            "Language: Python\n",
            "Experience: 9\n"
          ]
        }
      ],
      "source": [
        "class Programmer:\n",
        "    def __init__(self, name, language, experience):\n",
        "        self.name = name\n",
        "        self.language = language\n",
        "        self.experience = experience\n",
        "        print('Horray! A new programmer is born')\n",
        "    def printDetails(self):\n",
        "        print(f'Name: {self.name}')\n",
        "        print(f'Language: {self.language}')\n",
        "        print(f'Experience: {self.experience}')\n",
        "    def addExp(self,add):\n",
        "        self.add = add\n",
        "        self.experience += self.add\n",
        "        print(f'Updating experience of {self.name}')\n",
        "p1 = Programmer(\"Ethen Hunt\", \"Java\", 10)\n",
        "p1.printDetails()\n",
        "print('--------------------------')\n",
        "p2 = Programmer(\"James Bond\", \"C++\", 7)\n",
        "p2.printDetails()\n",
        "print('--------------------------')\n",
        "p3 = Programmer(\"Jon Snow\", \"Python\", 4)\n",
        "p3.printDetails()\n",
        "p3.addExp(5)\n",
        "p3.printDetails()"
      ]
    },
    {
      "attachments": {},
      "cell_type": "markdown",
      "metadata": {},
      "source": [
        "#LAB4"
      ]
    },
    {
      "attachments": {},
      "cell_type": "markdown",
      "metadata": {},
      "source": [
        "\n",
        "1. Write a class called Customer with the required constructor and methods to get the following output. \n",
        "\n",
        "Subtasks:\n",
        "\n",
        "1.Create a class called Customer.\n",
        "\n",
        "2.Create the required constructor.\n",
        "\n",
        "3.Create a method called greet that works if no arguments are passed or if one argument is passed. (Hint: You may need to use the keyword NONE)\n",
        "\n",
        "4.Create a method called purchase that can take as many arguments as the user wants to give.\n",
        "\n",
        "[You are not allowed to change the code below]\n",
        "\n",
        "```\n",
        "# Write your codes for subtasks 1-4 here.\n",
        "\n",
        "customer_1 = Customer(\"Sam\")\n",
        "customer_1.greet()\n",
        "customer_1.purchase(\"chips\", \"chocolate\", \"orange juice\")\n",
        "print(\"-----------------------------\")\n",
        "customer_2 = Customer(\"David\")\n",
        "customer_2.greet(\"David\")\n",
        "customer_2.purchase(\"orange juice\")\n",
        "\n",
        "OUTPUT:\n",
        "Hello! \n",
        "Sam, you purchased 3 item(s): \n",
        "chips\n",
        "chocolate\n",
        "orange juice\n",
        "-----------------------------\n",
        "Hello David!\n",
        "David, you purchased 1 item(s): \n",
        "orange juice\n",
        "```\n"
      ]
    },
    {
      "cell_type": "code",
      "execution_count": 1,
      "metadata": {},
      "outputs": [
        {
          "name": "stdout",
          "output_type": "stream",
          "text": [
            "Hello!\n",
            "Sam, you purchased 3 item(s):\n",
            "chips\n",
            "chocolate\n",
            "orange juice\n",
            "-----------------------------\n",
            "Hello David!\n",
            "David, you purchased 1 item(s):\n",
            "orange juice\n"
          ]
        }
      ],
      "source": [
        "class Customer:\n",
        "    def __init__(self,name):\n",
        "        self.name = name\n",
        "    def greet(self,cust = ''):\n",
        "        self.cust = cust\n",
        "        if self.cust == '':\n",
        "            print('Hello!')\n",
        "        else:\n",
        "            print(f'Hello {self.cust}!')\n",
        "    def purchase(self,*n):\n",
        "        print(f'{self.name}, you purchased {len(n)} item(s):')\n",
        "        for i in n:\n",
        "            print(i)\n",
        "customer_1 = Customer(\"Sam\")\n",
        "customer_1.greet()\n",
        "customer_1.purchase(\"chips\", \"chocolate\", \"orange juice\")\n",
        "print(\"-----------------------------\")\n",
        "customer_2 = Customer(\"David\")\n",
        "customer_2.greet(\"David\")\n",
        "customer_2.purchase(\"orange juice\")"
      ]
    },
    {
      "attachments": {},
      "cell_type": "markdown",
      "metadata": {},
      "source": [
        "2. The Giant Panda Protection and Research Center in the Sichuan province of southwest China, actually employs a category of workers known as panda nannies. The primary responsibility is to play with adorable panda cubs and name them, determine gender, keep track of their age and hours they sleep. So being a programmer panda nanny, you will create a code that will do all these works for you.\n",
        "\n",
        " \n",
        "1.Create a class named Panda and also write the constructor.\n",
        "\n",
        "2.Access the instance attributes and print them in the given format.\n",
        "\n",
        "3.Call instance methods to keep track of their daily hours of sleep.\n",
        "\n",
        "4.Suppose consulting with other panda nannies you have set some criteria based on which you will make their diet plans. The criteria are:\n",
        "\n",
        "          ** Mixed Veggies for pandas having 3 to 5 hours (included) of sleep daily.\n",
        "\n",
        "         ** Eggplant & Tofu for pandas having 6 to 8 hours (included) of sleep daily.\n",
        "\n",
        "         ** Broccoli Chicken for pandas having 9 to 11 hours (included) of sleep daily.\n",
        "\n",
        "         ** Lastly if no arguments are passed then just give it bamboo leaves.\n",
        "\n",
        "Now handle this problem modifying the method designed to keep track of their daily hours of sleep and determine diet plan using method overloading.\n",
        "\n",
        "[You are not allowed to change the code below]\n",
        "\n",
        "```\n",
        "#Write your code here for subtasks 1-4.\n",
        " \n",
        "panda1 = Panda(\"Kunfu\",\"Male\", 5)\n",
        "panda2=Panda(\"Pan Pan\",\"Female\",3)\n",
        "panda3=Panda(\"Ming Ming\",\"Female\",8)\n",
        "\n",
        "print(\"{} is a {} Panda Bear who is {} years old\".format(panda1.name,panda1.gender,panda1.age))\n",
        "\n",
        "print(\"{} is a {} Panda Bear who is {} years old\".format(panda2.name,panda2.gender,panda2.age))\n",
        "\n",
        "print(\"{} is a {} Panda Bear who is {} years old\".format(panda3.name,panda3.gender,panda3.age))\n",
        "print(\"===========================\")\n",
        "print(panda2.sleep(10))\n",
        "print(panda1.sleep(4))\n",
        "print(panda3.sleep())\n",
        "     \n",
        "OUTPUT: \n",
        "Kunfu is a Male Panda Bear who is 5 years old\n",
        "Pan Pan is a Female Panda Bear who is 3 years old\n",
        "Ming Ming is a Female Panda Bear who is 8 years old\n",
        "===========================\n",
        "Pan Pan sleeps 10 hours daily and should have Broccoli Chicken\n",
        "Kunfu sleeps 4 hours daily and should have Mixed Veggies\n",
        "Ming Ming's duration is unknown thus should have only  bamboo leaves\n",
        "```\n"
      ]
    },
    {
      "cell_type": "code",
      "execution_count": 2,
      "metadata": {},
      "outputs": [
        {
          "name": "stdout",
          "output_type": "stream",
          "text": [
            "Kunfu is a Male Panda Bear who is 5 years old\n",
            "Pan Pan is a Female Panda Bear who is 3 years old\n",
            "Ming Ming is a Female Panda Bear who is 8 years old\n",
            "===========================\n",
            "Pan Pan sleeps 10 daily and should have Broccoli Chicken\n",
            "Kunfu sleeps 4 daily and should have Mixed Veggies\n",
            "Ming Ming's duration is unknown thus should have only bamboo leaves\n"
          ]
        }
      ],
      "source": [
        "class Panda:\n",
        "    def __init__(self, name, gender, age):\n",
        "        self.name = name\n",
        "        self.gender = gender\n",
        "        self.age = age\n",
        "    def sleep(self,integer = 0):\n",
        "        self.integer = integer\n",
        "        if self.integer >= 3 and self.integer <= 5:\n",
        "            return f'{self.name} sleeps {self.integer} daily and should have Mixed Veggies'\n",
        "        elif self.integer >= 6 and self.integer <= 8:\n",
        "            return f'{self.name} sleeps {self.integer} daily and should have Eggplant & Tofu'\n",
        "        elif self.integer >= 9 and self.integer <= 11:\n",
        "            return f'{self.name} sleeps {self.integer} daily and should have Broccoli Chicken'\n",
        "        elif self.integer == 0:\n",
        "            return f\"{self.name}'s duration is unknown thus should have only bamboo leaves\"\n",
        "panda1 = Panda(\"Kunfu\",\"Male\", 5)\n",
        "panda2=Panda(\"Pan Pan\",\"Female\",3)\n",
        "panda3=Panda(\"Ming Ming\",\"Female\",8)\n",
        "\n",
        "print(\"{} is a {} Panda Bear who is {} years old\".format(panda1.name,panda1.gender,panda1.age))\n",
        "\n",
        "print(\"{} is a {} Panda Bear who is {} years old\".format(panda2.name,panda2.gender,panda2.age))\n",
        "\n",
        "print(\"{} is a {} Panda Bear who is {} years old\".format(panda3.name,panda3.gender,panda3.age))\n",
        "print(\"===========================\")\n",
        "print(panda2.sleep(10))\n",
        "print(panda1.sleep(4))\n",
        "print(panda3.sleep())"
      ]
    },
    {
      "attachments": {},
      "cell_type": "markdown",
      "metadata": {},
      "source": [
        "3. Analyze the given code below to write Cat class to get the output as shown.\n",
        "\n",
        "Hints:\n",
        "\n",
        "●Remember, the constructor is a special method. Here, you have to deal with constructor overloading which is similar to method overloading.\n",
        "\n",
        "●You may need to use the keyword None\n",
        "\n",
        "●Your class should have 2 variables\n",
        "\n",
        "[You are not allowed to change the code below]\n",
        "\n",
        "```\n",
        "#Write your code here\n",
        " \n",
        "c1 = Cat()\n",
        "c2 = Cat(\"Black\")\n",
        "c3 = Cat(\"Brown\", \"jumping\")\n",
        "c4 = Cat(\"Red\", \"purring\")\n",
        "c1.printCat()\n",
        "c2.printCat()\n",
        "c3.printCat()\n",
        "c4.printCat()\n",
        "c1.changeColor(\"Blue\")\n",
        "c3.changeColor(\"Purple\")\n",
        "c1.printCat()\n",
        "c3.printCat()\n",
        "\n",
        "OUTPUT\n",
        "White cat is sitting\n",
        "Black cat is sitting\n",
        "Brown cat is jumping\n",
        "Red cat is purring\n",
        "Blue cat is sitting\n",
        "Purple cat is jumping\n",
        "```"
      ]
    },
    {
      "cell_type": "code",
      "execution_count": 3,
      "metadata": {},
      "outputs": [
        {
          "name": "stdout",
          "output_type": "stream",
          "text": [
            "White cat is sitting\n",
            "Black cat is sitting\n",
            "Brown cat is jumping\n",
            "Red cat is purring\n",
            "Blue cat is sitting\n",
            "Purple cat is jumping\n"
          ]
        }
      ],
      "source": [
        "class Cat:\n",
        "    def __init__(self, color='White', doing='sitting'):\n",
        "        self.color = color\n",
        "        self.doing = doing\n",
        "    def printCat(self):\n",
        "        print(f'{self.color} cat is {self.doing}')\n",
        "    def changeColor(self, changecolor):\n",
        "        self.color = changecolor\n",
        "c1 = Cat()\n",
        "c2 = Cat(\"Black\")\n",
        "c3 = Cat(\"Brown\", \"jumping\")\n",
        "c4 = Cat(\"Red\", \"purring\")\n",
        "c1.printCat()\n",
        "c2.printCat()\n",
        "c3.printCat()\n",
        "c4.printCat()\n",
        "c1.changeColor(\"Blue\")\n",
        "c3.changeColor(\"Purple\")\n",
        "c1.printCat()\n",
        "c3.printCat()"
      ]
    },
    {
      "cell_type": "markdown",
      "metadata": {
        "id": "80OpNPMn92NS"
      },
      "source": [
        "#QUIZ"
      ]
    },
    {
      "cell_type": "markdown",
      "metadata": {
        "id": "RYVRw41d95Fz"
      },
      "source": [
        "**Quiz 01(SEC01)**\n",
        "\n",
        "Write a python function that will take a string as a parameter and returns a student database for each student as a form of a dictionary as given in the sample output.\n",
        "\n",
        "Note: Three student's information (Name, ID, Department) is given sequentially. The key order of output dictionary may vary.\n",
        "\n",
        "\n",
        "```\n",
        "Sample input                                          Sample output\n",
        "\n",
        "given_string = \"Nirob 17021211 CSE Sohel              { 'CSE': {'Name': 'Nirob', 'ID': 17021211},\n",
        "18204565 EEE Sumaiya 20119675 MNS\"                    'EEE': {'Name': 'Sohel', 'ID': 18204565},\n",
        "                                                      'MNS': {'Name': 'Sumaiya', 'ID': 20119675} }\n",
        "```"
      ]
    },
    {
      "cell_type": "code",
      "execution_count": null,
      "metadata": {
        "colab": {
          "base_uri": "https://localhost:8080/"
        },
        "id": "Oig3IdeE1Gnq",
        "outputId": "ed1b0343-d532-4ec6-9be5-a68b98a0ad34"
      },
      "outputs": [
        {
          "name": "stdout",
          "output_type": "stream",
          "text": [
            "{'CSE': {'Name': 'Nirob', 'ID': 1353663}, 'EEE': {'Name': 'Shoel', 'ID': 1727727}, 'MNS': {'Name': 'Sumaiya', 'ID': 3676667}}\n"
          ]
        }
      ],
      "source": [
        "def student_db(given_string = \"Nirob 1353663 CSE Shoel 1727727 EEE Sumaiya 3676667 MNS\"):\n",
        "  d = {}\n",
        "  gs = given_string.split()\n",
        "  for i in range(0,len(gs)-1,3):\n",
        "    d[gs[i+2]] = {'Name' : gs[i], 'ID' : int(gs[i+1])}\n",
        "  return d\n",
        "print(student_db())"
      ]
    },
    {
      "cell_type": "markdown",
      "metadata": {
        "id": "tTV9BhtkaDm4"
      },
      "source": [
        "**Quiz 01(SEC27)**\n",
        "\n",
        "**SET_A**\n",
        "\n",
        "Write a python program that takes a string from the user and creates a dictionary. The dictionary's keys will be each character's categories (Letters, Digits, Special Characters), and the values will be a list/tuple of those characters. See the sample input output below to understand the question better. \n",
        "\n",
        "```\n",
        "Sample Input 1:\n",
        "\"82  *  92  =  7544\"\n",
        "Sample Output 1:\n",
        "{'Digits': (8, 2, 9, 2, 7, 5, 4, 4), 'Special Characters': ('*', '='), 'Letters': []}\n",
        "Sample Input 2:\n",
        "\"CSE110  was  fun\" \n",
        "Sample output 2:\n",
        "{'Letters': ('C', 'S', 'E', 'w', 'a', 's', 'f', 'u', 'n'), 'Digits': (1, 1, 0), 'Special Characters': []}\n",
        "```\n"
      ]
    },
    {
      "cell_type": "code",
      "execution_count": null,
      "metadata": {
        "id": "X34KoDABaCYB"
      },
      "outputs": [],
      "source": []
    },
    {
      "cell_type": "markdown",
      "metadata": {
        "id": "7NVojK5jax8T"
      },
      "source": [
        "**Quiz 01(SEC27)**\n",
        "\n",
        "**SET_B**\n",
        "\n",
        "\n",
        "Write a function called less_than_average which takes a list of strings as a parameter and returns the average length of the strings and a list of strings which are shorter than the average length. Finally, print the returned result in the function call. No need to take user inputs.\n",
        "\n",
        "```\n",
        "Sample Input 1:\n",
        "print(less_than_average([\"I\",\"love\",\"Programming\",\"in\",\"Python\"]))\n",
        "Sample Output 1:\n",
        "(4.8, ['I', 'love', 'in'])\n",
        "\n",
        "\n",
        "Sample Input 2:\n",
        "print(less_than_average([\"CSE111's\",\"Final\",\"Examination\",\"is\",\"extremely\",\"easy\"]))\n",
        "Sample Output 2:\n",
        "(6.5, ['Final', 'is', 'easy'])\n",
        "\n",
        "```    \n",
        "Explanation 1: Here the length of \"I\" is 1, \"love\" is 4, \"Programming\" is 11, \"in\" is 2 and \"Python\" is 6, so the average of these 5 strings = (1+4+11+2+6)/5 = 4.8. Hence, the strings \"I\"-length 1, \"love\"-length 4, and \"in\"-length 2 are shorter than the average of 4.8.\n",
        "\n",
        "Explanation 2: Here average of these 6 strings= (8+5+11+2+9+4)/6 = 6.5. Hence, the strings \"Final\"-length 5, \"is\"-length 2, and \"easy\"-length 4 are shorter than the average of 6.5."
      ]
    },
    {
      "cell_type": "code",
      "execution_count": null,
      "metadata": {
        "id": "K1sRtyS-bJs_"
      },
      "outputs": [],
      "source": []
    }
  ],
  "metadata": {
    "colab": {
      "collapsed_sections": [
        "RPUxK6hr-iU8",
        "T2-pgPWUmYl5"
      ],
      "provenance": []
    },
    "kernelspec": {
      "display_name": "base",
      "language": "python",
      "name": "python3"
    },
    "language_info": {
      "codemirror_mode": {
        "name": "ipython",
        "version": 3
      },
      "file_extension": ".py",
      "mimetype": "text/x-python",
      "name": "python",
      "nbconvert_exporter": "python",
      "pygments_lexer": "ipython3",
      "version": "3.9.12"
    },
    "vscode": {
      "interpreter": {
        "hash": "ad2bdc8ecc057115af97d19610ffacc2b4e99fae6737bb82f5d7fb13d2f2c186"
      }
    }
  },
  "nbformat": 4,
  "nbformat_minor": 0
}
