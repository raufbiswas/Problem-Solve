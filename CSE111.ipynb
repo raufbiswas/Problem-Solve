{
  "cells": [
    {
      "cell_type": "markdown",
      "metadata": {
        "id": "RPUxK6hr-iU8"
      },
      "source": [
        "#CSE110(LAB1)"
      ]
    },
    {
      "cell_type": "markdown",
      "metadata": {
        "id": "md5vYZRRIF22"
      },
      "source": [
        "**String**"
      ]
    },
    {
      "cell_type": "markdown",
      "metadata": {
        "id": "5DCf6GkeIRch"
      },
      "source": [
        "1. From a given string, print the string in all uppercase if the number of uppercase letters is more than lowercase letters. Otherwise, if lowercase is greater or equal to uppercase letters, print all lowercase. The inputs will contain letters (A-Z, a-z) only.\n",
        "```\n",
        "Sample Input     Sample Output\n",
        "HOusE            HOUSE\n",
        "ApplE            apple\n",
        "BaNaNa           banana\n",
        "```"
      ]
    },
    {
      "cell_type": "code",
      "execution_count": null,
      "metadata": {
        "colab": {
          "base_uri": "https://localhost:8080/"
        },
        "id": "7jFpzGjWIr0o",
        "outputId": "79fe7de7-15bc-44b8-b9d4-feda541f586b"
      },
      "outputs": [
        {
          "name": "stdout",
          "output_type": "stream",
          "text": [
            "HOUSE\n"
          ]
        }
      ],
      "source": [
        "st = 'HOusE'\n",
        "s1 = ''\n",
        "s2 = ''\n",
        "for i in st:\n",
        "  a = ord(i)\n",
        "  if a>=65 and a<=90 :\n",
        "    s1+=i\n",
        "  else:\n",
        "    s2+=i\n",
        "if len(s1)>len(s2):\n",
        "  print(st.upper())\n",
        "else:\n",
        "  print(st.lower())"
      ]
    },
    {
      "cell_type": "markdown",
      "metadata": {
        "id": "tYxGNJPqKBdo"
      },
      "source": [
        "2. Given a string, print whether it is a number, word or mixed with digit and letters. If all the characters are numeric values, print NUMBER. If they are all letters, print WORD. If it is mixed, print MIXED.\n",
        "```\n",
        "Sample Input     Sample Output\n",
        "213213           NUMBER\n",
        "jhg231j213       MIXED\n",
        "Hello            WORD\n",
        "```"
      ]
    },
    {
      "cell_type": "code",
      "execution_count": null,
      "metadata": {
        "colab": {
          "base_uri": "https://localhost:8080/"
        },
        "id": "FZY8XDsrTcl6",
        "outputId": "b9e5f2a4-3efb-427d-ea98-a6d428a39403"
      },
      "outputs": [
        {
          "name": "stdout",
          "output_type": "stream",
          "text": [
            "MIXED\n"
          ]
        }
      ],
      "source": [
        "s = 'jhg231j213'\n",
        "s1 = ''\n",
        "s2 = ''\n",
        "l = len(s)\n",
        "for i in s:\n",
        "    a = ord(i)\n",
        "    if a >= 48 and a <= 57:\n",
        "        s1 += i\n",
        "    elif (a >= 65 and a <= 90) or (a >= 97 and a <= 122):\n",
        "        s2 += i\n",
        "if l == len(s1):\n",
        "    print('NUMBER')\n",
        "elif l == len(s2):\n",
        "    print('WORD')\n",
        "else:\n",
        "    print('MIXED')"
      ]
    },
    {
      "cell_type": "markdown",
      "metadata": {
        "id": "CBTFxcPwT4Ab"
      },
      "source": [
        "3. In a given string, there will be two uppercase letters in between some lowercase letters. Print the substring from the first uppercase letter to the last uppercase letter excluding them. If there are no letters in between them, print the word BLANK. It is guaranteed that there will be only two uppercase letters in the string.\n",
        "```\n",
        "Sample Input    Sample Output\n",
        "baNgladEsh      glad\n",
        "coDIng          BLANK\n",
        "```"
      ]
    },
    {
      "cell_type": "code",
      "execution_count": null,
      "metadata": {
        "colab": {
          "base_uri": "https://localhost:8080/"
        },
        "id": "2DyO1_wUUPp_",
        "outputId": "d994c0e8-085d-4e94-88f3-0480272520d9"
      },
      "outputs": [
        {
          "name": "stdout",
          "output_type": "stream",
          "text": [
            "glad\n"
          ]
        }
      ],
      "source": [
        "s = 'baNgladEsh'\n",
        "s1 = ''\n",
        "n = 0\n",
        "for i in range(len(s)):\n",
        "  a = ord(s[i]) \n",
        "  if a>= 65 and a<=90:\n",
        "    n+=1\n",
        "    if n != 2:\n",
        "      s1+=s[i+1::]\n",
        "    else:\n",
        "      x = len(s[i::])\n",
        "      s1 = s1[:-x:]\n",
        "      break\n",
        "if s1 == '':\n",
        "  print('BLANK')\n",
        "else:\n",
        "  print(s1)   "
      ]
    },
    {
      "cell_type": "markdown",
      "metadata": {
        "id": "Xo3Fh9QLS1Nr"
      },
      "source": [
        "4. Create a string from two given strings by concatenating common characters of the given strings.\n",
        "```\n",
        "Sample Input        Sample Output\n",
        "harry, hermione     hrrhr\n",
        "dean, tom           Nothing in common.\n",
        "```"
      ]
    },
    {
      "cell_type": "code",
      "execution_count": null,
      "metadata": {
        "colab": {
          "base_uri": "https://localhost:8080/"
        },
        "id": "MCYo-pXNTX81",
        "outputId": "5734edf9-618e-401a-a839-338525dc9aea"
      },
      "outputs": [
        {
          "name": "stdout",
          "output_type": "stream",
          "text": [
            "hrrhr\n"
          ]
        }
      ],
      "source": [
        "s1 = 'harry'\n",
        "s2 = 'hermione'\n",
        "s = ''\n",
        "for i in s1:\n",
        "  if i in s2:\n",
        "    s+=i\n",
        "for j in s2:\n",
        "  if j in s1:\n",
        "    s+=j\n",
        "if s == '':\n",
        "  print('Nothing in common.')\n",
        "else:\n",
        "  print(s)"
      ]
    },
    {
      "cell_type": "markdown",
      "metadata": {
        "id": "WyxmMXYbYnnF"
      },
      "source": [
        "5. Again, you have lost your USIS password!! You went to the registrar office and requested for a new password. This time, you need to follow some rules to set your password. Otherwise, they won't change it. The rules are\n",
        "\n",
        "At least one lowercase letter\n",
        "\n",
        "At least one uppercase letter\n",
        "\n",
        "At least one digit (0-9)\n",
        "\n",
        "At least one special character (_ , $ , #, @)\n",
        "\n",
        "Your task is to find whether a given password follows all those rules. If it breaks any rule, you have to print Lowercase Missing, Uppercase Missing, Digit Missing or Special Missing respective to the missing case. For more than one rule break, print all the rules that were broken (order doesn't matter). If the password is ok, print OK.\n",
        "```\n",
        "Sample Input         Sample Output\n",
        "\n",
        "ohMyBR@CU            Digit missing\n",
        "ohmybracu            Uppercase character missing, Digit missing, Special character missing\n",
        "OhMyBR@CU20          OK\n",
        "```"
      ]
    },
    {
      "cell_type": "code",
      "execution_count": null,
      "metadata": {
        "colab": {
          "base_uri": "https://localhost:8080/"
        },
        "id": "0b9tYnnGaLlj",
        "outputId": "0600cbda-eb0b-4741-db42-d5e333bf95e2"
      },
      "outputs": [
        {
          "name": "stdout",
          "output_type": "stream",
          "text": [
            "ADbh23\n",
            "Special character missing\n"
          ]
        }
      ],
      "source": [
        "inp =input()\n",
        "s=\"\"\n",
        "special = '_' , '$' , '#', '@'\n",
        "lw = True\n",
        "up = True\n",
        "sp = True\n",
        "dg = True\n",
        "for i in inp:\n",
        "  i = ord(i)\n",
        "  if i>=48 and i<=57:\n",
        "    dg = False\n",
        "  if i>=65 and i<=90:\n",
        "    up = False\n",
        "  if i>=97 and i<=122:\n",
        "    lw = False\n",
        "  if chr(i) in special:\n",
        "    sp = False\n",
        "if lw == True:\n",
        "  s += 'Lowercase character missing, '\n",
        "if up == True:\n",
        "  s += 'Uppercase character missing, '\n",
        "if dg == True:\n",
        "  s += 'Digit missing, '\n",
        "if sp == True:\n",
        "  s += 'Special character missing, '\n",
        "if s == '':\n",
        "  print('OK')\n",
        "else:\n",
        "  print(s[:len (s)-2:])"
      ]
    },
    {
      "cell_type": "markdown",
      "metadata": {
        "id": "8iXz_uNf-WcU"
      },
      "source": [
        "**List**"
      ]
    },
    {
      "cell_type": "markdown",
      "metadata": {
        "id": "FUScoplg-ZKo"
      },
      "source": [
        "1. Write a python program which prints the frequency of the numbers that were given as input by the user. Stop taking input when you find the string \"STOP\". Do not print the frequency of numbers that were not given as input.\n",
        "```\n",
        "Sample Input     \n",
        "10\n",
        "20\n",
        "20                 Sample Output\n",
        "30                 10 - 2 times\n",
        "10                 20 - 2 times\n",
        "50                 30 - 1 times\n",
        "90                 50 - 1 times\n",
        "STOP               90 - 1 times\n",
        "```"
      ]
    },
    {
      "cell_type": "code",
      "execution_count": null,
      "metadata": {
        "colab": {
          "base_uri": "https://localhost:8080/"
        },
        "id": "_V7zJ30r_BLB",
        "outputId": "96fe7827-328f-407f-acad-2fee69d73cb5"
      },
      "outputs": [
        {
          "name": "stdout",
          "output_type": "stream",
          "text": [
            "10\n",
            "20\n",
            "20\n",
            "30\n",
            "10\n",
            "50\n",
            "90\n",
            "STOP\n",
            "10 - 2 times\n",
            "20 - 2 times\n",
            "30 - 1 times\n",
            "50 - 1 times\n",
            "90 - 1 times\n"
          ]
        }
      ],
      "source": [
        "l = []\n",
        "l1 = []\n",
        "count = 0\n",
        "while True:\n",
        "  st = input()\n",
        "  if st == 'STOP':\n",
        "    break\n",
        "  else:\n",
        "    l1.append(int(st))\n",
        "for i in l1:\n",
        "  if i not in l:\n",
        "    l.append(i)\n",
        "for j in l:\n",
        "  for k in l1:\n",
        "    if j == k:\n",
        "      count+=1\n",
        "  print(f'{j} - {count} times')\n",
        "  count = 0"
      ]
    },
    {
      "cell_type": "markdown",
      "metadata": {
        "id": "cdPgO-FsJDdK"
      },
      "source": [
        "2. Write a python program that calculates the sum of N given lists and prints the highest sum and its respective list. Input starts with N and followed by N lists.\n",
        "```\n",
        "Sample Input       Sample Output\n",
        "4                  33\n",
        "1 2 3              [10, 11, 12]\n",
        "4 5 6\n",
        "10 11 12\n",
        "7 8 9\n",
        "```"
      ]
    },
    {
      "cell_type": "code",
      "execution_count": null,
      "metadata": {
        "colab": {
          "base_uri": "https://localhost:8080/"
        },
        "id": "Cr-h7xpEJaz2",
        "outputId": "c0bb5103-e9fd-4c66-b9c0-3e5d44a3f6e1"
      },
      "outputs": [
        {
          "name": "stdout",
          "output_type": "stream",
          "text": [
            "4\n",
            "1 2 3\n",
            "18 19 34\n",
            "11 12 13\n",
            "7 8 9\n",
            "71\n",
            "[18, 19, 34]\n"
          ]
        }
      ],
      "source": [
        "l=[]\n",
        "n=int(input())\n",
        "for i in range(n):\n",
        "  nl=[]\n",
        "  u=input().split()\n",
        "  for j in u:\n",
        "    nl.append(int(j))\n",
        "  l.append(nl)\n",
        "max=0\n",
        "index=0\n",
        "for k in range(len(l)):\n",
        "  sum=0\n",
        "  for m in l[k]:\n",
        "    sum+=m\n",
        "  if sum>max:\n",
        "    max=sum\n",
        "    index=k\n",
        "print(max)\n",
        "print(l[index])"
      ]
    },
    {
      "cell_type": "markdown",
      "metadata": {
        "id": "ckYFJ5LNkdHB"
      },
      "source": [
        "3. Write a python program that prints a list which contains cross multiplication between two given lists.\n",
        "```\n",
        "Sample Input          Sample Output\n",
        "2 3 6                 [6, 8, 10, 9, 12, 15, 18, 24, 30]\n",
        "3 4 5\n",
        "```"
      ]
    },
    {
      "cell_type": "code",
      "execution_count": null,
      "metadata": {
        "colab": {
          "base_uri": "https://localhost:8080/"
        },
        "id": "-rKLt7idkvi2",
        "outputId": "c6555f66-bea4-4bb8-e79b-493d48043892"
      },
      "outputs": [
        {
          "name": "stdout",
          "output_type": "stream",
          "text": [
            "[6, 8, 10, 9, 12, 15, 18, 24, 30]\n"
          ]
        }
      ],
      "source": [
        "l1 = [2, 3, 6]\n",
        "l2 = [3, 4, 5]\n",
        "l = []\n",
        "for i in l1:\n",
        "  for j in l2:\n",
        "    l.append(i*j)\n",
        "print(l)"
      ]
    },
    {
      "cell_type": "markdown",
      "metadata": {
        "id": "l7si5wlSm7BR"
      },
      "source": [
        "4. Let there are N numbers in a list and that list is said to be a UB Jumper if the absolute values of the difference between the successive elements take on all the values 1 through N − 1. For example, 2 1 4 6 10 is a UB Jumper because the absolute differences between them are 1 3 2 4 which is all numbers from 1 to (5 - 1) or 4.**Write a python program that takes a number sequence as input and prints whether it is a UB Jumper or Not UB Jumper. Input will stop after getting \"STOP\" as input.** (Number order or absolute difference order doesn’t follow any sequence.)\n",
        "\n",
        "```\n",
        "Sample Input        Sample Output\n",
        "1 4 2 3             UB Jumper\n",
        "2 1 4 6 10          UB Jumper\n",
        "1 4 2 -1 6          Not UB Jumper\n",
        "STOP\n",
        "````"
      ]
    },
    {
      "cell_type": "code",
      "execution_count": null,
      "metadata": {
        "colab": {
          "base_uri": "https://localhost:8080/"
        },
        "id": "PkuVb4IVnig5",
        "outputId": "9234cb33-92b2-48b5-cd89-025c16960c7e"
      },
      "outputs": [
        {
          "name": "stdout",
          "output_type": "stream",
          "text": [
            "1 4 2 3\n",
            "UB Jumper\n",
            "2 1 4 6 10\n",
            "UB Jumper\n",
            "1 4 2 -1 6\n",
            "Not UB Jumper\n",
            "STOP\n"
          ]
        }
      ],
      "source": [
        "while True:\n",
        "  inp = input().split()\n",
        "  if inp == ['STOP']:\n",
        "    break\n",
        "  else:\n",
        "    num = [int(i) for i in inp]\n",
        "    l = []\n",
        "    l2 = []\n",
        "    for j in range(len(num)-1):\n",
        "      l.append(abs(num[j]-num[j+1]))\n",
        "      l2.append(j+1)\n",
        "  l.sort()\n",
        "  if l == l2:\n",
        "    print('UB Jumper')\n",
        "  else:\n",
        "    print('Not UB Jumper')"
      ]
    },
    {
      "cell_type": "markdown",
      "metadata": {
        "id": "CLj7Bs9a7hnD"
      },
      "source": [
        "5. BRACU has n students who are regular competitive programmers. According\n",
        "to the ACM ICPC rules, each person can participate in the regional championship at most 5 times.\n",
        "\n",
        "The head of the BRACU ACM Chapter is recently gathering teams to participate in this championship. Each team must consist of exactly three people, at that, any person cannot be a member of two or more teams. What maximum number of teams can the head make if he wants each team to participate in the world championship with the same members at least k times?\n",
        "\n",
        "The first line of input contains two integers, n and k. The next line contains n integers: y1,y2, ...,yn (0≤ yi≤ 5), where yi shows the number of times the i-thperson participated in the ACM ICPC Regional.\n",
        "\n",
        "Write a python program that prints how many teams can be formed according to the above problem statement.\n",
        "\n",
        "```\n",
        "Sample Input 1           Sample Output 1\n",
        "5 2                      1\n",
        "0 4 5 1 0\n",
        "Sample Input 2           Sample Output 2\n",
        "6 4                      0\n",
        "0 1 2 3 4 5\n",
        "Sample Input 3          Sample Output 3\n",
        "6 5                     2\n",
        "0 0 0 0 0 0\n",
        "```"
      ]
    },
    {
      "cell_type": "code",
      "execution_count": null,
      "metadata": {
        "colab": {
          "base_uri": "https://localhost:8080/"
        },
        "id": "ilqcsdvX8fti",
        "outputId": "89d1edea-590e-4ad1-85c1-363b12fb7fd6"
      },
      "outputs": [
        {
          "name": "stdout",
          "output_type": "stream",
          "text": [
            "6 5\n",
            "0 0 0 0 0 0\n",
            "2\n"
          ]
        }
      ],
      "source": [
        "n = input().split()\n",
        "k = int(n[1])\n",
        "count = 0\n",
        "ip = input().split(' ')\n",
        "l = []\n",
        "for i in ip:\n",
        "  l.append(int(i))\n",
        "for j in l:\n",
        "  if (j+k) <= 5:\n",
        "    count+=1\n",
        "print(count//3)"
      ]
    },
    {
      "cell_type": "markdown",
      "metadata": {
        "id": "6L9sRvpI9qmk"
      },
      "source": [
        "**Dictionary & Tuple**"
      ]
    },
    {
      "cell_type": "markdown",
      "metadata": {
        "id": "QVJ4CeD59Wpw"
      },
      "source": [
        "1. Write a Python program to combine two dictionaries into one by adding values for common keys. Input contains two comma separated dictionaries. Print the new dictionary and create a tuple which contains unique values in sorted order.\n",
        "\n",
        "```\n",
        "Sample Input\n",
        "a: 100, b: 100, c: 200, d: 300\n",
        "a: 300, b: 200, d: 400, e: 200\n",
        "\n",
        "Sample Output\n",
        "{'a': 400, 'b': 300, 'c': 200,'d': 700, 'e': 200}\n",
        "Values: (200, 300, 400, 700)\n",
        "```"
      ]
    },
    {
      "cell_type": "code",
      "execution_count": null,
      "metadata": {
        "colab": {
          "base_uri": "https://localhost:8080/"
        },
        "id": "qqG9Ipie9zlC",
        "outputId": "755bf22a-61fe-430d-9173-9f1cba368440"
      },
      "outputs": [
        {
          "name": "stdout",
          "output_type": "stream",
          "text": [
            "a: 100, b: 100, c: 200, d: 300\n",
            "a: 300, b: 200, d: 400, e: 200\n",
            "{'a': 400, 'b': 300, 'c': 200, 'd': 700, 'e': 200}\n",
            "(200, 300, 400, 700)\n"
          ]
        }
      ],
      "source": [
        "inp1 = input().split(', ')\n",
        "inp2 = input().split(', ')\n",
        "d = {}\n",
        "t = []\n",
        "for i in inp1:\n",
        "  i = i.split(': ')\n",
        "  d[i[0]] = int(i[1])\n",
        "for j in inp2:\n",
        "  j = j.split(': ')\n",
        "  if j[0] in d1:\n",
        "    d[j[0]] += int(j[1])\n",
        "  else:\n",
        "    d[j[0]] = int(j[1])\n",
        "print(d)\n",
        "for k in d.values():\n",
        "  if k not in t:\n",
        "    t.append(k)\n",
        "for ind1 in range(len(t)-1):\n",
        "    mv = t[ind1]\n",
        "    mi = ind1\n",
        "    for ind2 in range(ind1+1, len(t)):\n",
        "      if t[ind2] < mv:\n",
        "        mv = t[ind2]\n",
        "        mi = ind2\n",
        "    r = mv\n",
        "    t[mi] = t[ind1]\n",
        "    t[ind1] = r\n",
        "print(tuple(t))"
      ]
    },
    {
      "cell_type": "markdown",
      "metadata": {
        "id": "DlbwJWtb5J8t"
      },
      "source": [
        "2. Write a python program which prints the frequency of the numbers that were given as input by the user. Stop taking input when you find the string \"STOP\". Do not print the frequency of numbers that were not given as input. Use a dictionary to solve the problem.\n",
        "```\n",
        "Sample Input          Sample Output\n",
        "10                    10 - 2 times\n",
        "20                    20 - 2 times\n",
        "20                    30 - 1 times\n",
        "30                    50 - 1 times\n",
        "10                    90 - 1 times\n",
        "50\n",
        "90\n",
        "STOP\n",
        "```"
      ]
    },
    {
      "cell_type": "code",
      "execution_count": null,
      "metadata": {
        "colab": {
          "base_uri": "https://localhost:8080/"
        },
        "id": "ouj_KXqo50WJ",
        "outputId": "9db5e4f0-4f17-4db7-a0cf-09eb0e672315"
      },
      "outputs": [
        {
          "name": "stdout",
          "output_type": "stream",
          "text": [
            "10\n",
            "20\n",
            "20\n",
            "30\n",
            "10\n",
            "50\n",
            "90\n",
            "STOP\n",
            "10 - 2 times\n",
            "20 - 2 times\n",
            "30 - 1 times\n",
            "50 - 1 times\n",
            "90 - 1 times\n"
          ]
        }
      ],
      "source": [
        "d = {}\n",
        "while True:\n",
        "  st = input()\n",
        "  if st == 'STOP':\n",
        "    break\n",
        "  else:\n",
        "    if st not in d:\n",
        "      d[st] = 1\n",
        "    else:\n",
        "      d[st]+=1\n",
        "for i,j in d.items():\n",
        "  print(f'{i} - {j} times')"
      ]
    },
    {
      "cell_type": "markdown",
      "metadata": {
        "id": "xN7BOOc67krH"
      },
      "source": [
        "3. Write python code to invert a dictionary. It should print a dictionary where the keys are values from the input dictionary and the values are lists of keys from the input dictionary having the same value. Make sure the program handles multiple same values.\n",
        "```\n",
        "Sample Input\n",
        "key1 : value1, key2 : value2, key3 : value1\n",
        "Sample Output\n",
        "{ \"value1\" : [\"key1\", \"key3\"], \"value2\" : [\"key2\"] }\n",
        "\n",
        "```"
      ]
    },
    {
      "cell_type": "code",
      "execution_count": null,
      "metadata": {
        "colab": {
          "base_uri": "https://localhost:8080/"
        },
        "id": "IxmJY3nT70_U",
        "outputId": "24ef1207-de6e-4fb7-b7ce-67040b28ad62"
      },
      "outputs": [
        {
          "name": "stdout",
          "output_type": "stream",
          "text": [
            "key1 : value1, key2 : value2, key3 : value1\n",
            "{'value1': ['key1', 'key3'], 'value2': ['key2']}\n"
          ]
        }
      ],
      "source": [
        "st = input().split(', ')\n",
        "d = {}\n",
        "for i in st:\n",
        "  i = i.split(' : ')\n",
        "  if i[1] not in d:\n",
        "    d[i[1]] = [i[0]]\n",
        "  else:\n",
        "    d[i[1]] += [i[0]]\n",
        "print(d)"
      ]
    },
    {
      "cell_type": "markdown",
      "metadata": {
        "id": "BUKG5x_x9iqp"
      },
      "source": [
        "4. On some basic cell phones, text messages can be sent using the numeric keypad. Because each key has multiple letters associated with it, multiple key presses are needed for most letters. Pressing the number once generates the first character listed for that key. Pressing the number 2, 3, 4 or 5 times generates the second, third, fourth or fifth character.\n",
        "\n",
        "```\n",
        "Key Symbols\n",
        "1   .,?!:\n",
        "2   ABC\n",
        "3   DEF\n",
        "4   GHI\n",
        "5   JKL\n",
        "6   MNO\n",
        "7   PQRS\n",
        "8   TUV\n",
        "9   WXYZ\n",
        "0   Space\n",
        "```\n",
        "Write a program that displays the key presses needed for a message entered by the user. Construct a dictionary that maps from each letter or symbol to the key presses needed to generate it. Then use the dictionary to create and display the presses needed for the user’s message.\n",
        "```\n",
        "Sample Input\n",
        "Hello, World!\n",
        "\n",
        "Sample Output\n",
        "4433555555666110966677755531111\n",
        "\n",
        "```\n"
      ]
    },
    {
      "cell_type": "code",
      "execution_count": null,
      "metadata": {
        "colab": {
          "base_uri": "https://localhost:8080/"
        },
        "id": "7zKQabqv-Dg8",
        "outputId": "282d0795-f318-4898-ef0b-c07f69ebaf6a"
      },
      "outputs": [
        {
          "name": "stdout",
          "output_type": "stream",
          "text": [
            "adgjmptw \n",
            "234567890\n"
          ]
        }
      ],
      "source": [
        "d = { '1' : '.,?!:' , '2' : 'ABC' , '3' : 'DEF' , '4' : 'GHI' , '5' : 'JKL' , '6' : 'MNO' , '7' : 'PQRS' , '8' : 'TUV', '9' : 'WXYZ' , '0' : ' '}\n",
        "s = input().upper()\n",
        "ns = ''\n",
        "for i in s:\n",
        "  for j,k in d.items():\n",
        "    for l in range(len(k)):\n",
        "      if k[l] == i:\n",
        "        ns+=(j*(l+1))\n",
        "print(ns)"
      ]
    },
    {
      "cell_type": "markdown",
      "metadata": {
        "id": "T2-pgPWUmYl5"
      },
      "source": [
        "#LAB2"
      ]
    },
    {
      "cell_type": "markdown",
      "metadata": {
        "id": "um-v-wgYmaK5"
      },
      "source": [
        "1. Write a function which will return the fraction part after dividing a number by another. The range should be within 0 and 1. Exception: Since dividing anything by 0 results in error so if the denominator is 0, the function will return 0 instead of attempting the division.\n",
        "```\n",
        "Function Call        Sample Output  \n",
        "(5, 2)               0.5\n",
        "(5, 0)               0\n",
        "(0, 5)               0\n",
        "```"
      ]
    },
    {
      "cell_type": "code",
      "execution_count": null,
      "metadata": {
        "colab": {
          "base_uri": "https://localhost:8080/"
        },
        "id": "EbKd3mb8JMWS",
        "outputId": "b9f817a7-6ab0-43f9-a817-b7d3c820337e"
      },
      "outputs": [
        {
          "name": "stdout",
          "output_type": "stream",
          "text": [
            "0.5\n"
          ]
        }
      ],
      "source": [
        "def fraction(m,n):\n",
        "    if n == 0:\n",
        "        return 0\n",
        "    else:\n",
        "        x = m/n\n",
        "        return (x-int(x))\n",
        "a = fraction(5,2)\n",
        "if a>=0 and a<=1:\n",
        "    if a == 0.0 :\n",
        "        print(0)\n",
        "    else:\n",
        "        print(a)"
      ]
    },
    {
      "cell_type": "markdown",
      "metadata": {
        "id": "f-Sh3PTvJypp"
      },
      "source": [
        "2. You are one of the gym instructors at AmiKenoMota. You decide to provide a customized diet and exercise plans based on the BMI of an individual. You measure the weight in kilograms and height in meters and calculate the BMI before a plan can be decided. Write a BMI function that takes in two values, weight in kg and height in cm and print the score along with the condition. (Make sure to convert cm into m before calculation)\n",
        "\n",
        "BMI(height, weight)\n",
        "\n",
        "𝐵𝑀𝐼 = 𝑘𝑔/𝑚2\n",
        "\n",
        "Based on the BMI score return the following output.\n",
        "\n",
        "● < 18.5- Underweight\n",
        "\n",
        "● 18.5 - 24.9 - Normal\n",
        "\n",
        "● 25 -30 - Overweight\n",
        "\n",
        "● > 30 – Obese\n",
        "\n",
        "```\n",
        "Function Call     Sample Output\n",
        "(175, 96)         Score is 31.3. You are Obese \n",
        "(152, 48)         Score is 20.8. You are Normal\n",
        "```"
      ]
    },
    {
      "cell_type": "code",
      "execution_count": null,
      "metadata": {
        "colab": {
          "base_uri": "https://localhost:8080/"
        },
        "id": "Hj3KTde6J4Dx",
        "outputId": "129ae326-1bb7-4c25-ea5b-062b5687752f"
      },
      "outputs": [
        {
          "name": "stdout",
          "output_type": "stream",
          "text": [
            "Score is 20.78. You are normal\n"
          ]
        }
      ],
      "source": [
        "def bmi(height,weight):\n",
        "  height = height/100\n",
        "  BMI = round((weight/(height**2)),2)\n",
        "  s = ''\n",
        "  if BMI < 18.5:\n",
        "    s+='underweight'\n",
        "  elif BMI>= 18.5 and BMI<25:\n",
        "    s+='normal'\n",
        "  elif BMI>= 25 and BMI<=30:\n",
        "    s+= 'overweight'\n",
        "  else:\n",
        "    s+='obese'\n",
        "  return (f'Score is {BMI}. You are {s}')  \n",
        "print(bmi(152,48))"
      ]
    },
    {
      "cell_type": "markdown",
      "metadata": {
        "id": "RqHR5iqoJ_2H"
      },
      "source": [
        "3. Write a function which will take 3 arguments minimum, maximum and divisor. \n",
        "You have to find all the numbers that are divisible by the divisor where minimum \n",
        "value is inclusive and maximum value is exclusive. Add all the numbers and return \n",
        "the value.\n",
        "```\n",
        "Function Call    Sample Output\n",
        "(0, 10, 2)       20\n",
        "(3, 16, 3)       45\n",
        "```"
      ]
    },
    {
      "cell_type": "code",
      "execution_count": null,
      "metadata": {
        "colab": {
          "base_uri": "https://localhost:8080/"
        },
        "id": "G7y6t7q-KFNY",
        "outputId": "f26294ea-4147-4513-a506-2e64b479e126"
      },
      "outputs": [
        {
          "name": "stdout",
          "output_type": "stream",
          "text": [
            "45\n"
          ]
        }
      ],
      "source": [
        "def divi(min,max,div):\n",
        "    sum = 0\n",
        "    for i in range(min,max):\n",
        "        if i%div == 0:\n",
        "           sum+=i\n",
        "    return sum \n",
        "print(divi(3,16,3))"
      ]
    },
    {
      "cell_type": "markdown",
      "metadata": {
        "id": "AewgTC9FKKoV"
      },
      "source": [
        "4. You want to order Burger from Chillox through the FoodPanda App. You have to \n",
        "calculate the total price. Write a function which will take the name of the burger and \n",
        "place(Mohakhali/Outside of Mohakhali) as input. Use default argument technique \n",
        "for taking place input.\n",
        "```\n",
        "Menu                           Price(Tk)\n",
        "BBQ Chicken Cheese Burger      250\n",
        "Beef Burger                    170\n",
        "Naga Drums                     200\n",
        "```\n",
        "Hint: Total Price = meal_cost + delivery_charge + tax \n",
        "\n",
        "Note that:\n",
        "\n",
        "● If your home is in Mohakhali area then your delivery charge is 40 taka else 60 taka\n",
        "\n",
        "● Your tax rate is 8% of your meal.\n",
        "```\n",
        "Function Call                      Sample Output \n",
        "(‘Beef Burger’, ‘Dhanmondi’)       243.6\n",
        "(‘Beef Burger’)                    223.6\n",
        "```"
      ]
    },
    {
      "cell_type": "code",
      "execution_count": null,
      "metadata": {
        "colab": {
          "base_uri": "https://localhost:8080/"
        },
        "id": "HqrPNhyLKO7H",
        "outputId": "d5a5c340-49d7-4bb7-cc7b-b0ef4130c2dd"
      },
      "outputs": [
        {
          "name": "stdout",
          "output_type": "stream",
          "text": [
            "Enter Food Name: Beef Burger\n",
            "Enter Location: Dhanmondi\n",
            "243.6\n"
          ]
        }
      ],
      "source": [
        "def price(food, lc = input('Enter Location: ')):\n",
        "    fp = {'BBQ Chicken Cheese Burger' : 250, 'Beef Burger' : 170, 'Naga Drums' : 200}\n",
        "    total = 0\n",
        "    for i,j in fp.items():\n",
        "        if food == i:\n",
        "            if lc == 'Mohakhali':\n",
        "                total+=(j+40+(j*0.08))\n",
        "            else:\n",
        "                total+=(j+60+(j*0.08))\n",
        "    print(total)\n",
        "price(input('Enter Food Name: '), 'Dhanmondi')"
      ]
    },
    {
      "cell_type": "markdown",
      "metadata": {
        "id": "V_jtfMOVLgF3"
      },
      "source": [
        "5. A company named Sheba.xyz has recently moved from their old domain to a new domain. However, a lot of the company email addresses are still using the old one. Write a function in python that replaces this old domain with the new one in any outdated email addresses. Keep same if the email address contains the newdomain.\n",
        "(Do not use builtin replace function)\n",
        "\n",
        "Firstly, define a \"replace_domain\" function which accepts three parameters\n",
        "\n",
        "*The email address to be checked\n",
        "\n",
        "*The new domain\n",
        "\n",
        "*The old domain (Use Default argument technique to handle this)\n",
        "```\n",
        "Function Call                                     Sample Output\n",
        "(‘alice@kaaj.com’, ‘sheba.xyz’, ‘kaaj.com’)       Changed: alice@sheba.xyz\n",
        "(‘bob@sheba.xyz’, ‘sheba.xyz’)                    Unchanged: bob@sheba.xyz\n",
        "```"
      ]
    },
    {
      "cell_type": "code",
      "execution_count": null,
      "metadata": {
        "colab": {
          "base_uri": "https://localhost:8080/"
        },
        "id": "QHtaWm7lL_gI",
        "outputId": "f25c3ab4-85d7-43da-c015-bdbc4c37bc76"
      },
      "outputs": [
        {
          "name": "stdout",
          "output_type": "stream",
          "text": [
            "Unchanged: bob@sheba.xyz\n"
          ]
        }
      ],
      "source": [
        "def replace_domain(mail,domnew, domold = 'kaaj.com'):\n",
        "  m = mail.split('@')\n",
        "  if m[1] == domold:\n",
        "    print(f\"Changed: {m[0]+'@'+domnew}\")\n",
        "  else:\n",
        "    print(f'Unchanged: {mail}')\n",
        "replace_domain('bob@sheba.xyz', 'sheba.xyz')"
      ]
    },
    {
      "cell_type": "markdown",
      "metadata": {
        "id": "4M5goNNSN9P3"
      },
      "source": [
        "6. Write a function which takes only your full name as input and finds the total number of vowels in that input. Output every vowel and at the end output the total number of vowelsfound. If your name does not contain any vowel then yourfunction should print \"No vowels in the name!\".\n",
        "\n",
        "```\n",
        "Function Call        Sample Output\n",
        "(Steve Jobs)         Vowels: e, e, o. Total number of vowels: 3\n",
        "(XYZ)                No vowels in the name\n",
        "```"
      ]
    },
    {
      "cell_type": "code",
      "execution_count": null,
      "metadata": {
        "colab": {
          "base_uri": "https://localhost:8080/"
        },
        "id": "fClGuTLHOSmZ",
        "outputId": "286bb68c-a5bc-4a66-bb7e-db3a35d90999"
      },
      "outputs": [
        {
          "name": "stdout",
          "output_type": "stream",
          "text": [
            "Enter Your Name: Steve Jobs\n",
            "Vowels e, e, o. Total number of vowels: 3\n"
          ]
        }
      ],
      "source": [
        "def name(n):\n",
        "  s = ''\n",
        "  count = 0\n",
        "  vowels = 'AaEeIiOoUu'\n",
        "  for i in n:\n",
        "    if i in vowels:\n",
        "      s+=i+', '\n",
        "      count+=1\n",
        "  if s == '':\n",
        "    print('No vowels in the name')\n",
        "  else:\n",
        "    print(f'Vowels {s[:len(s)-2:]}. Total number of vowels: {count}')\n",
        "name(input('Enter Your Name: '))"
      ]
    },
    {
      "cell_type": "markdown",
      "metadata": {
        "id": "Z3X69-j1OgIA"
      },
      "source": [
        "7. Write a function which checks whether a given string is a palindrome or not.\n",
        "\n",
        "Note: A palindrome is a word, phrase, or sequence that reads the same backward as forward. For palindrome, any spaces in middle are not considered and should be trimmed.\n",
        "```\n",
        "Function Call       Sample Output\n",
        "(‘madam’)           Palindrome\n",
        "(‘hello’)           Not a palindrome\n",
        "(‘nurses run’)      Palindrome\n",
        "```"
      ]
    },
    {
      "cell_type": "code",
      "execution_count": null,
      "metadata": {
        "colab": {
          "base_uri": "https://localhost:8080/"
        },
        "id": "rNag_5xiO3aH",
        "outputId": "3475f8d1-6774-4b39-fe37-470592c06cf3"
      },
      "outputs": [
        {
          "name": "stdout",
          "output_type": "stream",
          "text": [
            "Palindrome\n"
          ]
        }
      ],
      "source": [
        "def palin(st):\n",
        "  s = ''\n",
        "  for i in st:\n",
        "    if i != ' ':\n",
        "      s+=i\n",
        "  p = s[::-1]\n",
        "  if p == s:\n",
        "    print('Palindrome')\n",
        "  else:\n",
        "    print('Not a palindrome')\n",
        "palin('madam')"
      ]
    },
    {
      "cell_type": "markdown",
      "metadata": {
        "id": "lkzBEjKeO45m"
      },
      "source": [
        "8. Write a function which takes a number of days as input and prints total number of years, number of months and remaining number of days as output.\n",
        "```\n",
        "Function Call      Sample Output\n",
        "(4320)             11 years, 10 months and 5 days\n",
        "(4000)             10 years, 11 months and 20 days\n",
        "```"
      ]
    },
    {
      "cell_type": "code",
      "execution_count": null,
      "metadata": {
        "colab": {
          "base_uri": "https://localhost:8080/"
        },
        "id": "3IZM1zN-PKX-",
        "outputId": "32178799-b2e4-4131-ed75-e6fadf6f57c7"
      },
      "outputs": [
        {
          "name": "stdout",
          "output_type": "stream",
          "text": [
            "4000\n",
            "10 years, 11 months and 20 days\n"
          ]
        }
      ],
      "source": [
        "def days(d):\n",
        "  x = d//365\n",
        "  m = d%365\n",
        "  y = m//30\n",
        "  z = m%30\n",
        "  print(f'{x} years, {y} months and {z} days')\n",
        "days(int(input()))"
      ]
    },
    {
      "cell_type": "markdown",
      "metadata": {
        "id": "bHM0Q5T2PK4-"
      },
      "source": [
        "9. You are a class teacher at a kindergarten school. As a task, you asked your students to write a paragraph. Unfortunately, you notice that most of the students did not use capital letters correctly. Your task is to write a function which takes a string as its only parameter and returns a new copy of the string that has been correctly capitalized. Your function should:\n",
        "```\n",
        "● Capitalize the first letter in the string\n",
        "● Capitalize the first letter after a full-stop, exclamation mark or questionmark\n",
        "● Capitalize the word \"i\" if it is in lowercase.\n",
        "```\n",
        "Summary: You have to write a function that reads a string from the user and\n",
        "capitalizes. The string is then returned and displayed.\n",
        "\n",
        "```\n",
        "Function Call\n",
        "('my favourite animal is a dog. a dog has sharp teeth so that it can eat flesh very easily.\n",
        "do you know my pet dog’s name? i love my pet very much.')\n",
        "\n",
        "Sample Output\n",
        "My favourite animal is a dog. A dog has sharp teeth so that it can eat flesh very\n",
        "easily. Do you know my pet dog’s name? I love my pet very much.\n",
        "```"
      ]
    },
    {
      "cell_type": "code",
      "execution_count": null,
      "metadata": {
        "colab": {
          "base_uri": "https://localhost:8080/"
        },
        "id": "I8IjJJb5Pfoz",
        "outputId": "006a1dcd-d082-4c23-a884-dc40d3ab82bf"
      },
      "outputs": [
        {
          "name": "stdout",
          "output_type": "stream",
          "text": [
            "Enter a string: my favourite animal is a dog. a dog has sharp teeth so that it can eat flesh very easily. do you know my pet dog’s name? i love my pet very much.\n",
            "My favourite animal is a dog. A dog has sharp teeth so that it can eat flesh very easily. Do you know my pet dog’s name? I love my pet very much.\n"
          ]
        }
      ],
      "source": [
        "def correction(string = input('Enter a string: ') ):\n",
        "  s = string[0].upper()\n",
        "  sp = '.?!'\n",
        "  for i in range(1,len(string)):\n",
        "    if (string[i-1] == ' ') and (string[i+1] == ' ') and string[i] == 'i':\n",
        "      s+='I'\n",
        "    else:\n",
        "      if (string[i-1] == ' ') and (string[i-2] in sp):\n",
        "        s+=string[i].upper()\n",
        "      else:\n",
        "        s+=string[i]\n",
        "  return s\n",
        "print(correction())"
      ]
    },
    {
      "cell_type": "markdown",
      "metadata": {
        "id": "U2cwVkI7Jz3e"
      },
      "source": [
        "#LAB3"
      ]
    },
    {
      "cell_type": "markdown",
      "metadata": {
        "id": "br6UWmH8J6r7"
      },
      "source": [
        "1. Write a class that for running the following codes: \n",
        "\n",
        "[You are not allowed to change the code below]\n",
        "```\n",
        "#Write your class code here\n",
        "\n",
        "data_type1 = DataType('Integer', 1234)\n",
        "print(data_type1.name)\n",
        "print(data_type1.value)\n",
        "print('=====================')\n",
        "data_type2 = DataType('String', 'Hello')\n",
        "print(data_type2.name)\n",
        "print(data_type2.value)\n",
        "print('=====================')\n",
        "data_type3 = DataType('Float', 4.0)\n",
        "print(data_type3.name)\n",
        "print(data_type3.value)\n",
        "\n",
        "Output:\n",
        "\n",
        "Integer\n",
        "1234\n",
        "=====================\n",
        "String\n",
        "Hello\n",
        "=====================\n",
        "Float\n",
        "4.0\n",
        "```\n",
        "Subtasks:\n",
        "\n",
        "1.Create a class named DataType with the required constructor.\n",
        "\n",
        "2.Assign name and values in constructor according to the output.\n"
      ]
    },
    {
      "cell_type": "code",
      "execution_count": null,
      "metadata": {
        "colab": {
          "base_uri": "https://localhost:8080/"
        },
        "id": "flLHSM7LQlVu",
        "outputId": "05876c6a-de07-46e2-e2b2-cc916385eea1"
      },
      "outputs": [
        {
          "name": "stdout",
          "output_type": "stream",
          "text": [
            "Integer\n",
            "1234\n",
            "=====================\n",
            "String\n",
            "Hello\n",
            "=====================\n",
            "Float\n",
            "4.0\n"
          ]
        }
      ],
      "source": [
        "class DataType:\n",
        "    def __init__(self,typ,val):\n",
        "        self.name = typ\n",
        "        self.value = val\n",
        "data_type1 = DataType('Integer', 1234)\n",
        "print(data_type1.name)\n",
        "print(data_type1.value)\n",
        "print('=====================')\n",
        "data_type2 = DataType('String', 'Hello')\n",
        "print(data_type2.name)\n",
        "print(data_type2.value)\n",
        "print('=====================')\n",
        "data_type3 = DataType('Float', 4.0)\n",
        "print(data_type3.name)\n",
        "print(data_type3.value)"
      ]
    },
    {
      "cell_type": "markdown",
      "metadata": {
        "id": "HVDYvGP6QoVL"
      },
      "source": [
        "2. Design a class Joker with parameterized constructor so that the following line of code prints the result shown in the output box.\n",
        "\n",
        "[You are not allowed to change the code below]\n",
        "```\n",
        "#Write your class code here\n",
        "\n",
        "j1 = Joker('Heath Ledger', 'Mind Game', False)\n",
        "print(j1.name)\n",
        "print(j1.power)\n",
        "print(j1.is_he_psycho)\n",
        "print('=====================')\n",
        "j2 = Joker('Joaquin Phoenix', 'Laughing out Loud', True)\n",
        "print(j2.name)\n",
        "print(j2.power)\n",
        "print(j2.is_he_psycho)\n",
        "print('=====================')\n",
        "if j1 == j2:\n",
        "    print('same')\n",
        "else: \n",
        "    print('different')\n",
        "j2.name = 'Heath Ledger'\n",
        "if j1.name == j2.name:\n",
        "    print('same')\n",
        "else:\n",
        "    print('different')\n",
        "#Write your code for 2,3 here\n",
        "\n",
        "\n",
        "Output:\n",
        "\n",
        "Heath Ledger\n",
        "Mind Game\n",
        "False\n",
        "=====================\n",
        "Joaquin Phoenix\n",
        "Laughing out Loud\n",
        "True\n",
        "=====================\n",
        "different\n",
        "same\n",
        "```\n",
        "Subtask:\n",
        "1) Design the class using a parameterized constructor.\n",
        "2) The first if/else block prints the output as ‘different’, but why? Explain your answer and print your explanation at the very end.\n",
        "3) The second if/else block prints the output as ‘same’, but why? Explain your answer and print your explanation at the very end.\n"
      ]
    },
    {
      "cell_type": "code",
      "execution_count": null,
      "metadata": {
        "colab": {
          "base_uri": "https://localhost:8080/"
        },
        "id": "cuDpJnX8Qw97",
        "outputId": "c1fff50c-12ea-40cd-8ab0-67c40bcd5ad6"
      },
      "outputs": [
        {
          "name": "stdout",
          "output_type": "stream",
          "text": [
            "Heath Ledger\n",
            "Mind Game\n",
            "False\n",
            "=====================\n",
            "Joaquin Phoenix\n",
            "Laughing out Loud\n",
            "True\n",
            "=====================\n",
            "different\n",
            "same\n",
            "j1 and j2 are two different objects of Joker Class so their reference/location aren't same that's why first if/else block prints the output as 'different'.\n",
            "The second if/else block prints the output as 'same' because we are comparing two same string values here.\n"
          ]
        }
      ],
      "source": [
        "class Joker:\n",
        "    def __init__(self, n, p, boolean):\n",
        "        self.name = n\n",
        "        self.power = p\n",
        "        self.is_he_psycho = boolean\n",
        "j1 = Joker('Heath Ledger', 'Mind Game', False)\n",
        "print(j1.name)\n",
        "print(j1.power)\n",
        "print(j1.is_he_psycho)\n",
        "print('=====================')\n",
        "j2 = Joker('Joaquin Phoenix', 'Laughing out Loud', True)\n",
        "print(j2.name)\n",
        "print(j2.power)\n",
        "print(j2.is_he_psycho)\n",
        "print('=====================')\n",
        "if j1 == j2:\n",
        "    print('same')\n",
        "else: \n",
        "    print('different')\n",
        "j2.name = 'Heath Ledger'\n",
        "if j1.name == j2.name:\n",
        "    print('same')\n",
        "else:\n",
        "    print('different')\n",
        "print(\"j1 and j2 are two different objects of Joker Class so their reference/location aren't same that's why first if/else block prints the output as 'different'.\")\n",
        "print(\"The second if/else block prints the output as 'same' because we are comparing two same string values here.\")"
      ]
    },
    {
      "cell_type": "markdown",
      "metadata": {
        "id": "Q3Y4UkaUECT0"
      },
      "source": [
        "3. Design a class called Pokemon using a parameterized  constructor so that after executing the following line of code the desired result shown in the output box will be printed. First object along with print has been done for you, you also need to create other objects and print accordingly to get the output correctly.\n",
        "\n",
        "[You are not allowed to change the code below]\n",
        "```\n",
        "#Write your code for class here\n",
        "\n",
        "team_pika = Pokemon('pikachu', 'charmander', 90, 60, 10)\n",
        "print('=======Team 1=======')\n",
        "print('Pokemon 1:',team_pika.pokemon1_name, team_pika.pokemon1_power)\n",
        "print('Pokemon 2:',team_pika.pokemon2_name, team_pika.pokemon2_power)\n",
        "pika_combined_power = (team_pika.pokemon1_power + team_pika.pokemon2_power) * team_pika.damage_rate\n",
        "print('Combined Power:', pika_combined_power)\n",
        "#Write your code for subtask 2,3,4 here\n",
        "\n",
        "Output:\n",
        "\n",
        "=======Team 1=======\n",
        "Pokemon 1: pikachu 90\n",
        "Pokemon 2: charmander 60\n",
        "Combined Power: 1500\n",
        "=======Team 2=======\n",
        "Pokemon 1: bulbasaur 80\n",
        "Pokemon 2: squirtle 70\n",
        "Combined Power: 1350\n",
        "```\n",
        "Subtask:\n",
        "\n",
        "1) Design the Pokemon class using a parameterized constructor. The 5 values that are being passed through the constructor are pokemon 1 name, pokemon 2 name, pokemon 1 power, pokemon 2 power, damage rate respectively. After designing the class, if you run the above code the details in Team 1 will be printed.\n",
        "\n",
        "2) Create an object named team_bulb and pass the values ‘bulbasaur’, ‘squirtle’, 80, 70, 9 respectively.\n",
        "\n",
        "3) Use print statements accordingly to print the desired result of Team 2.\n",
        "\n",
        "\n",
        "Note: Power is always being calculated using the instance variables. \n",
        "\n",
        "Example: \n",
        "(team_pika.pokemon1_power + team_pika.pokemon2_power) * team_pika.damage_rate\n"
      ]
    },
    {
      "cell_type": "code",
      "execution_count": null,
      "metadata": {
        "colab": {
          "base_uri": "https://localhost:8080/"
        },
        "id": "i4ECB6YfEF22",
        "outputId": "8ca37d8c-2f38-4328-d92d-174183634ebd"
      },
      "outputs": [
        {
          "name": "stdout",
          "output_type": "stream",
          "text": [
            "=======Team 1=======\n",
            "Pokemon 1: pikachu 90\n",
            "Pokemon 2: charmander 60\n",
            "Combined Power: 1500\n",
            "=======Team 2=======\n",
            "Pokemon 1: bulbasaur 80\n",
            "Pokemon 2: squirtle 70\n",
            "Combined Power: 1350\n"
          ]
        }
      ],
      "source": [
        "class Pokemon:\n",
        "    def __init__(self, nam1, nam2, pow1, pow2, dm):\n",
        "        self.pokemon1_name = nam1\n",
        "        self.pokemon2_name = nam2\n",
        "        self.pokemon1_power = pow1\n",
        "        self.pokemon2_power = pow2\n",
        "        self.damage_rate = dm\n",
        "team_pika = Pokemon('pikachu', 'charmander', 90, 60, 10)\n",
        "print('=======Team 1=======')\n",
        "print('Pokemon 1:',team_pika.pokemon1_name, team_pika.pokemon1_power)\n",
        "print('Pokemon 2:',team_pika.pokemon2_name, team_pika.pokemon2_power)\n",
        "pika_combined_power = (team_pika.pokemon1_power + team_pika.pokemon2_power) * team_pika.damage_rate\n",
        "print('Combined Power:', pika_combined_power)\n",
        "team_bulb = Pokemon('bulbasaur', 'squirtle', 80, 70, 9)\n",
        "print('=======Team 2=======')\n",
        "print('Pokemon 1:',team_bulb.pokemon1_name, team_bulb.pokemon1_power)\n",
        "print('Pokemon 2:',team_bulb.pokemon2_name, team_bulb.pokemon2_power)\n",
        "bulb_combined_power = (team_bulb.pokemon1_power + team_bulb.pokemon2_power) * team_bulb.damage_rate\n",
        "print('Combined Power:', bulb_combined_power)"
      ]
    },
    {
      "cell_type": "markdown",
      "metadata": {
        "id": "l6eQYjslEOoz"
      },
      "source": [
        "\n",
        "4. Design the Country class so that the code gives the expected output.\n",
        "\n",
        "[You are not allowed to change the code below]\n",
        "\n",
        "```\n",
        "# Write your Class Code here\n",
        "country = Country()\n",
        "print('Name:',country.name)\n",
        "print('Continent:',country.continent)\n",
        "print('Capital:',country.capital)\n",
        "print('Fifa Ranking:',country.fifa_ranking)\n",
        "print('===================')\n",
        "country.name = \"Belgium\"\n",
        "country.continent = \"Europe\"\n",
        "country.capital = \"Brussels\"\n",
        "country.fifa_ranking = 1\n",
        "print('Name:',country.name)\n",
        "print('Continent:',country.continent)\n",
        "print('Capital:',country.capital)\n",
        "print('Fifa Ranking:',country.fifa_ranking)\n",
        "\n",
        "\n",
        "Output:\n",
        "\n",
        "Name: Bangladesh\n",
        "Continent: Asia\n",
        "Capital: Dhaka\n",
        "Fifa Ranking: 187\n",
        "===================\n",
        "Name: Belgium\n",
        "Continent: Europe\n",
        "Capital: Brussels\n",
        "Fifa Ranking: 1\n",
        "```\n"
      ]
    },
    {
      "cell_type": "code",
      "execution_count": null,
      "metadata": {
        "colab": {
          "base_uri": "https://localhost:8080/"
        },
        "id": "t0B4ttvnERrj",
        "outputId": "4bc5c33f-4c7d-45c0-a47f-4d8447d4f205"
      },
      "outputs": [
        {
          "name": "stdout",
          "output_type": "stream",
          "text": [
            "Name: Bangladesh\n",
            "Continent: Asia\n",
            "Capital: Dhaka\n",
            "Fifa Ranking: 187\n",
            "===================\n",
            "Name: Belgium\n",
            "Continent: Europe\n",
            "Capital: Brussels\n",
            "Fifa Ranking: 1\n"
          ]
        }
      ],
      "source": [
        "class Country:\n",
        "    def __init__(self):\n",
        "        self.name = 'Bangladesh'\n",
        "        self.continent = 'Asia'\n",
        "        self.capital = 'Dhaka'\n",
        "        self.fifa_ranking = 187\n",
        "country = Country()\n",
        "print('Name:',country.name)\n",
        "print('Continent:',country.continent)\n",
        "print('Capital:',country.capital)\n",
        "print('Fifa Ranking:',country.fifa_ranking)\n",
        "print('===================')\n",
        "country.name = 'Belgium'\n",
        "country.continent = 'Europe'\n",
        "country.capital = 'Brussels'\n",
        "country.fifa_ranking = 1\n",
        "print('Name:',country.name)\n",
        "print('Continent:',country.continent)\n",
        "print('Capital:',country.capital)\n",
        "print('Fifa Ranking:',country.fifa_ranking)"
      ]
    },
    {
      "cell_type": "markdown",
      "metadata": {
        "id": "OgJy7w3lk43C"
      },
      "source": [
        "5. Write the DemonSlayer class so that the code gives the expected output.\n",
        "\n",
        "[You are not allowed to change the code below]\n",
        "\n",
        "```\n",
        "# Write your Class Code here\n",
        "tanjiro = DemonSlayer(\"Tanjiro\", \"Water Breathing\", 10, 10)\n",
        "print('Name:',tanjiro.name)\n",
        "print('Fighting Style:',tanjiro.style)\n",
        "print(f'Knows {tanjiro.number_of_technique} technique(s) and has killed {tanjiro.kill} demon(s)')\n",
        "print('===================')\n",
        "zenitsu = DemonSlayer(\"Zenitsu\", \"Thunder Breathing\", 1, 4)\n",
        "print('Name:',zenitsu.name)\n",
        "print('Fighting Style:',zenitsu.style)\n",
        "print(f'Knows {zenitsu.number_of_technique} technique(s) and has killed {zenitsu.kill} demon(s)')\n",
        "print('===================')\n",
        "inosuke = DemonSlayer(\"Inosuke\", \"Beast Breathing\", 5, 7)\n",
        "print('Name:',inosuke.name)\n",
        "print('Fighting Style:',inosuke.style)\n",
        "print(f'Knows {inosuke.number_of_technique} technique(s) and has killed {inosuke.kill} demon(s)')\n",
        "print('===================')\n",
        "print(f'{tanjiro.name}, {zenitsu.name}, {inosuke.name} knows total {tanjiro.number_of_technique + zenitsu.number_of_technique + inosuke.number_of_technique} techniques')\n",
        "print(f'They have killed total {tanjiro.kill + zenitsu.kill + inosuke.kill} demons')\n",
        "\n",
        "Output:\n",
        "\n",
        "Name: Tanjiro\n",
        "Fighting Style: Water Breathing\n",
        "Knows 10 technique(s) and has killed 10 demon(s)\n",
        "===================\n",
        "Name: Zenitsu\n",
        "Fighting Style: Thunder Breathing\n",
        "Knows 1 technique(s) and has killed 4 demon(s)\n",
        "===================\n",
        "Name: Inosuke\n",
        "Fighting Style: Beast Breathing\n",
        "Knows 5 technique(s) and has killed 7 demon(s)\n",
        "===================\n",
        "Tanjiro, Zenitsu, Inosuke knows total 16 techniques\n",
        "They have killed total 21 demons\n",
        "```\n"
      ]
    },
    {
      "cell_type": "code",
      "execution_count": null,
      "metadata": {
        "colab": {
          "base_uri": "https://localhost:8080/"
        },
        "id": "lY6QpsLXk9ko",
        "outputId": "d2657ae9-f29b-4b79-fa30-2660efde20a7"
      },
      "outputs": [
        {
          "name": "stdout",
          "output_type": "stream",
          "text": [
            "Name: Tanjiro\n",
            "Fighting Style: Water Breathing\n",
            "Knows 10 technique(s) and has killed 10 demon(s)\n",
            "===================\n",
            "Name: Zenitsu\n",
            "Fighting Style: Thunder Breathing\n",
            "Knows 1 technique(s) and has killed 4 demon(s)\n",
            "===================\n",
            "Name: Inosuke\n",
            "Fighting Style: Beast Breathing\n",
            "Knows 5 technique(s) and has killed 7 demon(s)\n",
            "===================\n",
            "Tanjiro, Zenitsu, Inosuke knows total 16 techniques\n",
            "They have killed total 21 demons\n"
          ]
        }
      ],
      "source": [
        "class DemonSlayer:\n",
        "    def __init__(self, name, style, technique, kill):\n",
        "        self.name = name\n",
        "        self.style = style\n",
        "        self.number_of_technique = technique\n",
        "        self.kill = kill\n",
        "tanjiro = DemonSlayer(\"Tanjiro\", \"Water Breathing\", 10, 10)\n",
        "print('Name:',tanjiro.name)\n",
        "print('Fighting Style:',tanjiro.style)\n",
        "print(f'Knows {tanjiro.number_of_technique} technique(s) and has killed {tanjiro.kill} demon(s)')\n",
        "print('===================')\n",
        "zenitsu = DemonSlayer(\"Zenitsu\", \"Thunder Breathing\", 1, 4)\n",
        "print('Name:',zenitsu.name)\n",
        "print('Fighting Style:',zenitsu.style)\n",
        "print(f'Knows {zenitsu.number_of_technique} technique(s) and has killed {zenitsu.kill} demon(s)')\n",
        "print('===================')\n",
        "inosuke = DemonSlayer(\"Inosuke\", \"Beast Breathing\", 5, 7)\n",
        "print('Name:',inosuke.name)\n",
        "print('Fighting Style:',inosuke.style)\n",
        "print(f'Knows {inosuke.number_of_technique} technique(s) and has killed {inosuke.kill} demon(s)')\n",
        "print('===================')\n",
        "print(f'{tanjiro.name}, {zenitsu.name}, {inosuke.name} knows total {tanjiro.number_of_technique + zenitsu.number_of_technique + inosuke.number_of_technique} techniques')\n",
        "print(f'They have killed total {tanjiro.kill + zenitsu.kill + inosuke.kill} demons')"
      ]
    },
    {
      "cell_type": "markdown",
      "metadata": {
        "id": "AKx407PdlAsn"
      },
      "source": [
        "6. Write the box class so that the code gives the expected output.\n",
        "\n",
        "```\n",
        "#Write your class code here\n",
        "print(\"Box 1\")\n",
        "b1 = box([10,10,10])\n",
        "print(\"=========================\")\n",
        "print(\"Height:\", b1.height)\n",
        "print(\"Width:\", b1.width)\n",
        "print(\"Breadth:\", b1.breadth)\n",
        "print(\"-------------------------\")\n",
        "print(\"Box 2\")\n",
        "b2 = box((30,10,10))\n",
        "print(\"=========================\")\n",
        "print(\"Height:\", b2.height)\n",
        "print(\"Width:\", b2.width)\n",
        "print(\"Breadth:\", b2.breadth)\n",
        "b2.height = 300\n",
        "print(\"Updating Box 2!\")\n",
        "print(\"Height:\", b2.height)\n",
        "print(\"Width:\", b2.width)\n",
        "print(\"Breadth:\", b2.breadth)\n",
        "print(\"-------------------------\")\n",
        "print(\"Box 3\")\n",
        "b3 = b2\n",
        "print(\"Height:\", b3.height)\n",
        "print(\"Width:\", b3.width)\n",
        "print(\"Breadth:\", b3.breadth)\n",
        "\n",
        "Output:\n",
        "Box 1\n",
        "Creating a Box!\n",
        "Volume of the box is 1000 cubic units.\n",
        "=========================\n",
        "Height: 10\n",
        "Width: 10\n",
        "Breadth: 10\n",
        "---------------------------------------------\n",
        "Box 2\n",
        "Creating a Box!\n",
        "Volume of the box is 3000 cubic units.\n",
        "=========================\n",
        "Height: 30\n",
        "Width: 10\n",
        "Breadth: 10\n",
        "Updating Box 2!\n",
        "Height: 300\n",
        "Width: 10\n",
        "Breadth: 10\n",
        "---------------------------------------------\n",
        "Box 3\n",
        "Height: 300\n",
        "Width: 10\n",
        "Breadth: 10\n",
        "```"
      ]
    },
    {
      "cell_type": "code",
      "execution_count": null,
      "metadata": {
        "colab": {
          "base_uri": "https://localhost:8080/"
        },
        "id": "uz2VeFg4lDpA",
        "outputId": "8ff1a634-f0ce-40ae-c219-5d4eb71465ab"
      },
      "outputs": [
        {
          "name": "stdout",
          "output_type": "stream",
          "text": [
            "Box 1\n",
            "Creating a Box!\n",
            "Volume of the box is 1000 cubic units.\n",
            "=========================\n",
            "Height: 10\n",
            "Width: 10\n",
            "Breadth: 10\n",
            "-------------------------\n",
            "Box 2\n",
            "Creating a Box!\n",
            "Volume of the box is 3000 cubic units.\n",
            "=========================\n",
            "Height: 30\n",
            "Width: 10\n",
            "Breadth: 10\n",
            "Updating Box 2!\n",
            "Height: 300\n",
            "Width: 10\n",
            "Breadth: 10\n",
            "-------------------------\n",
            "Box 3\n",
            "Height: 300\n",
            "Width: 10\n",
            "Breadth: 10\n"
          ]
        }
      ],
      "source": [
        "class box:\n",
        "    def __init__(self, hwb):\n",
        "        self.height = hwb[0]\n",
        "        self.width = hwb[1]\n",
        "        self.breadth = hwb[2]\n",
        "        print(f'Creating a Box!\\nVolume of the box is {self.height*self.width*self.breadth} cubic units.')\n",
        "print(\"Box 1\")\n",
        "b1 = box([10,10,10])\n",
        "print(\"=========================\")\n",
        "print(\"Height:\", b1.height)\n",
        "print(\"Width:\", b1.width)\n",
        "print(\"Breadth:\", b1.breadth)\n",
        "print(\"-------------------------\")\n",
        "print(\"Box 2\")\n",
        "b2 = box((30,10,10))\n",
        "print(\"=========================\")\n",
        "print(\"Height:\", b2.height)\n",
        "print(\"Width:\", b2.width)\n",
        "print(\"Breadth:\", b2.breadth)\n",
        "b2.height = 300\n",
        "print(\"Updating Box 2!\")\n",
        "print(\"Height:\", b2.height)\n",
        "print(\"Width:\", b2.width)\n",
        "print(\"Breadth:\", b2.breadth)\n",
        "print(\"-------------------------\")\n",
        "print(\"Box 3\")\n",
        "b3 = b2\n",
        "print(\"Height:\", b3.height)\n",
        "print(\"Width:\", b3.width)\n",
        "print(\"Breadth:\", b3.breadth)"
      ]
    },
    {
      "cell_type": "markdown",
      "metadata": {
        "id": "q725Ep_alIQb"
      },
      "source": [
        "7. Design the required class from the given code and the outputs.\n",
        "\n",
        "[You are not allowed to change the code below]\n",
        "\n",
        "Hint:\n",
        "\n",
        "Number of the border characters for the top and the bottom \n",
        "= 1 \n",
        "   + Number of spaces between the left side border and the first character of the button name \n",
        "   + Length of the button name \n",
        "   + Number of spaces between the right side border and the last character of the button name \n",
        "   + 1\n",
        "\n",
        "NOTE: Don’t count the space or any character from the button representation to solve this problem.\n",
        "\n",
        "```\n",
        "#Write your class code here\n",
        "\n",
        "word = \"CANCEL\"  \n",
        "spaces = 10\n",
        "border = 'x'\n",
        "b1 = buttons(word, spaces, border)\n",
        "print(\"=======================================================\")\n",
        "b2 = buttons(\"Notify\",3, '!')\n",
        "print(\"=======================================================\")\n",
        "b3 = buttons('SAVE PROGRESS', 5, '$')\n",
        "\n",
        "Output: \n",
        "\n",
        "CANCEL Button Specifications:\n",
        "Button name: CANCEL\n",
        "Number of the border characters for the top and the bottom: 28\n",
        "Number of spaces between the left side border and the first character of the button name: 10\n",
        "Number of spaces between the right side border and the last character of the button name: 10\n",
        "Characters representing the borders: x\n",
        "\n",
        "xxxxxxxxxxxxxxxxxxxxxxxxxxxx\n",
        "x          CANCEL          x\n",
        "xxxxxxxxxxxxxxxxxxxxxxxxxxxx\n",
        "=========================================================\n",
        "Notify Button Specifications:\n",
        "Button name: Notify\n",
        "Number of the border characters for the top and the bottom: 14\n",
        "Number of spaces between the left side border and the first character of the button name: 3\n",
        "Number of spaces between the right side border and the last character of the button name: 3\n",
        "Characters representing the borders: !\n",
        "\n",
        "!!!!!!!!!!!!!!\n",
        "!   Notify   !\n",
        "!!!!!!!!!!!!!!\n",
        "=========================================================\n",
        "SAVE PROGRESS Button Specifications:\n",
        "Button name: SAVE PROGRESS\n",
        "Number of the border characters for the top and the bottom: 25\n",
        "Number of spaces between the left side border and the first character of the button name: 5\n",
        "Number of spaces between the right side border and the last character of the button name: 5\n",
        "Characters representing the borders: $\n",
        "\n",
        "$$$$$$$$$$$$$$$$$$$$$$$$$\n",
        "$     SAVE PROGRESS     $\n",
        "$$$$$$$$$$$$$$$$$$$$$$$$$\n",
        "```"
      ]
    },
    {
      "cell_type": "code",
      "execution_count": null,
      "metadata": {
        "colab": {
          "base_uri": "https://localhost:8080/"
        },
        "id": "n7RL-TBmlLBg",
        "outputId": "95f680e6-0456-43d9-8408-364f2cfed75a"
      },
      "outputs": [
        {
          "name": "stdout",
          "output_type": "stream",
          "text": [
            "CANCEL Button Specifications:\n",
            "Button Name: CANCEL\n",
            "Number of the border characters for the top and the bottom: 28\n",
            "Number of spaces between the left side border and the first character of the button name: 10\n",
            "Number of spaces between the right side border and the last character of the button name: 10\n",
            "Characters representing the borders: CANCEL\n",
            "\n",
            "xxxxxxxxxxxxxxxxxxxxxxxxxxxx\n",
            "x          CANCEL          x\n",
            "xxxxxxxxxxxxxxxxxxxxxxxxxxxx\n",
            "=======================================================\n",
            "Notify Button Specifications:\n",
            "Button Name: Notify\n",
            "Number of the border characters for the top and the bottom: 14\n",
            "Number of spaces between the left side border and the first character of the button name: 3\n",
            "Number of spaces between the right side border and the last character of the button name: 3\n",
            "Characters representing the borders: Notify\n",
            "\n",
            "!!!!!!!!!!!!!!\n",
            "!   Notify   !\n",
            "!!!!!!!!!!!!!!\n",
            "=======================================================\n",
            "SAVE PROGRESS Button Specifications:\n",
            "Button Name: SAVE PROGRESS\n",
            "Number of the border characters for the top and the bottom: 25\n",
            "Number of spaces between the left side border and the first character of the button name: 5\n",
            "Number of spaces between the right side border and the last character of the button name: 5\n",
            "Characters representing the borders: SAVE PROGRESS\n",
            "\n",
            "$$$$$$$$$$$$$$$$$$$$$$$$$\n",
            "$     SAVE PROGRESS     $\n",
            "$$$$$$$$$$$$$$$$$$$$$$$$$\n"
          ]
        }
      ],
      "source": [
        "class buttons:\n",
        "    def __init__(self,word, spaces, border):\n",
        "        self.word = word\n",
        "        self.spaces = spaces\n",
        "        self.border = border\n",
        "        sum = 2+self.spaces*2+len(self.word)\n",
        "        print(f'{self.word} Button Specifications:')\n",
        "        print(f'Button Name: {self.word}')\n",
        "        print(f'Number of the border characters for the top and the bottom: {sum}')\n",
        "        print(f'Number of spaces between the left side border and the first character of the button name: {self.spaces}')\n",
        "        print(f'Number of spaces between the right side border and the last character of the button name: {self.spaces}')\n",
        "        print(f'Characters representing the borders: {self.word}')\n",
        "        print(f\"\\n{self.border*sum}\\n{self.border+' '*self.spaces+self.word+' '*self.spaces+self.border}\\n{self.border*sum}\")\n",
        "word = \"CANCEL\"\n",
        "spaces = 10\n",
        "border = 'x'\n",
        "b1 = buttons(word, spaces, border)\n",
        "print(\"=======================================================\")\n",
        "b2 = buttons(\"Notify\",3, '!')\n",
        "print(\"=======================================================\")\n",
        "b3 = buttons('SAVE PROGRESS', 5, '$')"
      ]
    },
    {
      "cell_type": "markdown",
      "metadata": {
        "id": "tbZKlkrd8FaS"
      },
      "source": [
        "8. Suppose your little sibling wants your help to check his math homework. He is done with his homework but wants you to see if all his results are correct. Since the student with all correct results gets 3 stars. However, you want your brother to check this on his own. So, you design a calculator for him in python. You could have given your scientific calculator but you wanted to give him a basic calculator and also wanted to see if you can even design one.\n",
        "\n",
        "Subtasks:\n",
        "\n",
        "1.Create a class called Calculator.\n",
        "\n",
        "2.Your class shall have 1 constructor and 4 methods, namely add, subtract, multiply and divide.\n",
        "\n",
        "3.Now, create an object of your class. After creating an object, it should print \"Let’s Calculate!\"\n",
        "\n",
        "4.Then take 3 inputs from the user: first value, operator, second value\n",
        "\n",
        "5.Now based on the given operator, call the required method and print the result.\n",
        "\n",
        "```\n",
        "Sample Input:\n",
        "1\n",
        "+\n",
        "2\n",
        "Sample Output:\n",
        "Let’s Calculate!\n",
        "Value 1: 1\n",
        "Operator: +\n",
        "Value 2: 2\n",
        "Result:  3\n",
        "```"
      ]
    },
    {
      "cell_type": "code",
      "execution_count": null,
      "metadata": {
        "colab": {
          "base_uri": "https://localhost:8080/"
        },
        "id": "MujShnjz8JnT",
        "outputId": "b23bb1c8-5f65-4681-a031-b25df8682a25"
      },
      "outputs": [
        {
          "name": "stdout",
          "output_type": "stream",
          "text": [
            "Let's Calculate!\n",
            "Value 1: 1\n",
            "Operator: +\n",
            "Value 2: 2\n",
            "Result: 3\n"
          ]
        }
      ],
      "source": [
        "class Calculator:\n",
        "    def __init__ (self):\n",
        "        # pass\n",
        "    # def Calculate(self,val1,op,val2):\n",
        "        self.val1 = int(input()) #val1\n",
        "        self.op = input() #op\n",
        "        self.val2 = int(input()) #val2\n",
        "        print(\"Let's Calculate!\")\n",
        "        print(f'Value 1: {self.val1}')\n",
        "        print(f'Operator: {self.op}')\n",
        "        print(f'Value 2: {self.val2}')\n",
        "        if self.op == '+':\n",
        "            print(f'Result: {self.add()}')\n",
        "        elif self.op == '-':\n",
        "            print(f'Result: {self.subtract()}')\n",
        "        elif self.op == '*':\n",
        "            print(f'Result: {self.multiply()}')\n",
        "        elif self.op == '/':\n",
        "            print(f'Result: {self.divide()}')\n",
        "    def add(self):\n",
        "        val = self.val1 + self.val2\n",
        "        return val\n",
        "    def subtract(self):\n",
        "        val = self.val1 - self.val2\n",
        "        return val\n",
        "    def multiply(self):\n",
        "        val = self.val1 * self.val2\n",
        "        return val\n",
        "    def divide(self):\n",
        "        val = self.val1 / self.val2\n",
        "        return val\n",
        "s = Calculator()\n",
        "# val1 = int(input())\n",
        "# op = input()\n",
        "# val2 = int(input())\n",
        "# s.Calculate(val1,op,val2)"
      ]
    },
    {
      "cell_type": "markdown",
      "metadata": {
        "id": "ZntnCmZJ8OEE"
      },
      "source": [
        "9. Implement the design of the Patient class so that the following output is produced:\n",
        "[For BMI, the formula is BMI = weight/height^2, where weight is in kg and height in meters] \n",
        "Driver Code\tOutput\n",
        "\n",
        "```\n",
        "# Write your code here\n",
        "\n",
        "p1 = Patient(\"A\", 55, 63.0, 158.0)\n",
        "p1.printDetails()\n",
        "print(\"====================\")\n",
        "p2 = Patient(\"B\", 53, 61.0, 149.0)\n",
        "p2.printDetails()\n",
        "\n",
        "Output:\n",
        "Name: A\n",
        "Age: 55\n",
        "Weight: 63.0 kg\n",
        "Height: 158.0 cm\n",
        "BMI: 25.236340330075304\n",
        "====================\n",
        "Name: B\n",
        "Age: 53\n",
        "Weight: 61.0 kg\n",
        "Height: 149.0 cm\n",
        "BMI: 27.476239809017613\n",
        "``` "
      ]
    },
    {
      "cell_type": "code",
      "execution_count": null,
      "metadata": {
        "colab": {
          "base_uri": "https://localhost:8080/"
        },
        "id": "2HYACFsi8RdN",
        "outputId": "eda2fda4-d552-4677-8702-df401f4998d5"
      },
      "outputs": [
        {
          "name": "stdout",
          "output_type": "stream",
          "text": [
            "Name: A\n",
            "Age: 55\n",
            "Weight: 63.0 kg\n",
            "Height: 158.0 cm\n",
            "BMI: 25.236340330075304\n",
            "====================\n",
            "Name: B\n",
            "Age: 53\n",
            "Weight: 61.0 kg\n",
            "Height: 149.0 cm\n",
            "BMI: 27.476239809017613\n"
          ]
        }
      ],
      "source": [
        "class Patient:\n",
        "    def __init__(self,name, age, weight, height):\n",
        "        self.name = name\n",
        "        self.age = age\n",
        "        self.weight = weight\n",
        "        self.height = height\n",
        "    def printDetails(self):\n",
        "        print(f'Name: {self.name}')\n",
        "        print(f'Age: {self.age}')\n",
        "        print(f'Weight: {self.weight} kg')\n",
        "        print(f'Height: {self.height} cm')\n",
        "        print(f'BMI: {self.weight/((self.height/100)**2)}')\n",
        "p1 = Patient(\"A\", 55, 63.0, 158.0)\n",
        "p1.printDetails()\n",
        "print(\"====================\")\n",
        "p2 = Patient(\"B\", 53, 61.0, 149.0)\n",
        "p2.printDetails()"
      ]
    },
    {
      "cell_type": "markdown",
      "metadata": {
        "id": "7gR338-k8V1l"
      },
      "source": [
        "10. Design a \"Vehicle\" class. A vehicle assumes that the whole world is a 2-dimensional graph paper. It maintains its x and y coordinates (both are integers). Any new object created of the Vehicle class will always start at the coordinates (0,0). \n",
        "\n",
        "It must have methods to move up, down, left, right and a print_position() method for printing the current coordinate.\n",
        "\n",
        "Note: All moves are 1 step. That means a single call to any move method changes the value of either x or y or both by 1.\n",
        "\n",
        "[You are not allowed to change the code below]\n",
        "\n",
        "```\n",
        "# Write your class here\n",
        "\n",
        "car = Vehicle()\n",
        "car.print_position()\n",
        "car.moveUp()\n",
        "car.print_position()\n",
        "car.moveLeft()\n",
        "car.print_position()\n",
        "car.moveDown()\n",
        "car.print_position()\n",
        "car.moveRight()\n",
        "\n",
        "OUTPUT\n",
        "(0,0)\n",
        "(0,1)\n",
        "(-1,1)\n",
        "(-1,0)\n",
        "```"
      ]
    },
    {
      "cell_type": "code",
      "execution_count": null,
      "metadata": {
        "colab": {
          "base_uri": "https://localhost:8080/"
        },
        "id": "GJUCWfaS8Z0X",
        "outputId": "23b2f34f-d9bb-49fd-ca6e-9687cf02114b"
      },
      "outputs": [
        {
          "name": "stdout",
          "output_type": "stream",
          "text": [
            "(0, 0)\n",
            "(0, 1)\n",
            "(-1, 1)\n",
            "(-1, 0)\n"
          ]
        }
      ],
      "source": [
        "class Vehicle:\n",
        "    def __init__(self):\n",
        "        self.x = 0\n",
        "        self.y = 0\n",
        "    def print_position(self):\n",
        "        print((self.x, self.y))\n",
        "    def moveUp(self):\n",
        "        self.y+=1\n",
        "    def moveDown(self):\n",
        "        self.y-=1\n",
        "    def moveLeft(self):\n",
        "        self.x-=1\n",
        "    def moveRight(self):\n",
        "        self.x+=1\n",
        "car = Vehicle()\n",
        "car.print_position()\n",
        "car.moveUp()\n",
        "car.print_position()\n",
        "car.moveLeft()\n",
        "car.print_position()\n",
        "car.moveDown()\n",
        "car.print_position()\n",
        "car.moveRight()"
      ]
    },
    {
      "cell_type": "markdown",
      "metadata": {
        "id": "HXFtw0p70xMt"
      },
      "source": [
        "11. Design a class Shape for the given code below.\n",
        "\n",
        "* Write a class Shape.\n",
        "\n",
        "* Write the required constructor that takes 3 parameters and initialize the instance variables accordingly.\n",
        "\n",
        "* Write a method area() that prints the area.\n",
        "\n",
        "Hint: the area method can calculate only for the shapes: Triangle, Rectangle, Rhombus, and Square. So, you have to use conditions inside this method\n",
        "\n",
        "For this task, assume that --\n",
        "\n",
        "* for a triangle, the arguments passed are the base and height\n",
        "* for a rhombus, the arguments passed are the diagonals\n",
        "* for a square or rectangle, the arguments passed are the sides.\n",
        "\n",
        "```\n",
        "# Write your code here\n",
        "\n",
        "Driver Code\n",
        "\n",
        "triangle = Shape(\"Triangle\",10,25)\n",
        "triangle.area()\n",
        "print(\"==========================\")\n",
        "square = Shape(\"Square\",10,10)\n",
        "square.area()\n",
        "print(\"==========================\")\n",
        "rhombus = Shape(\"Rhombus\",18,25)\n",
        "rhombus.area()\n",
        "print(\"==========================\")\n",
        "rectangle = Shape(\"Rectangle\",15,30)\n",
        "rectangle.area()\n",
        "print(\"==========================\")\n",
        "trapezium = Shape(\"Trapezium\",15,30)\n",
        "trapezium.area()\n",
        "\n",
        "Output\n",
        "\n",
        "Area: 125.0\n",
        "==========================\n",
        "Area: 100\n",
        "==========================\n",
        "Area: 225.0\n",
        "==========================\n",
        "Area: 450\n",
        "==========================\n",
        "Area: Shape unknown\n",
        "```"
      ]
    },
    {
      "cell_type": "code",
      "execution_count": null,
      "metadata": {
        "colab": {
          "base_uri": "https://localhost:8080/"
        },
        "id": "6xXi4Kt23bxt",
        "outputId": "08fd7bbf-360e-46ac-dd90-50ca4e1c5f55"
      },
      "outputs": [
        {
          "name": "stdout",
          "output_type": "stream",
          "text": [
            "Area: 125.0\n",
            "==========================\n",
            "Area: 100\n",
            "==========================\n",
            "Area: 225.0\n",
            "==========================\n",
            "Area: 450\n",
            "==========================\n",
            "Area: Shape Unknown\n"
          ]
        }
      ],
      "source": [
        "class Shape:\n",
        "  def __init__(self,typ,b,h):\n",
        "    self.typ = typ\n",
        "    self.side1 = b\n",
        "    self.side2 = h\n",
        "  def area(self):\n",
        "    if self.typ == 'Triangle' or self.typ == 'Rhombus':\n",
        "      print(f'Area: {0.5*self.side1*self.side2}')\n",
        "    elif self.typ == 'Square' or self.typ == 'Rectangle':\n",
        "      print(f'Area: {self.side1*self.side2}')\n",
        "    else:\n",
        "      print(f'Area: Shape Unknown')\n",
        "triangle = Shape(\"Triangle\",10,25)\n",
        "triangle.area()\n",
        "print(\"==========================\")\n",
        "square = Shape(\"Square\",10,10)\n",
        "square.area()\n",
        "print(\"==========================\")\n",
        "rhombus = Shape(\"Rhombus\",18,25)\n",
        "rhombus.area()\n",
        "print(\"==========================\")\n",
        "rectangle = Shape(\"Rectangle\",15,30)\n",
        "rectangle.area()\n",
        "print(\"==========================\")\n",
        "trapezium = Shape(\"Trapezium\",15,30)\n",
        "trapezium.area()"
      ]
    },
    {
      "cell_type": "markdown",
      "metadata": {
        "id": "MecTlirr4IPl"
      },
      "source": [
        "12. Implement the design of the Calculator class so that the following output is produced:\n",
        "\n",
        "```\n",
        "Driver Code\n",
        "\n",
        "# Write your code here\n",
        "\n",
        "c1 = Calculator()\n",
        "print(\"==================\")\n",
        "val = c1.calculate(10, 20, '+')\n",
        "print(\"Returned value:\", val)\n",
        "c1.showCalculation()\n",
        "print(\"==================\")\n",
        "val = c1.calculate(val, 10, '-')\n",
        "print(\"Returned value:\", val)\n",
        "c1.showCalculation()\n",
        "print(\"==================\")\n",
        "val = c1.calculate(val, 5, '*')\n",
        "print(\"Returned value:\", val)\n",
        "c1.showCalculation()\n",
        "print(\"==================\")\n",
        "val = c1.calculate(val, 16, '/')\n",
        "print(\"Returned value:\", val)\n",
        "c1.showCalculation()\n",
        "\n",
        "Output\n",
        "\n",
        "Calculator is ready!\n",
        "==================\n",
        "Returned value: 30\n",
        "10 + 20 = 30\n",
        "==================\n",
        "Returned value: 20\n",
        "30 - 10 = 20\n",
        "==================\n",
        "Returned value: 100\n",
        "20 * 5 = 100\n",
        "==================\n",
        "Returned value: 6.25\n",
        "100 / 16 = 6.25\n",
        "```"
      ]
    },
    {
      "cell_type": "code",
      "execution_count": null,
      "metadata": {
        "colab": {
          "base_uri": "https://localhost:8080/"
        },
        "id": "sz2kvMmc4XfF",
        "outputId": "6db68331-ae9a-4c6b-edad-774703ef2a97"
      },
      "outputs": [
        {
          "name": "stdout",
          "output_type": "stream",
          "text": [
            "Calculator is ready!\n",
            "==================\n",
            "Returned value: 30\n",
            "10 + 20 = 30\n",
            "==================\n",
            "Returned value: 20\n",
            "30 - 10 = 20\n",
            "==================\n",
            "Returned value: 100\n",
            "20 * 5 = 100\n",
            "==================\n",
            "Returned value: 6.25\n",
            "100 / 16 = 6.25\n"
          ]
        }
      ],
      "source": [
        "class Calculator:\n",
        "  def __init__(self):\n",
        "    print('Calculator is ready!')\n",
        "  def calculate(self, val1, val2, sign):\n",
        "    self.value1 = val1\n",
        "    self.value2 = val2\n",
        "    self.sign = sign\n",
        "    sum = 0\n",
        "    if self.sign == '+':\n",
        "      sum = self.value1 + self.value2\n",
        "    elif self.sign == '-':\n",
        "      sum = self.value1 - self.value2\n",
        "    elif self.sign == '*':\n",
        "      sum = self.value1 * self.value2\n",
        "    elif self.sign == '/':\n",
        "      sum = self.value1 / self.value2\n",
        "    return sum\n",
        "  def showCalculation(self):\n",
        "    print(f'{self.value1} {self.sign} {self.value2} = {val}')\n",
        "c1 = Calculator()\n",
        "print(\"==================\")\n",
        "val = c1.calculate(10, 20, '+')\n",
        "print(\"Returned value:\", val)\n",
        "c1.showCalculation()\n",
        "print(\"==================\")\n",
        "val = c1.calculate(val, 10, '-')\n",
        "print(\"Returned value:\", val)\n",
        "c1.showCalculation()\n",
        "print(\"==================\")\n",
        "val = c1.calculate(val, 5, '*')\n",
        "print(\"Returned value:\", val)\n",
        "c1.showCalculation()\n",
        "print(\"==================\")\n",
        "val = c1.calculate(val, 16, '/')\n",
        "print(\"Returned value:\", val)\n",
        "c1.showCalculation()"
      ]
    },
    {
      "cell_type": "markdown",
      "metadata": {
        "id": "1V2TKT9m8rXx"
      },
      "source": [
        "13. Design the Programmer class in such a way so that the following code provides the expected output.\n",
        "\n",
        "Hint:\n",
        "\n",
        "o Write the constructor with appropriate printing and multiple arguments.\n",
        "\n",
        "o Write the addExp() method with appropriate printing and argument.\n",
        "\n",
        "o Write the printDetails() method\n",
        "\n",
        "[You are not allowed to change the code below]\n",
        "\n",
        "```\n",
        "# Write your code here.\n",
        "p1 = Programmer(\"Ethen Hunt\", \"Java\", 10)\n",
        "p1.printDetails()\n",
        "print('--------------------------')\n",
        "p2 = Programmer(\"James Bond\", \"C++\", 7)\n",
        "p2.printDetails()\n",
        "print('--------------------------')\n",
        "p3 = Programmer(\"Jon Snow\", \"Python\", 4)\n",
        "p3.printDetails()\n",
        "p3.addExp(5)\n",
        "p3.printDetails()\n",
        "\n",
        "OUTPUT:\n",
        "Horray! A new programmer is born\n",
        "Name: Ethen Hunt\n",
        "Language: Java\n",
        "Experience: 10 years.\n",
        "--------------------------      \n",
        "Horray! A new programmer is born\n",
        "Name: James Bond\n",
        "Language: C++\n",
        "Experience: 7 years.\n",
        "--------------------------\n",
        "Horray! A new programmer is born\n",
        "Name: Jon Snow\n",
        "Language: Python\n",
        "Experience: 4 years.\n",
        "Updating experience of Jon Snow\n",
        "Name: Jon Snow\n",
        "Language: Python\n",
        "Experience: 9 years.\n",
        "```"
      ]
    },
    {
      "cell_type": "code",
      "execution_count": null,
      "metadata": {
        "colab": {
          "base_uri": "https://localhost:8080/"
        },
        "id": "QIBEslnt8t7B",
        "outputId": "393d9abc-5034-45c7-c114-08bdcd153f1f"
      },
      "outputs": [
        {
          "name": "stdout",
          "output_type": "stream",
          "text": [
            "Horray! A new programmer is born\n",
            "Name: Ethen Hunt\n",
            "Language: Java\n",
            "Experience: 10 years.\n",
            "--------------------------\n",
            "Horray! A new programmer is born\n",
            "Name: James Bond\n",
            "Language: C++\n",
            "Experience: 7 years.\n",
            "--------------------------\n",
            "Horray! A new programmer is born\n",
            "Name: Jon Snow\n",
            "Language: Python\n",
            "Experience: 4 years.\n",
            "Updating experience of Jon Snow\n",
            "Name: Jon Snow\n",
            "Language: Python\n",
            "Experience: 9 years.\n"
          ]
        }
      ],
      "source": [
        "class Programmer:\n",
        "    def __init__(self, name, language, experience):\n",
        "        self.name = name\n",
        "        self.language = language\n",
        "        self.experience = experience\n",
        "        print('Horray! A new programmer is born')\n",
        "    def printDetails(self):\n",
        "        print(f'Name: {self.name}')\n",
        "        print(f'Language: {self.language}')\n",
        "        print(f'Experience: {self.experience} years.')\n",
        "    def addExp(self,add):\n",
        "        self.add = add\n",
        "        self.experience += self.add\n",
        "        print(f'Updating experience of {self.name}')\n",
        "p1 = Programmer(\"Ethen Hunt\", \"Java\", 10)\n",
        "p1.printDetails()\n",
        "print('--------------------------')\n",
        "p2 = Programmer(\"James Bond\", \"C++\", 7)\n",
        "p2.printDetails()\n",
        "print('--------------------------')\n",
        "p3 = Programmer(\"Jon Snow\", \"Python\", 4)\n",
        "p3.printDetails()\n",
        "p3.addExp(5)\n",
        "p3.printDetails()"
      ]
    },
    {
      "cell_type": "markdown",
      "metadata": {
        "id": "wLLaH9r7lYJw"
      },
      "source": [
        "#LAB4"
      ]
    },
    {
      "cell_type": "markdown",
      "metadata": {
        "id": "wo9CcVyRlYJw"
      },
      "source": [
        "\n",
        "1. Write a class called Customer with the required constructor and methods to get the following output. \n",
        "\n",
        "Subtasks:\n",
        "\n",
        "1.Create a class called Customer.\n",
        "\n",
        "2.Create the required constructor.\n",
        "\n",
        "3.Create a method called greet that works if no arguments are passed or if one argument is passed. (Hint: You may need to use the keyword NONE)\n",
        "\n",
        "4.Create a method called purchase that can take as many arguments as the user wants to give.\n",
        "\n",
        "[You are not allowed to change the code below]\n",
        "\n",
        "```\n",
        "# Write your codes for subtasks 1-4 here.\n",
        "\n",
        "customer_1 = Customer(\"Sam\")\n",
        "customer_1.greet()\n",
        "customer_1.purchase(\"chips\", \"chocolate\", \"orange juice\")\n",
        "print(\"-----------------------------\")\n",
        "customer_2 = Customer(\"David\")\n",
        "customer_2.greet(\"David\")\n",
        "customer_2.purchase(\"orange juice\")\n",
        "\n",
        "OUTPUT:\n",
        "Hello! \n",
        "Sam, you purchased 3 item(s): \n",
        "chips\n",
        "chocolate\n",
        "orange juice\n",
        "-----------------------------\n",
        "Hello David!\n",
        "David, you purchased 1 item(s): \n",
        "orange juice\n",
        "```\n"
      ]
    },
    {
      "cell_type": "code",
      "execution_count": null,
      "metadata": {
        "id": "fxzX4FHvlYJw",
        "outputId": "bd689bb4-8e69-41ea-aeb8-27e79dfa217a"
      },
      "outputs": [
        {
          "name": "stdout",
          "output_type": "stream",
          "text": [
            "Hello!\n",
            "Sam, you purchased 3 item(s):\n",
            "chips\n",
            "chocolate\n",
            "orange juice\n",
            "-----------------------------\n",
            "Hello David!\n",
            "David, you purchased 1 item(s):\n",
            "orange juice\n"
          ]
        }
      ],
      "source": [
        "class Customer:\n",
        "    def __init__(self,name):\n",
        "        self.name = name\n",
        "    def greet(self,cust = ''):\n",
        "        self.cust = cust\n",
        "        if self.cust == '':\n",
        "            print('Hello!')\n",
        "        else:\n",
        "            print(f'Hello {self.cust}!')\n",
        "    def purchase(self,*n):\n",
        "        print(f'{self.name}, you purchased {len(n)} item(s):')\n",
        "        for i in n:\n",
        "            print(i)\n",
        "customer_1 = Customer(\"Sam\")\n",
        "customer_1.greet()\n",
        "customer_1.purchase(\"chips\", \"chocolate\", \"orange juice\")\n",
        "print(\"-----------------------------\")\n",
        "customer_2 = Customer(\"David\")\n",
        "customer_2.greet(\"David\")\n",
        "customer_2.purchase(\"orange juice\")"
      ]
    },
    {
      "cell_type": "markdown",
      "metadata": {
        "id": "J7toFkNBlYJx"
      },
      "source": [
        "2. The Giant Panda Protection and Research Center in the Sichuan province of southwest China, actually employs a category of workers known as panda nannies. The primary responsibility is to play with adorable panda cubs and name them, determine gender, keep track of their age and hours they sleep. So being a programmer panda nanny, you will create a code that will do all these works for you.\n",
        "\n",
        " \n",
        "1.Create a class named Panda and also write the constructor.\n",
        "\n",
        "2.Access the instance attributes and print them in the given format.\n",
        "\n",
        "3.Call instance methods to keep track of their daily hours of sleep.\n",
        "\n",
        "4.Suppose consulting with other panda nannies you have set some criteria based on which you will make their diet plans. The criteria are:\n",
        "\n",
        "          ** Mixed Veggies for pandas having 3 to 5 hours (included) of sleep daily.\n",
        "\n",
        "         ** Eggplant & Tofu for pandas having 6 to 8 hours (included) of sleep daily.\n",
        "\n",
        "         ** Broccoli Chicken for pandas having 9 to 11 hours (included) of sleep daily.\n",
        "\n",
        "         ** Lastly if no arguments are passed then just give it bamboo leaves.\n",
        "\n",
        "Now handle this problem modifying the method designed to keep track of their daily hours of sleep and determine diet plan using method overloading.\n",
        "\n",
        "[You are not allowed to change the code below]\n",
        "\n",
        "```\n",
        "#Write your code here for subtasks 1-4.\n",
        " \n",
        "panda1 = Panda(\"Kunfu\",\"Male\", 5)\n",
        "panda2=Panda(\"Pan Pan\",\"Female\",3)\n",
        "panda3=Panda(\"Ming Ming\",\"Female\",8)\n",
        "\n",
        "print(\"{} is a {} Panda Bear who is {} years old\".format(panda1.name,panda1.gender,panda1.age))\n",
        "\n",
        "print(\"{} is a {} Panda Bear who is {} years old\".format(panda2.name,panda2.gender,panda2.age))\n",
        "\n",
        "print(\"{} is a {} Panda Bear who is {} years old\".format(panda3.name,panda3.gender,panda3.age))\n",
        "print(\"===========================\")\n",
        "print(panda2.sleep(10))\n",
        "print(panda1.sleep(4))\n",
        "print(panda3.sleep())\n",
        "     \n",
        "OUTPUT: \n",
        "Kunfu is a Male Panda Bear who is 5 years old\n",
        "Pan Pan is a Female Panda Bear who is 3 years old\n",
        "Ming Ming is a Female Panda Bear who is 8 years old\n",
        "===========================\n",
        "Pan Pan sleeps 10 hours daily and should have Broccoli Chicken\n",
        "Kunfu sleeps 4 hours daily and should have Mixed Veggies\n",
        "Ming Ming's duration is unknown thus should have only  bamboo leaves\n",
        "```\n"
      ]
    },
    {
      "cell_type": "code",
      "execution_count": null,
      "metadata": {
        "id": "MkAXo9j9lYJx",
        "outputId": "784d0895-f0ba-4cfb-bf75-9fe27070c464"
      },
      "outputs": [
        {
          "name": "stdout",
          "output_type": "stream",
          "text": [
            "Kunfu is a Male Panda Bear who is 5 years old\n",
            "Pan Pan is a Female Panda Bear who is 3 years old\n",
            "Ming Ming is a Female Panda Bear who is 8 years old\n",
            "===========================\n",
            "Pan Pan sleeps 10 daily and should have Broccoli Chicken\n",
            "Kunfu sleeps 4 daily and should have Mixed Veggies\n",
            "Ming Ming's duration is unknown thus should have only bamboo leaves\n"
          ]
        }
      ],
      "source": [
        "class Panda:\n",
        "    def __init__(self, name, gender, age):\n",
        "        self.name = name\n",
        "        self.gender = gender\n",
        "        self.age = age\n",
        "    def sleep(self,integer = 0):\n",
        "        self.integer = integer\n",
        "        if self.integer >= 3 and self.integer <= 5:\n",
        "            return f'{self.name} sleeps {self.integer} daily and should have Mixed Veggies'\n",
        "        elif self.integer >= 6 and self.integer <= 8:\n",
        "            return f'{self.name} sleeps {self.integer} daily and should have Eggplant & Tofu'\n",
        "        elif self.integer >= 9 and self.integer <= 11:\n",
        "            return f'{self.name} sleeps {self.integer} daily and should have Broccoli Chicken'\n",
        "        elif self.integer == 0:\n",
        "            return f\"{self.name}'s duration is unknown thus should have only bamboo leaves\"\n",
        "panda1 = Panda(\"Kunfu\",\"Male\", 5)\n",
        "panda2=Panda(\"Pan Pan\",\"Female\",3)\n",
        "panda3=Panda(\"Ming Ming\",\"Female\",8)\n",
        "\n",
        "print(\"{} is a {} Panda Bear who is {} years old\".format(panda1.name,panda1.gender,panda1.age))\n",
        "\n",
        "print(\"{} is a {} Panda Bear who is {} years old\".format(panda2.name,panda2.gender,panda2.age))\n",
        "\n",
        "print(\"{} is a {} Panda Bear who is {} years old\".format(panda3.name,panda3.gender,panda3.age))\n",
        "print(\"===========================\")\n",
        "print(panda2.sleep(10))\n",
        "print(panda1.sleep(4))\n",
        "print(panda3.sleep())"
      ]
    },
    {
      "cell_type": "markdown",
      "metadata": {
        "id": "FEeGWeHplYJx"
      },
      "source": [
        "3. Analyze the given code below to write Cat class to get the output as shown.\n",
        "\n",
        "Hints:\n",
        "\n",
        "●Remember, the constructor is a special method. Here, you have to deal with constructor overloading which is similar to method overloading.\n",
        "\n",
        "●You may need to use the keyword None\n",
        "\n",
        "●Your class should have 2 variables\n",
        "\n",
        "[You are not allowed to change the code below]\n",
        "\n",
        "```\n",
        "#Write your code here\n",
        " \n",
        "c1 = Cat()\n",
        "c2 = Cat(\"Black\")\n",
        "c3 = Cat(\"Brown\", \"jumping\")\n",
        "c4 = Cat(\"Red\", \"purring\")\n",
        "c1.printCat()\n",
        "c2.printCat()\n",
        "c3.printCat()\n",
        "c4.printCat()\n",
        "c1.changeColor(\"Blue\")\n",
        "c3.changeColor(\"Purple\")\n",
        "c1.printCat()\n",
        "c3.printCat()\n",
        "\n",
        "OUTPUT\n",
        "White cat is sitting\n",
        "Black cat is sitting\n",
        "Brown cat is jumping\n",
        "Red cat is purring\n",
        "Blue cat is sitting\n",
        "Purple cat is jumping\n",
        "```"
      ]
    },
    {
      "cell_type": "code",
      "execution_count": null,
      "metadata": {
        "id": "AE79rcvqlYJy",
        "outputId": "023d4472-ca8c-4a48-e9e3-6d5c2004b542"
      },
      "outputs": [
        {
          "name": "stdout",
          "output_type": "stream",
          "text": [
            "White cat is sitting\n",
            "Black cat is sitting\n",
            "Brown cat is jumping\n",
            "Red cat is purring\n",
            "Blue cat is sitting\n",
            "Purple cat is jumping\n"
          ]
        }
      ],
      "source": [
        "class Cat:\n",
        "    def __init__(self, color='White', doing='sitting'):\n",
        "        self.color = color\n",
        "        self.doing = doing\n",
        "    def printCat(self):\n",
        "        print(f'{self.color} cat is {self.doing}')\n",
        "    def changeColor(self, changecolor):\n",
        "        self.color = changecolor\n",
        "c1 = Cat()\n",
        "c2 = Cat(\"Black\")\n",
        "c3 = Cat(\"Brown\", \"jumping\")\n",
        "c4 = Cat(\"Red\", \"purring\")\n",
        "c1.printCat()\n",
        "c2.printCat()\n",
        "c3.printCat()\n",
        "c4.printCat()\n",
        "c1.changeColor(\"Blue\")\n",
        "c3.changeColor(\"Purple\")\n",
        "c1.printCat()\n",
        "c3.printCat()"
      ]
    },
    {
      "cell_type": "markdown",
      "metadata": {
        "id": "UYhvsYWSlYJy"
      },
      "source": [
        "4. Implement the design of the Student class so that the following output is produced:\n",
        "\n",
        "```\n",
        "Driver Code\n",
        "# Write your code here\n",
        "s1 = Student()\n",
        "s1.quizcalc(10)\n",
        "print('--------------------------------')\n",
        "s1.printdetail()\n",
        "s2 = Student('Harry')\n",
        "s2.quizcalc(10,8)\n",
        "print('--------------------------------')\n",
        "s2.printdetail()\n",
        "s3 = Student('Hermione')\n",
        "s3.quizcalc(10,9,10)\n",
        "print('--------------------------------')\n",
        "s3.printdetail()\n",
        "\n",
        "Output\n",
        "--------------------------------\n",
        "Hello default student\n",
        "Your average quiz score is 3.3333333333333335\n",
        "--------------------------------\n",
        "Hello Harry\n",
        "Your average quiz score is 6.0\n",
        "-------------------------------- \n",
        "Hello Hermione\n",
        "Your average quiz score is 9.666666666666666\n",
        "```"
      ]
    },
    {
      "cell_type": "code",
      "execution_count": null,
      "metadata": {
        "id": "g4i2VBaElYJy",
        "outputId": "594f4b23-f889-4dde-c82a-2a5026fe28b2"
      },
      "outputs": [
        {
          "name": "stdout",
          "output_type": "stream",
          "text": [
            "--------------------------------\n",
            "Hello default student\n",
            "Your average quiz score is 3.3333333333333335\n",
            "--------------------------------\n",
            "Hello Harry\n",
            "Your average quiz score is 6.0\n",
            "--------------------------------\n",
            "Hello Hermione\n",
            "Your average quiz score is 9.666666666666666\n"
          ]
        }
      ],
      "source": [
        "class Student:\n",
        "    def __init__(self, name = 'default student'):\n",
        "        self.name = name\n",
        "    def quizcalc(self,*n):\n",
        "        sum = 0\n",
        "        for i in n:\n",
        "            sum+=i\n",
        "        self.average = sum/3\n",
        "    def printdetail(self):\n",
        "        print(f'Hello {self.name}\\nYour average quiz score is {self.average}')\n",
        "s1 = Student()\n",
        "s1.quizcalc(10)\n",
        "print('--------------------------------')\n",
        "s1.printdetail()\n",
        "s2 = Student('Harry')\n",
        "s2.quizcalc(10,8)\n",
        "print('--------------------------------')\n",
        "s2.printdetail()\n",
        "s3 = Student('Hermione')\n",
        "s3.quizcalc(10,9,10)\n",
        "print('--------------------------------')\n",
        "s3.printdetail()"
      ]
    },
    {
      "cell_type": "markdown",
      "metadata": {
        "id": "YpsydTCrlYJy"
      },
      "source": [
        "5. Design the Student class such a way so that the following code provides the expected output.\n",
        "\n",
        "Hint:\n",
        "\n",
        "●Write the constructor with appropriate default value for arguments.\n",
        "\n",
        "●Write the dailyEffort() method with appropriate argument.\n",
        "\n",
        "●Write the printDetails() method. For printing suggestions check the following instructions.\n",
        "\n",
        "⮚If hour <= 2 print 'Suggestion: Should give more effort!'\n",
        "\n",
        "⮚If hour <= 4 print 'Suggestion: Keep up the good work!'\n",
        "\n",
        "⮚Else print 'Suggestion: Excellent! Now motivate others.'\n",
        "\n",
        "[You are not allowed to change the code below]\n",
        "\n",
        "```\n",
        "# Write your code here.\n",
        "harry = Student('Harry Potter', 123)\n",
        "harry.dailyEffort(3)\n",
        "harry.printDetails()\t\n",
        "print('========================')\n",
        "john = Student(\"John Wick\", 456, \"BBA\")\n",
        "john.dailyEffort(2)\n",
        "john.printDetails()\n",
        "print('========================')\n",
        "naruto = Student(\"Naruto Uzumaki\", 777, \"Ninja\")\n",
        "naruto.dailyEffort(6)\n",
        "naruto.printDetails()\n",
        "\n",
        "OUTPUT:\n",
        "Name: Harry Potter\n",
        "ID: 123\n",
        "Department: CSE\n",
        "Daily Effort: 3 hour(s)\n",
        "Suggestion: Keep up the good work!\n",
        "========================\n",
        "Name: John Wick\n",
        "ID: 456\n",
        "Department: BBA\n",
        "Daily Effort: 2 hour(s)\n",
        "Suggestion: Should give more effort!\n",
        "========================\n",
        "Name: Naruto Uzumaki\n",
        "ID: 777\n",
        "Department: Ninja\n",
        "Daily Effort: 6 hour(s)\n",
        "Suggestion: Excellent! Now motivate others.\n",
        "```\n"
      ]
    },
    {
      "cell_type": "code",
      "execution_count": null,
      "metadata": {
        "id": "i2OxA5tYlYJy",
        "outputId": "c1892b4f-d2a6-4d4d-b6ee-73b089ebf731"
      },
      "outputs": [
        {
          "name": "stdout",
          "output_type": "stream",
          "text": [
            "Name: Harry Potter\n",
            "ID: 123\n",
            "Department: CSE\n",
            "Daily Effort: 3 hour(s)\n",
            "Keep up the good work!\n",
            "========================\n",
            "Name: John Wick\n",
            "ID: 456\n",
            "Department: BBA\n",
            "Daily Effort: 2 hour(s)\n",
            "Should give more effort!\n",
            "========================\n",
            "Name: Naruto Uzumaki\n",
            "ID: 777\n",
            "Department: Ninja\n",
            "Daily Effort: 6 hour(s)\n",
            "Excellent! Now motivate others.\n"
          ]
        }
      ],
      "source": [
        "class Student:\n",
        "    def __init__(self,name,id, dept='CSE'):\n",
        "        self.name = name\n",
        "        self.id = id\n",
        "        self.department = dept\n",
        "        print(f'Name: {self.name}\\nID: {self.id}\\nDepartment: {self.department}')\n",
        "    def dailyEffort(self,time):\n",
        "        self.time = time\n",
        "        print(f'Daily Effort: {self.time} hour(s)')\n",
        "    def printDetails(self):\n",
        "        if self.time <= 2:\n",
        "            print('Should give more effort!')\n",
        "        elif self.time <= 4:\n",
        "            print('Keep up the good work!')\n",
        "        else:\n",
        "            print('Excellent! Now motivate others.')\n",
        "harry = Student('Harry Potter', 123)\n",
        "harry.dailyEffort(3)\n",
        "harry.printDetails()\t\n",
        "print('========================')\n",
        "john = Student(\"John Wick\", 456, \"BBA\")\n",
        "john.dailyEffort(2)\n",
        "john.printDetails()\n",
        "print('========================')\n",
        "naruto = Student(\"Naruto Uzumaki\", 777, \"Ninja\")\n",
        "naruto.dailyEffort(6)\n",
        "naruto.printDetails()"
      ]
    },
    {
      "cell_type": "markdown",
      "metadata": {
        "id": "2LTTmzYflYJy"
      },
      "source": [
        "6. Implement the design of the Patient class so that the following output is produced:\n",
        "\n",
        "[You are not allowed to change the code below]\n",
        "\n",
        "```\n",
        "# Write your code here.\n",
        "p1 = Patient(\"Thomas\", 23)\n",
        "p1.add_Symptom(\"Headache\")\n",
        "p2 = Patient(\"Carol\", 20)\n",
        "p2.add_Symptom(\"Vomiting\", \"Coughing\")\n",
        "p3 = Patient(\"Mike\", 25)\n",
        "p3.add_Symptom(\"Fever\", \"Headache\", \"Coughing\")\n",
        "print(\"=========================\")\n",
        "p1.printPatientDetail()\n",
        "print(\"=========================\")\n",
        "p2.printPatientDetail()\n",
        "print(\"=========================\")\n",
        "p3.printPatientDetail()\n",
        "\n",
        "OUTPUT:\n",
        "=========================\n",
        "Name: Thomas\n",
        "Age: 23\n",
        "Symptoms: Headache\n",
        "=========================\n",
        "Name: Carol\n",
        "Age: 20\n",
        "Symptoms: Vomiting, Coughing\n",
        "=========================\n",
        "Name: Mike\n",
        "Age: 25\n",
        "Symptoms: Fever, Headache, Coughing\n",
        "```"
      ]
    },
    {
      "cell_type": "code",
      "execution_count": null,
      "metadata": {
        "id": "xBHtFkIzlYJz",
        "outputId": "4016ceb8-7438-439b-96a4-48910e31f517"
      },
      "outputs": [
        {
          "name": "stdout",
          "output_type": "stream",
          "text": [
            "=========================\n",
            "Name: Thomas\n",
            "Age: 23\n",
            "Symptoms: Headache\n",
            "=========================\n",
            "Name: Carol\n",
            "Age: 20\n",
            "Symptoms: Vomiting, Coughing\n",
            "=========================\n",
            "Name: Mike\n",
            "Age: 25\n",
            "Symptoms: Fever, Headache, Coughing\n"
          ]
        }
      ],
      "source": [
        "class Patient:\n",
        "    def __init__(self,name,age):\n",
        "        self.name = name\n",
        "        self.age = age\n",
        "    def add_Symptom(self,*disease):\n",
        "        self.symptoms = ''\n",
        "        for i in disease:\n",
        "            self.symptoms+=i+', ' \n",
        "    def printPatientDetail(self):\n",
        "        print(f'Name: {self.name}\\nAge: {self.age}\\nSymptoms: {self.symptoms[:-2:]}')\n",
        "p1 = Patient(\"Thomas\", 23)\n",
        "p1.add_Symptom(\"Headache\")\n",
        "p2 = Patient(\"Carol\", 20)\n",
        "p2.add_Symptom(\"Vomiting\", \"Coughing\")\n",
        "p3 = Patient(\"Mike\", 25)\n",
        "p3.add_Symptom(\"Fever\", \"Headache\", \"Coughing\")\n",
        "print(\"=========================\")\n",
        "p1.printPatientDetail()\n",
        "print(\"=========================\")\n",
        "p2.printPatientDetail()\n",
        "print(\"=========================\")\n",
        "p3.printPatientDetail()"
      ]
    },
    {
      "cell_type": "markdown",
      "metadata": {
        "id": "QwUBwoBKlYJz"
      },
      "source": [
        "7. Design the Match class such a way so that the following code provides the expected\n",
        "\n",
        "```\n",
        "# Write your code here.\n",
        "match1 = Match(\"Rangpur Riders-Cumilla Victorians\")\n",
        "print(\"=========================\")\n",
        "match1.add_run(4)\n",
        "match1.add_run(6)\n",
        "match1.add_over(1)\n",
        "print(match1.print_scoreboard())\n",
        "print(\"=========================\")\n",
        "match1.add_over(5)\n",
        "print(\"=========================\")\n",
        "match1.add_wicket(1)\n",
        "print(match1.print_scoreboard())\n",
        "\n",
        "OUTPUT:\n",
        "5..4..3..2..1.. Play !!!\n",
        "============================\n",
        "Batting Team: Rangpur Riders\n",
        "Bowling Team: Cumilla Victorians\n",
        "Total Runs: 10 Wickets: 0 Overs: 1\n",
        "============================\n",
        "Warning! Cannot add 5 over/s (5 over match)\n",
        "============================\n",
        "Batting Team: Rangpur Riders\n",
        "Bowling Team: Cumilla Victorians\n",
        "Total Runs: 10 Wickets: 1 Overs: 1\n",
        "```"
      ]
    },
    {
      "cell_type": "code",
      "execution_count": null,
      "metadata": {
        "id": "cuNkMjtSlYJz",
        "outputId": "b9427296-8bac-411b-d260-1d2594f1e149"
      },
      "outputs": [
        {
          "name": "stdout",
          "output_type": "stream",
          "text": [
            "5..4..3..2..1.. Play !!!\n",
            "=========================\n",
            "Batting Team: Rangpur Riders\n",
            "Bowling Team: Cumilla Victorians\n",
            "Total Runs: 10 Wickets: 0 Overs: 1\n",
            "=========================\n",
            "Warning! Cannot add 5 over/s (5 over match)\n",
            "=========================\n",
            "Batting Team: Rangpur Riders\n",
            "Bowling Team: Cumilla Victorians\n",
            "Total Runs: 10 Wickets: 1 Overs: 1\n"
          ]
        }
      ],
      "source": [
        "class Match:\n",
        "    def __init__(self,team):\n",
        "        self.team = team\n",
        "        self.team = self.team.split('-')\n",
        "        self.total_run = 0\n",
        "        self.wicket = 0\n",
        "        print('5..4..3..2..1.. Play !!!')\n",
        "    def add_run(self,run):\n",
        "        self.run = run\n",
        "        self.total_run += self.run\n",
        "    def add_over(self,over):\n",
        "        if over<5:\n",
        "            self.over = over\n",
        "        else:\n",
        "            print('Warning! Cannot add 5 over/s (5 over match)')\n",
        "    def print_scoreboard(self):\n",
        "        return(f'Batting Team: {self.team[0]}\\nBowling Team: {self.team[1]}\\nTotal Runs: {self.total_run} Wickets: {self.wicket} Overs: {self.over}')\n",
        "    def add_wicket(self, wicket):\n",
        "        self.wicket = wicket\n",
        "match1 = Match(\"Rangpur Riders-Cumilla Victorians\")\n",
        "print(\"=========================\")\n",
        "match1.add_run(4)\n",
        "match1.add_run(6)\n",
        "match1.add_over(1)\n",
        "print(match1.print_scoreboard())\n",
        "print(\"=========================\")\n",
        "match1.add_over(5)\n",
        "print(\"=========================\")\n",
        "match1.add_wicket(1)\n",
        "print(match1.print_scoreboard())"
      ]
    },
    {
      "cell_type": "markdown",
      "metadata": {
        "id": "yOOCwsNwlYJz"
      },
      "source": [
        "8. Design the ParcelKoro class such a way so that the following code provides the expected output. \n",
        "\n",
        "Hint: total_fee = (total_weight * 20) + location_charge.\n",
        "\n",
        "Note: For the method calculate fee: if the delivery location is not given, the location_charge will be 50 taka or else 100 taka. Also, while calculating total fee, if the product weight is 0 the total_fee should also be 0.\n",
        "\n",
        "Assume only these 3 ways you can create an object of a class.\n",
        "\n",
        "[You are not allowed to change the code below]\n",
        "\n",
        "```\n",
        "# Write your code here.\n",
        "print(\"**********************\")\n",
        "p1 = ParcelKoro()\n",
        "p1.calculateFee()\n",
        "p1.printDetails()\n",
        "print(\"**********************\")\n",
        "p2 = ParcelKoro('Bob The Builder')\n",
        "p2.calculateFee()\n",
        "p2.printDetails()\n",
        "print(\"----------------------------\")\n",
        "p2.product_weight = 15\n",
        "p2.calculateFee()\n",
        "p2.printDetails()\n",
        "print(\"**********************\")\n",
        "p3 = ParcelKoro('Dora The Explorer', 10)\n",
        "p3.calculateFee('Dhanmondi')\n",
        "p3.printDetails()\n",
        "\n",
        "OUTPUT:\n",
        "**********************\n",
        "Customer Name: No name set\n",
        "Product Weight: 0\n",
        "Total fee: 0\n",
        "**********************\n",
        "Customer Name: Bob The Builder\n",
        "Product Weight: 0\n",
        "Total fee: 0\n",
        "----------------------------\n",
        "Customer Name: Bob The Builder\n",
        "Product Weight: 15\n",
        "Total fee: 350\n",
        "**********************\n",
        "Customer Name: Dora The Explorer\n",
        "Product Weight: 10\n",
        "Total fee: 300\n",
        "```"
      ]
    },
    {
      "cell_type": "code",
      "execution_count": null,
      "metadata": {
        "id": "CDWLjW34lYJz",
        "outputId": "cbfe0e7b-c003-43c6-f06e-c405119f5d30"
      },
      "outputs": [
        {
          "name": "stdout",
          "output_type": "stream",
          "text": [
            "**********************\n",
            "Customer Name: No name set\n",
            "Product Weight: 0\n",
            "Total Fee: 0\n",
            "**********************\n",
            "Customer Name: Bob The Builder\n",
            "Product Weight: 0\n",
            "Total Fee: 0\n",
            "----------------------------\n",
            "Customer Name: Bob The Builder\n",
            "Product Weight: 15\n",
            "Total Fee: 350\n",
            "**********************\n",
            "Customer Name: Dora The Explorer\n",
            "Product Weight: 10\n",
            "Total Fee: 300\n"
          ]
        }
      ],
      "source": [
        "class ParcelKoro:\n",
        "  def __init__(self,name = 'No name set', weight = 0):\n",
        "    self.name = name\n",
        "    self.product_weight = weight\n",
        "  def calculateFee(self,location = ''):\n",
        "    self.location = location\n",
        "    if self.product_weight != 0:\n",
        "      if self.location == '':\n",
        "        self.total_fee = (self.product_weight*20)+50\n",
        "      else:\n",
        "        self.total_fee = (self.product_weight*20)+100\n",
        "    else:\n",
        "      self.total_fee = 0\n",
        "  def printDetails(self):\n",
        "    print(f'Customer Name: {self.name}')\n",
        "    print(f'Product Weight: {self.product_weight}')\n",
        "    print(f'Total Fee: {self.total_fee}')\n",
        "print(\"**********************\")\n",
        "p1 = ParcelKoro()\n",
        "p1.calculateFee()\n",
        "p1.printDetails()\n",
        "print(\"**********************\")\n",
        "p2 = ParcelKoro('Bob The Builder')\n",
        "p2.calculateFee()\n",
        "p2.printDetails()\n",
        "print(\"----------------------------\")\n",
        "p2.product_weight = 15\n",
        "p2.calculateFee()\n",
        "p2.printDetails()\n",
        "print(\"**********************\")\n",
        "p3 = ParcelKoro('Dora The Explorer', 10)\n",
        "p3.calculateFee('Dhanmondi')\n",
        "p3.printDetails()"
      ]
    },
    {
      "cell_type": "markdown",
      "metadata": {
        "id": "0hzgkR5alYJ0"
      },
      "source": [
        "9. Implement the design of the Batsman class so that the following output is produced:\n",
        "\n",
        "Hint: Batting strike rate (s/r) = runsScored / ballsFaced x 100.\n",
        "\n",
        "```\n",
        "Driver Code\n",
        "# Write your code here\n",
        "b1 = Batsman(6101, 7380)\n",
        "b1.printCareerStatistics()\n",
        "print(\"============================\")\n",
        "b2 = Batsman(\"Liton Das\", 678, 773)\n",
        "b2.printCareerStatistics()\n",
        "print(\"----------------------------\")\n",
        "print(b2.battingStrikeRate())\n",
        "print(\"============================\")\n",
        "b1.setName(\"Shakib Al Hasan\")\n",
        "b1.printCareerStatistics()\n",
        "print(\"----------------------------\")\n",
        "print(b1.battingStrikeRate())\n",
        "\n",
        "Output\n",
        "Name: New Batsman\n",
        "Runs Scored: 6101 , Balls Faced: 7380\n",
        "============================\n",
        "Name: Liton Das\n",
        "Runs Scored: 678 , Balls Faced: 773\n",
        "----------------------------\n",
        "87.71021992238033\n",
        "============================\n",
        "Name: Shakib Al Hasan\n",
        "Runs Scored: 6101 , Balls Faced: 7380\n",
        "----------------------------\n",
        "82.66937669376694\n",
        "```"
      ]
    },
    {
      "cell_type": "code",
      "execution_count": null,
      "metadata": {
        "id": "7chuGeEZlYJ0",
        "outputId": "ad249ce2-e7f3-499f-d232-ed79a969d0ef"
      },
      "outputs": [
        {
          "name": "stdout",
          "output_type": "stream",
          "text": [
            "Name: New Batsman\n",
            "Runs Scored: 6101 , Balls Faced: 7380\n",
            "============================\n",
            "Name: Liton Das\n",
            "Runs Scored: 678 , Balls Faced: 773\n",
            "----------------------------\n",
            "87.71021992238033\n",
            "============================\n",
            "Name: Shakib Al Hasan\n",
            "Runs Scored: 6101 , Balls Faced: 7380\n",
            "----------------------------\n",
            "82.66937669376694\n"
          ]
        }
      ],
      "source": [
        "class Batsman:\n",
        "  def __init__(self,*n):\n",
        "    if type(n[0]) == str:\n",
        "      self.name = n[0]\n",
        "      self.runs = n[1]\n",
        "      self.balls = n[2]\n",
        "    else:\n",
        "      self.name = 'New Batsman'\n",
        "      self.runs = n[0]\n",
        "      self.balls = n[1]\n",
        "  def printCareerStatistics(self):\n",
        "    print(f'Name: {self.name}')\n",
        "    print(f'Runs Scored: {self.runs} , Balls Faced: {self.balls}')\n",
        "  def setName(self,name):\n",
        "    self.name = name\n",
        "  def battingStrikeRate(self):\n",
        "    return ((self.runs/self.balls)*100)\n",
        "b1 = Batsman(6101, 7380)\n",
        "b1.printCareerStatistics()\n",
        "print(\"============================\")\n",
        "b2 = Batsman(\"Liton Das\", 678, 773)\n",
        "b2.printCareerStatistics()\n",
        "print(\"----------------------------\")\n",
        "print(b2.battingStrikeRate())\n",
        "print(\"============================\")\n",
        "b1.setName(\"Shakib Al Hasan\")\n",
        "b1.printCareerStatistics()\n",
        "print(\"----------------------------\")\n",
        "print(b1.battingStrikeRate())"
      ]
    },
    {
      "cell_type": "markdown",
      "metadata": {
        "id": "htWiDgiylYJ0"
      },
      "source": [
        "10. Implement the design of the EPL_Team class so that the following output is produced:\n",
        "\n",
        "```\n",
        "Driver Code\n",
        "# Write your code here\n",
        "manu = EPL_Team('Manchester United', 'Glory Glory Man United')\n",
        "chelsea = EPL_Team('Chelsea')\n",
        "print('===================')\n",
        "print(manu.showClubInfo())\n",
        "print('##################')\n",
        "manu.increaseTitle()\n",
        "print(manu.showClubInfo())\n",
        "print('===================')\n",
        "print(chelsea.showClubInfo())\n",
        "chelsea.changeSong('Keep the blue flag flying high')\n",
        "print(chelsea.showClubInfo())\n",
        "\n",
        "Output\n",
        "===================\n",
        "Name: Manchester United \n",
        "Song: Glory Glory Man United\n",
        "Total No of title: 0\n",
        "##################\n",
        "Name: Manchester United \n",
        "Song: Glory Glory Man United\n",
        "Total No of title: 1\n",
        "===================\n",
        "Name: Chelsea \n",
        "Song: No Slogan\n",
        "Total No of title: 0\n",
        "Name: Chelsea \n",
        "Song: Keep the blue flag flying high\n",
        "Total No of title: 0\n",
        "```"
      ]
    },
    {
      "cell_type": "code",
      "execution_count": null,
      "metadata": {
        "id": "oGQvZgewlYJ0",
        "outputId": "ba6d6e91-0347-4501-8634-7e1267660bd6"
      },
      "outputs": [
        {
          "name": "stdout",
          "output_type": "stream",
          "text": [
            "===================\n",
            "Name: Manchester United\n",
            "Song: Glory Glory Man United\n",
            "Total No of title: 0\n",
            "##################\n",
            "Name: Manchester United\n",
            "Song: Glory Glory Man United\n",
            "Total No of title: 1\n",
            "===================\n",
            "Name: Chelsea\n",
            "Song: No Slogan\n",
            "Total No of title: 0\n",
            "Name: Chelsea\n",
            "Song: Keep the blue flag flying high\n",
            "Total No of title: 0\n"
          ]
        }
      ],
      "source": [
        "class EPL_Team:\n",
        "    def __init__(self,club,song='No Slogan'):\n",
        "        self.name = club\n",
        "        self.song = song\n",
        "        self.title = 0\n",
        "    def showClubInfo(self):\n",
        "        return f'Name: {self.name}\\nSong: {self.song}\\nTotal No of title: {self.title}'\n",
        "    def increaseTitle(self):\n",
        "        self.title+=1\n",
        "    def changeSong(self,song):\n",
        "        self.song = song\n",
        "manu = EPL_Team('Manchester United', 'Glory Glory Man United')\n",
        "chelsea = EPL_Team('Chelsea')\n",
        "print('===================')\n",
        "print(manu.showClubInfo())\n",
        "print('##################')\n",
        "manu.increaseTitle()\n",
        "print(manu.showClubInfo())\n",
        "print('===================')\n",
        "print(chelsea.showClubInfo())\n",
        "chelsea.changeSong('Keep the blue flag flying high')\n",
        "print(chelsea.showClubInfo())"
      ]
    },
    {
      "cell_type": "markdown",
      "metadata": {
        "id": "vP4z2bcUlYJ0"
      },
      "source": [
        "11. Implement the design of the Author class so that the following output is produced:\n",
        "\n",
        "```\n",
        "Driver Code\n",
        "# Write your code here\n",
        "\n",
        "auth1 = Author('Humayun Ahmed')\n",
        "auth1.addBooks('Deyal', 'Megher Opor Bari')\n",
        "auth1.printDetails()\n",
        "print(‘===================’)\n",
        "auth2 = Author()\n",
        "print(auth2.name)\n",
        "auth2.changeName('Mario Puzo')\n",
        "auth2.addBooks('The Godfather', 'Omerta', 'The Sicilian')\n",
        "print(‘===================’)\n",
        "auth2.printDetails()\n",
        "print(‘===================’)\n",
        "auth3 = Author('Paolo Coelho', 'The Alchemist', 'The Fifth Mountain')\n",
        "auth3.printDetails()\n",
        "\n",
        "Output\n",
        "Author Name:  Humayun Ahmed\n",
        "--------\n",
        "List of Books:\n",
        "Deyal\n",
        "Megher Opor Bari\n",
        "===================\n",
        "Default\n",
        "===================\n",
        "Author Name:  Mario Puzo\n",
        "--------\n",
        "List of Books:\n",
        "The Godfather\n",
        "Omerta\n",
        "The Sicilian\n",
        "===================\n",
        "Author Name:  Paolo Coelho\n",
        "--------\n",
        "List of Books:\n",
        "The Alchemist\n",
        "The Fifth Mountain\n",
        "```"
      ]
    },
    {
      "cell_type": "code",
      "execution_count": null,
      "metadata": {
        "id": "cEWvu7VylYJ0",
        "outputId": "ce582b87-8a4f-4dc8-e8c4-d831634ab92d"
      },
      "outputs": [
        {
          "name": "stdout",
          "output_type": "stream",
          "text": [
            "Author Name:  Humayun Ahmed\n",
            "--------\n",
            "List of Books:\n",
            "Deyal\n",
            "Megher Opor Bari\n",
            "===================\n",
            "Default\n",
            "===================\n",
            "Author Name:  Mario Puzo\n",
            "--------\n",
            "List of Books:\n",
            "The Godfather\n",
            "Omerta\n",
            "The Sicilian\n",
            "===================\n",
            "Author Name:  Paolo Coelho\n",
            "--------\n",
            "List of Books:\n",
            "The Alchemist\n",
            "The Fifth Mountain\n"
          ]
        }
      ],
      "source": [
        "class Author:\n",
        "    def __init__(self,*n):\n",
        "        self.books = ''\n",
        "        if len(n) == 0:\n",
        "            self.name = 'Default'\n",
        "        elif len(n) == 1:\n",
        "            self.name = n[0]\n",
        "        else:\n",
        "            self.name = n[0]\n",
        "            for i in n[1::]:\n",
        "                self.books+=i+'\\n'\n",
        "    def addBooks(self,*books):\n",
        "        for i in books:\n",
        "            self.books+=i+'\\n'\n",
        "    def printDetails(self):\n",
        "        print(f'Author Name:  {self.name}\\n--------\\nList of Books:\\n{self.books[:-1:]}')\n",
        "    def changeName(self,name):\n",
        "        self.name = name\n",
        "auth1 = Author('Humayun Ahmed')\n",
        "auth1.addBooks('Deyal', 'Megher Opor Bari')\n",
        "auth1.printDetails()\n",
        "print('===================')\n",
        "auth2 = Author()\n",
        "print(auth2.name)\n",
        "auth2.changeName('Mario Puzo')\n",
        "auth2.addBooks('The Godfather', 'Omerta', 'The Sicilian')\n",
        "print('===================')\n",
        "auth2.printDetails()\n",
        "print('===================')\n",
        "auth3 = Author('Paolo Coelho', 'The Alchemist', 'The Fifth Mountain')\n",
        "auth3.printDetails()"
      ]
    },
    {
      "cell_type": "markdown",
      "metadata": {
        "id": "vxgr4vF4lYJ1"
      },
      "source": [
        "12. Using TaxiLagbe apps, users can share a single taxi with multiple people.\n",
        "\n",
        "Implement the design of the TaxiLagbe class so that the following output is produced:\n",
        "\n",
        "Hint: \n",
        "\n",
        "1. Each taxi can carry maximum 4 passengers\n",
        "\n",
        "2. addPassenger() method takes the last name of the passenger and ticket fare for that person in an underscore (-)separated string.\t\n",
        "\n",
        "```\n",
        "Driver Code\n",
        "# Write your code here\n",
        "# Do not change the following lines of code.\n",
        "\n",
        "taxi1 = TaxiLagbe('1010-01', 'Dhaka')\n",
        "print('-------------------------------')\n",
        "taxi1.addPassenger('Walker_100', 'Wood_200')\n",
        "taxi1.addPassenger('Matt_100')\n",
        "taxi1.addPassenger('Wilson_105')\n",
        "print('-------------------------------')\n",
        "taxi1.printDetails()\n",
        "print('-------------------------------')\n",
        "taxi1.addPassenger('Karen_200')\n",
        "print('-------------------------------')\n",
        "taxi1.printDetails()\n",
        "print('-------------------------------')\n",
        "taxi2 = TaxiLagbe('1010-02', 'Khulna')\n",
        "taxi2.addPassenger('Ronald_115')\n",
        "taxi2.addPassenger('Parker_215')\n",
        "print('-------------------------------')\n",
        "taxi2.printDetails()\n",
        "\n",
        "Output\n",
        "--------------------------------------\n",
        "Dear Walker! Welcome to TaxiLagbe.\n",
        "Dear Wood! Welcome to TaxiLagbe.\n",
        "Dear Matt! Welcome to TaxiLagbe.\n",
        "Dear Wilson! Welcome to TaxiLagbe.\n",
        "--------------------------------------\n",
        "Trip info for Taxi number: 1010-01\n",
        "This taxi can cover only Dhaka area. \n",
        "Total passengers: 4\n",
        "Passenger lists:\n",
        "Walker, Wood, Matt, Wilson\n",
        "Total collected fare: 505 Taka\n",
        "--------------------------------------\n",
        "Taxi Full! No more passengers can be added.\n",
        "--------------------------------------\n",
        "Trip info for Taxi number: 1010-01\n",
        "This taxi can cover only Dhaka area. \n",
        "Total passengers: 4\n",
        "Passenger lists:\n",
        "Walker, Wood, Matt, Wilson\n",
        "Total collected fare: 505 Taka\n",
        "--------------------------------------\n",
        "Dear Ronald! Welcome to TaxiLagbe.\n",
        "Dear Parker! Welcome to TaxiLagbe.\n",
        "--------------------------------------\n",
        "Trip info for Taxi number: 1010-02\n",
        "This taxi can cover only Khulna area. \n",
        "Total passengers: 2\n",
        "Passenger lists:\n",
        "Ronald, Parker\n",
        "Total collected fare: 330 Taka\n",
        "```"
      ]
    },
    {
      "cell_type": "code",
      "execution_count": null,
      "metadata": {
        "id": "LaRqn6RUlYJ1",
        "outputId": "3a96cf4a-6e09-4799-8ab5-852e3f98f944"
      },
      "outputs": [
        {
          "name": "stdout",
          "output_type": "stream",
          "text": [
            "-------------------------------\n",
            "Dear Walker! Welcome to TaxiLagbe.\n",
            "Dear Wood! Welcome to TaxiLagbe.\n",
            "Dear Matt! Welcome to TaxiLagbe.\n",
            "Dear Wilson! Welcome to TaxiLagbe.\n",
            "-------------------------------\n",
            "Trip info for Taxi number: 1010-01\n",
            "This taxi can cover only Dhaka area.\n",
            "Total passengers: 4\n",
            "Passenger lists:\n",
            "Walker, Wood, Matt, Wilson\n",
            "Total collected fare: 505 Taka\n",
            "-------------------------------\n",
            "Taxi Full! No more passengers can be added.\n",
            "-------------------------------\n",
            "Trip info for Taxi number: 1010-01\n",
            "This taxi can cover only Dhaka area.\n",
            "Total passengers: 4\n",
            "Passenger lists:\n",
            "Walker, Wood, Matt, Wilson\n",
            "Total collected fare: 505 Taka\n",
            "-------------------------------\n",
            "Dear Ronald! Welcome to TaxiLagbe.\n",
            "Dear Parker! Welcome to TaxiLagbe.\n",
            "-------------------------------\n",
            "Trip info for Taxi number: 1010-02\n",
            "This taxi can cover only Khulna area.\n",
            "Total passengers: 2\n",
            "Passenger lists:\n",
            "Ronald, Parker\n",
            "Total collected fare: 330 Taka\n"
          ]
        }
      ],
      "source": [
        "class TaxiLagbe:\n",
        "    def __init__(self,taxino,location):\n",
        "        self.taxi_number = taxino\n",
        "        self.area = location\n",
        "        self.passengers = ''\n",
        "        self.taka = 0\n",
        "        self.count = 0\n",
        "        self.no_space = ''\n",
        "    def addPassenger(self,*nt):\n",
        "        for i in nt:\n",
        "            i = i.split('_')\n",
        "            self.name = i[0]\n",
        "            if self.count < 4:\n",
        "                self.count+=1\n",
        "                self.taka += int(i[1])\n",
        "                self.passengers+=self.name+', '\n",
        "                print(f'Dear {self.name}! Welcome to TaxiLagbe.')\n",
        "            else:\n",
        "                self.no_space = 'Taxi Full! No more passengers can be added.'\n",
        "        if self.no_space != '':\n",
        "            print(self.no_space)    \n",
        "    def printDetails(self):\n",
        "        print(f'''Trip info for Taxi number: {self.taxi_number}\n",
        "This taxi can cover only {self.area} area.\n",
        "Total passengers: {self.count}\\nPassenger lists:\n",
        "{self.passengers[:-2:]}\n",
        "Total collected fare: {self.taka} Taka''')\n",
        "taxi1 = TaxiLagbe('1010-01', 'Dhaka')\n",
        "print('-------------------------------')\n",
        "taxi1.addPassenger('Walker_100', 'Wood_200')\n",
        "taxi1.addPassenger('Matt_100')\n",
        "taxi1.addPassenger('Wilson_105')\n",
        "print('-------------------------------')\n",
        "taxi1.printDetails()\n",
        "print('-------------------------------')\n",
        "taxi1.addPassenger('Karen_200')\n",
        "print('-------------------------------')\n",
        "taxi1.printDetails()\n",
        "print('-------------------------------')\n",
        "taxi2 = TaxiLagbe('1010-02', 'Khulna')\n",
        "taxi2.addPassenger('Ronald_115')\n",
        "taxi2.addPassenger('Parker_215')\n",
        "print('-------------------------------')\n",
        "taxi2.printDetails()"
      ]
    },
    {
      "cell_type": "markdown",
      "metadata": {
        "id": "mfm3s9GSlYJ1"
      },
      "source": [
        "13. Implement the design of the Account class so that the following output is produced:\n",
        "\n",
        "```\n",
        "Driver Code\n",
        "# Write your code here\n",
        "\n",
        "a1 = Account()\n",
        "print(a1.details())\n",
        "print(\"------------------------\")\n",
        "a1.name = \"Oliver\"\n",
        "a1.balance = 10000.0\n",
        "print(a1.details())\n",
        "print(\"------------------------\")\n",
        "a2 = Account(\"Liam\")\n",
        "print(a2.details())\n",
        "print(\"------------------------\")\n",
        "a3 = Account(\"Noah\",400)\n",
        "print(a3.details())\n",
        "print(\"------------------------\")\n",
        "a1.withdraw(6930)\n",
        "print(\"------------------------\")\n",
        "a2.withdraw(600)\n",
        "print(\"------------------------\")\n",
        "a1.withdraw(6929)\n",
        "\n",
        "Output\n",
        "Default Account\n",
        "0.0\n",
        "------------------------\n",
        "Oliver\n",
        "10000.0\n",
        "------------------------\n",
        "Liam\n",
        "0.0\n",
        "------------------------\n",
        "Noah\n",
        "400.0\n",
        "------------------------\n",
        "Sorry, Withdraw unsuccessful! The account balance after deducting withdraw amount is equal to or less than minimum.\n",
        "------------------------\n",
        "Sorry, Withdraw unsuccessful! The account balance after deducting withdraw amount is equal to or less than minimum.\n",
        "------------------------\n",
        "Withdraw successful! New balance is: 3071.0\n",
        "```"
      ]
    },
    {
      "cell_type": "code",
      "execution_count": null,
      "metadata": {
        "id": "DzG4mhDglYJ1",
        "outputId": "70972ebe-182b-4653-88e1-af65ca4608f8"
      },
      "outputs": [
        {
          "name": "stdout",
          "output_type": "stream",
          "text": [
            "Default Account\n",
            "0.0\n",
            "------------------------\n",
            "Oliver\n",
            "10000.0\n",
            "------------------------\n",
            "Liam\n",
            "0.0\n",
            "------------------------\n",
            "Noah\n",
            "400\n",
            "------------------------\n",
            "Sorry, Withdraw unsuccessful! The account balance after deducting withdraw amount is equal to or less than minimum.\n",
            "------------------------\n",
            "Sorry, Withdraw unsuccessful! The account balance after deducting withdraw amount is equal to or less than minimum.\n",
            "------------------------\n",
            "Withdraw successful! New balance is: 3071.0\n"
          ]
        }
      ],
      "source": [
        "class Account:\n",
        "    def __init__(self,name = 'Default Account',balance = 0.0):\n",
        "        self.name = name\n",
        "        self.balance = balance\n",
        "    def details(self):\n",
        "        return f'{self.name}\\n{self.balance}'\n",
        "    def withdraw(self,taka):\n",
        "        self.Withdraw = taka\n",
        "        percentage = self.balance*0.307\n",
        "        balance_check = self.balance - self.Withdraw\n",
        "        if balance_check <= 0 or percentage >= balance_check: \n",
        "            print('Sorry, Withdraw unsuccessful! The account balance after deducting withdraw amount is equal to or less than minimum.')\n",
        "        else:\n",
        "            print(f'Withdraw successful! New balance is: {balance_check}')\n",
        "a1 = Account()\n",
        "print(a1.details())\n",
        "print(\"------------------------\")\n",
        "a1.name = \"Oliver\"\n",
        "a1.balance = 10000.0\n",
        "print(a1.details())\n",
        "print(\"------------------------\")\n",
        "a2 = Account(\"Liam\")\n",
        "print(a2.details())\n",
        "print(\"------------------------\")\n",
        "a3 = Account(\"Noah\",400)\n",
        "print(a3.details())\n",
        "print(\"------------------------\")\n",
        "a1.withdraw(6930)\n",
        "print(\"------------------------\")\n",
        "a2.withdraw(600)\n",
        "print(\"------------------------\")\n",
        "a1.withdraw(6929)"
      ]
    },
    {
      "cell_type": "markdown",
      "metadata": {
        "id": "8eY0NLL5lYJ1"
      },
      "source": [
        "14. Implement the design of the StudentDatabase class so that the following output is produced:\n",
        "\n",
        "GPA = Sum of (Grade Points * Credits)/ Credits attempted\n",
        "\n",
        "```\n",
        "Driver Code\n",
        "# Write your code here\n",
        "\n",
        "# Do not change the following lines of code.\n",
        "\n",
        "s1 = StudentDatabase('Pietro', '10101222')\n",
        "s1.calculateGPA(['CSE230: 4.0', 'CSE220: 4.0', 'MAT110: 4.0'], 'Summer2020')\n",
        "s1.calculateGPA(['CSE250: 3.7', 'CSE330: 4.0'], 'Summer2021')\n",
        "print(f'Grades for {s1.name}\\n{s1.grades}')\n",
        "print('------------------------------------------------------')\n",
        "s1.printDetails()\n",
        "s2 = StudentDatabase('Wanda', '10103332')\n",
        "s2.calculateGPA(['CSE111: 3.7', 'CSE260: 3.7', 'ENG101: 4.0'], 'Summer2022')\n",
        "print('------------------------------------------------------')\n",
        "print(f'Grades for {s2.name}\\n{s2.grades}')\n",
        "print('------------------------------------------------------')\n",
        "s2.printDetails()\n",
        "\n",
        "Output\n",
        "Grades for Pietro\n",
        "{'Summer2020': {('CSE230', 'CSE220', 'MAT110'): 4.0}, 'Summer2021': {('CSE250', 'CSE330'): 3.85}}\n",
        "-----------------------------------------------\n",
        "Name: Pietro\n",
        "ID: 10101222\n",
        "Courses taken in Summer2020: \n",
        "CSE230\n",
        "CSE220\n",
        "MAT110\n",
        "GPA: 4.0\n",
        "Courses taken in Summer2021: \n",
        "CSE250\n",
        "CSE330\n",
        "GPA: 3.85\n",
        "-----------------------------------------------\n",
        "Grades for Wanda\n",
        "{'Summer2022': {('CSE111', 'CSE260', 'ENG101'): 3.8}}\n",
        "-----------------------------------------------\n",
        "Name: Wanda\n",
        "ID: 10103332\n",
        "Courses taken in Summer2022: \n",
        "CSE111\n",
        "CSE260\n",
        "ENG101\n",
        "GPA: 3.8\n",
        "```"
      ]
    },
    {
      "cell_type": "code",
      "execution_count": null,
      "metadata": {
        "id": "S7orymuQlYJ1",
        "outputId": "2378b040-f387-464d-a0cd-0e22a03c473d"
      },
      "outputs": [
        {
          "name": "stdout",
          "output_type": "stream",
          "text": [
            "Grades for Pietro\n",
            "{'Summer2020': {('CSE230', 'CSE220', 'MAT110'): 4.0}, 'Summer2021': {('CSE250', 'CSE330'): 3.85}}\n",
            "------------------------------------------------------\n",
            "Nmame: Pietro\n",
            "ID: 10101222\n",
            "Courses taken in Summer2020:\n",
            "CSE230\n",
            "CSE220\n",
            "MAT110\n",
            "GPA: 4.0\n",
            "Courses taken in Summer2021:\n",
            "CSE250\n",
            "CSE330\n",
            "GPA: 3.85\n",
            "------------------------------------------------------\n",
            "Grades for Wanda\n",
            "{'Summer2022': {('CSE111', 'CSE260', 'ENG101'): 3.8}}\n",
            "------------------------------------------------------\n",
            "Nmame: Wanda\n",
            "ID: 10103332\n",
            "Courses taken in Summer2022:\n",
            "CSE111\n",
            "CSE260\n",
            "ENG101\n",
            "GPA: 3.8\n"
          ]
        }
      ],
      "source": [
        "class StudentDatabase:\n",
        "  def __init__(self,name,id):\n",
        "    self.name = name\n",
        "    self.id = id\n",
        "    self.grades = {}\n",
        "  def calculateGPA(self,lsg,semester):\n",
        "    self.lsg = lsg\n",
        "    self.semester = semester\n",
        "    coursename = []\n",
        "    sum  = 0\n",
        "    count = 0\n",
        "    dic = {}\n",
        "    for i in self.lsg:\n",
        "      i = i.split(': ')\n",
        "      coursename.append(i[0])\n",
        "      sum+=float(i[1])\n",
        "      count+=1\n",
        "    dic[tuple(coursename)] = round((sum/count),2)\n",
        "    self.grades[self.semester] = dic\n",
        "    dic = {}\n",
        "    sum = 0\n",
        "    count = 0\n",
        "  def printDetails(self): \n",
        "    print(f'Nmame: {self.name}\\nID: {self.id}')\n",
        "    for j,k in self.grades.items():\n",
        "      print(f'Courses taken in {j}:')\n",
        "      for m,n in k.items():\n",
        "        for l in m:\n",
        "          print(l)\n",
        "        print(f'GPA: {n}')\n",
        "s1 = StudentDatabase('Pietro', '10101222')\n",
        "s1.calculateGPA(['CSE230: 4.0', 'CSE220: 4.0', 'MAT110: 4.0'], 'Summer2020')\n",
        "s1.calculateGPA(['CSE250: 3.7', 'CSE330: 4.0'], 'Summer2021')\n",
        "print(f'Grades for {s1.name}\\n{s1.grades}')\n",
        "print('------------------------------------------------------')\n",
        "s1.printDetails()\n",
        "s2 = StudentDatabase('Wanda', '10103332')\n",
        "s2.calculateGPA(['CSE111: 3.7', 'CSE260: 3.7', 'ENG101: 4.0'], 'Summer2022')\n",
        "print('------------------------------------------------------')\n",
        "print(f'Grades for {s2.name}\\n{s2.grades}')\n",
        "print('------------------------------------------------------')\n",
        "s2.printDetails()"
      ]
    },
    {
      "cell_type": "markdown",
      "metadata": {
        "id": "QBo30KD7lYJ2"
      },
      "source": [
        "**UNGRADED**"
      ]
    },
    {
      "cell_type": "markdown",
      "metadata": {
        "id": "jZnkUA5xlYJ2"
      },
      "source": [
        "1. Design a Student class so that the following output is produced upon executing the following code\n",
        "\n",
        "```\n",
        "# Write your code here\n",
        "\n",
        "# Do not change the following lines of code.\n",
        "s1 = Student()\n",
        "print(\"=========================\")\n",
        "s2 = Student(\"Carol\")\n",
        "print(\"=========================\")\n",
        "s3 = Student(\"Jon\", \"EEE\")\n",
        "print(\"=========================\")\n",
        "s1.update_name(\"Bob\")\n",
        "s1.update_department(\"CSE\")\n",
        "s2.update_department(\"BBA\")\n",
        "s1.enroll(\"CSE110\", \"MAT110\", \"ENG091\")\n",
        "s2.enroll(\"BUS101\")\n",
        "s3.enroll(\"MAT110\", \"PHY111\")\n",
        "print(\"###########################\")\n",
        "s1.printDetail()\n",
        "print(\"=========================\")\n",
        "s2.printDetail()\n",
        "print(\"=========================\")\n",
        "s3.printDetail()\n",
        "\n",
        "OUTPUT\n",
        "Student name and department need to be set\n",
        "=========================\n",
        "Department for Carol needs to be set\n",
        "=========================\n",
        "Jon is from EEE department\n",
        "=========================\n",
        "###########################\n",
        "Name: Bob\n",
        "Department: CSE\n",
        "Bob enrolled in 3 course(s):\n",
        "CSE110, MAT110, ENG091\n",
        "=========================\n",
        "Name: Carol\n",
        "Department: BBA\n",
        "Carol enrolled in 1 course(s):\n",
        "BUS101\n",
        "=========================\n",
        "Name: Jon\n",
        "Department: EEE\n",
        "Jon enrolled in 2 course(s):\n",
        "MAT110, PHY111\n",
        "\n",
        "```"
      ]
    },
    {
      "cell_type": "code",
      "execution_count": 1,
      "metadata": {
        "id": "il3uYz_ClYJ2",
        "outputId": "8c1ee5c7-846c-4e0d-a1ad-59df6a67d446"
      },
      "outputs": [
        {
          "name": "stdout",
          "output_type": "stream",
          "text": [
            "Student name and department need to be set\n",
            "=========================\n",
            "Department for Carol needs to be set\n",
            "=========================\n",
            "Jon is from EEE department\n",
            "=========================\n",
            "###########################\n",
            "Name: Bob\n",
            "Department: CSE\n",
            "Bob enrolled in 3 course(s):\n",
            "CSE110, MAT110, ENG091\n",
            "=========================\n",
            "Name: Carol\n",
            "Department: BBA\n",
            "Carol enrolled in 1 course(s):\n",
            "BUS101\n",
            "=========================\n",
            "Name: Jon\n",
            "Department: EEE\n",
            "Jon enrolled in 2 course(s):\n",
            "MAT110, PHY111\n"
          ]
        }
      ],
      "source": [
        "class Student:\n",
        "    def __init__(self,name='',dept=''):\n",
        "        self.name = name\n",
        "        self.department = dept\n",
        "        if self.name == '' and self.department=='':\n",
        "            print('Student name and department need to be set')\n",
        "        elif self.department == '':\n",
        "            print(f'Department for {self.name} needs to be set')\n",
        "        else:\n",
        "            print(f'{self.name} is from {self.department} department')\n",
        "    def update_name(self,name):\n",
        "        self.name = name\n",
        "    def update_department(self,dept):\n",
        "        self.department = dept\n",
        "    def enroll(self,*courses):\n",
        "        self.courses = courses\n",
        "        self.length = len(courses)\n",
        "    def printDetail(self):\n",
        "        print(f'Name: {self.name}\\nDepartment: {self.department}')\n",
        "        print(f\"{self.name} enrolled in {self.length} course(s):\\n{', '.join(self.courses)}\")\n",
        "s1 = Student()\n",
        "print(\"=========================\")\n",
        "s2 = Student(\"Carol\")\n",
        "print(\"=========================\")\n",
        "s3 = Student(\"Jon\", \"EEE\")\n",
        "print(\"=========================\")\n",
        "s1.update_name(\"Bob\")\n",
        "s1.update_department(\"CSE\")\n",
        "s2.update_department(\"BBA\")\n",
        "s1.enroll(\"CSE110\", \"MAT110\", \"ENG091\")\n",
        "s2.enroll(\"BUS101\")\n",
        "s3.enroll(\"MAT110\", \"PHY111\")\n",
        "print(\"###########################\")\n",
        "s1.printDetail()\n",
        "print(\"=========================\")\n",
        "s2.printDetail()\n",
        "print(\"=========================\")\n",
        "s3.printDetail()"
      ]
    },
    {
      "cell_type": "markdown",
      "metadata": {
        "id": "k2Z7CNNJlYJ2"
      },
      "source": [
        "2. Design a Student class so that the following output is produced upon executing the following code:\n",
        "\n",
        "[Hint: Each course has 3.0 credit hours. You must take at least 9.0 and at most 12.0 credit hours]\n",
        "\n",
        "```\n",
        "\n",
        "# Write your code here\n",
        "\n",
        "# Do not change the following lines of code.\n",
        "s1 = Student(\"Alice\",\"20103012\",\"CSE\")\n",
        "s2 = Student(\"Bob\", \"18301254\",\"EEE\")\n",
        "s3 = Student(\"Carol\", \"17101238\",\"CSE\")\n",
        "print(\"##########################\")\n",
        "print(s1.details())\n",
        "print(\"##########################\")\n",
        "print(s2.details())\n",
        "print(\"##########################\")\n",
        "s1.advise(\"CSE110\", \"MAT110\", \"PHY111\")\n",
        "print(\"##########################\")\n",
        "s2.advise(\"BUS101\", \"MAT120\")\n",
        "print(\"##########################\")\n",
        "s3.advise(\"MAT110\", \"PHY111\", \"ENG102\", \"CSE111\", \"CSE230\")\n",
        "\n",
        "OUTPUT\n",
        "##########################\n",
        "Name: Alice\n",
        "ID: 20103012\n",
        "Department: CSE\n",
        "##########################\n",
        "Name: Bob\n",
        "ID: 18301254\n",
        "Department: EEE\n",
        "##########################\n",
        "Alice, you have taken 9.0 credits.\n",
        "List of courses: CSE110, MAT110, PHY111\n",
        "Status: Ok\n",
        "##########################\n",
        "Bob, you have taken 6.0 credits.\n",
        "List of courses: BUS101, MAT120\n",
        "Status: You have to take at least 1 more course.\n",
        "##########################\n",
        "Carol, you have taken 15.0 credits.\n",
        "List of courses: MAT110, PHY111, ENG102,\n",
        "CSE111, CSE230\n",
        "Status: You have to drop at least 1 course.\n",
        "```"
      ]
    },
    {
      "cell_type": "code",
      "execution_count": 2,
      "metadata": {
        "id": "Fs4owpvLlYJ2",
        "outputId": "c0cbc51e-37fd-45d3-9a45-45b4e00dd478"
      },
      "outputs": [
        {
          "name": "stdout",
          "output_type": "stream",
          "text": [
            "##########################\n",
            "Name: Alice\n",
            "ID: 20103012\n",
            "Department: CSE\n",
            "##########################\n",
            "Name: Bob\n",
            "ID: 18301254\n",
            "Department: EEE\n",
            "##########################\n",
            "Alice, you have taken 9.0 credits.\n",
            "List of courses: CSE110, MAT110, PHY111\n",
            "Status: Ok\n",
            "##########################\n",
            "Bob, you have taken 6.0 credits.\n",
            "List of courses: BUS101, MAT120\n",
            "Status: You have to take at least 1 more course.\n",
            "##########################\n",
            "Carol, you have taken 15.0 credits.\n",
            "List of courses: MAT110, PHY111, ENG102, CSE111, CSE230\n",
            "Status: You have to drop at least 1 course.\n"
          ]
        }
      ],
      "source": [
        "class Student:\n",
        "    def __init__(self,name,id,dept):\n",
        "        self.name = name\n",
        "        self.student_id = id\n",
        "        self.department = dept\n",
        "    def details(self):\n",
        "        return f'Name: {self.name}\\nID: {self.student_id}\\nDepartment: {self.department}'\n",
        "    def advise(self,*courses):\n",
        "        length = len(courses)\n",
        "        print(f'{self.name}, you have taken {length*3.0} credits.')\n",
        "        print(f\"List of courses: {', '.join(courses)}\")\n",
        "        if length < 3:\n",
        "            print(f'Status: You have to take at least {3-length} more course.')\n",
        "        elif length == 3 or length == 4:\n",
        "            print('Status: Ok')\n",
        "        else:\n",
        "           print(f'Status: You have to drop at least {length-4} course.') \n",
        "s1 = Student(\"Alice\",\"20103012\",\"CSE\")\n",
        "s2 = Student(\"Bob\", \"18301254\",\"EEE\")\n",
        "s3 = Student(\"Carol\", \"17101238\",\"CSE\")\n",
        "print(\"##########################\")\n",
        "print(s1.details())\n",
        "print(\"##########################\")\n",
        "print(s2.details())\n",
        "print(\"##########################\")\n",
        "s1.advise(\"CSE110\", \"MAT110\", \"PHY111\")\n",
        "print(\"##########################\")\n",
        "s2.advise(\"BUS101\", \"MAT120\")\n",
        "print(\"##########################\")\n",
        "s3.advise(\"MAT110\", \"PHY111\", \"ENG102\", \"CSE111\", \"CSE230\")"
      ]
    },
    {
      "cell_type": "markdown",
      "metadata": {
        "id": "-gtUATealYJ2"
      },
      "source": [
        "3. Write the Hotel class with the required methods to give the following output as shown.\n",
        "\n",
        "```\n",
        "# Write your code here\n",
        "\n",
        "# Do not change the following lines of code.\n",
        "h = Hotel(\"Lakeshore\")\n",
        "h.addstaff( \"Adam\", 26)\n",
        "print(\"=================================\")\n",
        "print(h.getstaffById(1))\n",
        "print(\"=================================\")\n",
        "h.addGuest(\"Carol\",35,\"123\")\n",
        "print(\"=================================\")\n",
        "print(h.getGuestById(1))\n",
        "print(\"=================================\")\n",
        "h.addGuest(\"Diana\", 32, \"431\")\n",
        "print(\"=================================\")\n",
        "print(h.getGuestById(2))\n",
        "print(\"=================================\")\n",
        "h.allStaffs()\n",
        "print(\"=================================\")\n",
        "h.allGuest()\n",
        "\n",
        "OUTPUT\n",
        "Staff With ID 1 is added\n",
        "=================================\n",
        "Staff ID: 1\n",
        "Name: Adam\n",
        "Age: 26\n",
        "Phone no.: 000\n",
        "=================================\n",
        "Guest With ID 1 is created\n",
        "=================================\n",
        "Guest ID: 1\n",
        "Name: Carol\n",
        "Age: 35\n",
        "Phone no.: 123\n",
        "=================================\n",
        "Guest With ID 2 is created\n",
        "=================================\n",
        "Guest ID: 2\n",
        "Name: Dianal\n",
        "Age: 32\n",
        "Phone no.: 431\n",
        "=================================\n",
        "All Staffs:\n",
        "Number of Staff: 1\n",
        "Staff ID: 1 Name: Adam Age: 26 Phone no: 000\n",
        "=================================\n",
        "All Guest:\n",
        "Number of Guest: 2\n",
        "Guest ID: 1 Name: Carol Age: 35 Phone no.: 123\n",
        "Guest ID: 2 Name: Dianal Age: 32 Phone no.: 431\n",
        "```"
      ]
    },
    {
      "cell_type": "code",
      "execution_count": 4,
      "metadata": {
        "id": "E4nPDmfulYJ3",
        "outputId": "8b64c770-6a64-41fb-b40d-1e6775524f83"
      },
      "outputs": [
        {
          "name": "stdout",
          "output_type": "stream",
          "text": [
            "Staff With ID 1 is added\n",
            "=================================\n",
            "Staff ID: 1\n",
            "Name: Adam\n",
            "Age: 26\n",
            "Phone no.: 000\n",
            "=================================\n",
            "Guest With ID 1 is created\n",
            "=================================\n",
            "Guest ID: 1\n",
            "Name: Carol\n",
            "Age: 35\n",
            "Phone no.: 123\n",
            "=================================\n",
            "Guest With ID 2 is created\n",
            "=================================\n",
            "Guest ID: 2\n",
            "Name: Diana\n",
            "Age: 32\n",
            "Phone no.: 431\n",
            "=================================\n",
            "All Staffs:\n",
            "Number of Staff: 1\n",
            "Staff ID: 1 Name: Adam Age: 26 Phone no: 000\n",
            "=================================\n",
            "All Guests:\n",
            "Number of Guests: 2\n",
            "Guest ID: 1 Name: Carol Age: 35 Phone no: 123\n",
            "Guest ID: 2 Name: Diana Age: 32 Phone no: 431\n"
          ]
        }
      ],
      "source": [
        "class Hotel:\n",
        "    def __init__(self,hotel):\n",
        "        self.hotel_name = hotel\n",
        "        self.staff_count = 0\n",
        "        self.guest_count = 0\n",
        "        self.staffs = []\n",
        "        self.guests = []\n",
        "    def addstaff(self,name,age):\n",
        "        self.staff_count += 1\n",
        "        self.staff_name = name\n",
        "        self.staff_age = age\n",
        "        self.staff_phone = '000'\n",
        "        print(f'Staff With ID {self.staff_count} is added')\n",
        "    def getstaffById(self,id):\n",
        "        self.staff_id = id\n",
        "        self.staffs += [self.staff_id, self.staff_name, self.staff_age, self.staff_phone]\n",
        "        return f'Staff ID: {self.staff_id}\\nName: {self.staff_name}\\nAge: {self.staff_age}\\nPhone no.: {self.staff_phone}'\n",
        "    def addGuest(self,name,age,phone):\n",
        "        self.guest_count += 1\n",
        "        self.guest_name = name\n",
        "        self.guest_age = age\n",
        "        self.guest_phone = phone\n",
        "        print(f'Guest With ID {self.guest_count} is created')\n",
        "    def getGuestById(self,id):\n",
        "        self.guest_id = id\n",
        "        self.guests += [self.guest_id, self.guest_name, self.guest_age, self.guest_phone]\n",
        "        return f'Guest ID: {self.guest_id}\\nName: {self.guest_name}\\nAge: {self.guest_age}\\nPhone no.: {self.guest_phone}'\n",
        "    def allStaffs(self):\n",
        "        print(f\"All Staffs:\\nNumber of Staff: {self.staff_count}\")\n",
        "        for i in range(0,len(self.staffs),4):\n",
        "            print(f\"Staff ID: {self.staffs[i]} Name: {self.staffs[i+1]} Age: {self.staffs[i+2]} Phone no: {self.staffs[i+3]}\")\n",
        "    def allGuest(self):\n",
        "        print(f\"All Guests:\\nNumber of Guests: {self.guest_count}\")\n",
        "        for i in range(0,len(self.guests),4):\n",
        "            print(f\"Guest ID: {self.guests[i]} Name: {self.guests[i+1]} Age: {self.guests[i+2]} Phone no: {self.guests[i+3]}\")\n",
        "h = Hotel(\"Lakeshore\")\n",
        "h.addstaff( \"Adam\", 26)\n",
        "print(\"=================================\")\n",
        "print(h.getstaffById(1))\n",
        "print(\"=================================\")\n",
        "h.addGuest(\"Carol\",35,\"123\")\n",
        "print(\"=================================\")\n",
        "print(h.getGuestById(1))\n",
        "print(\"=================================\")\n",
        "h.addGuest(\"Diana\", 32, \"431\")\n",
        "print(\"=================================\")\n",
        "print(h.getGuestById(2))\n",
        "print(\"=================================\")\n",
        "h.allStaffs()\n",
        "print(\"=================================\")\n",
        "h.allGuest()"
      ]
    },
    {
      "cell_type": "markdown",
      "metadata": {
        "id": "JO58BflglYJ3"
      },
      "source": [
        "4. Write the Author class with the required methods to give the following outputs as shown.\n",
        "\n",
        "```\n",
        "# Write your code here\n",
        "\n",
        "# Do not change the following lines of code.\n",
        "a1 = Author()\n",
        "print(\"=================================\")\n",
        "a1.addBook(\"Ice\", \"Science Fiction\")\n",
        "print(\"=================================\")\n",
        "a1.setName(\"Anna Kavan\")\n",
        "a1.addBook(\"Ice\", \"Science Fiction\")\n",
        "a1.printDetail()\n",
        "print(\"=================================\")\n",
        "a2 = Author(\"Humayun Ahmed\")\n",
        "a2.addBook(\"Onnobhubon\", \"Science Fiction\")\n",
        "a2.addBook(\"Megher Upor Bari\", \"Horror\")\n",
        "print(\"=================================\")\n",
        "a2.printDetail()\n",
        "a2.addBook(\"Ireena\", \"Science Fiction\")\n",
        "print(\"=================================\")\n",
        "a2.printDetail()\n",
        "print(\"=================================\")\n",
        "\n",
        "Output\n",
        "=================================\n",
        "A book can not be added without author name\n",
        "=================================\n",
        "Number of Book(s): 1\n",
        "Author Name: Anna Kavan\n",
        "Science Fiction: Ice\n",
        "=================================\n",
        "=================================\n",
        "Number of Book(s): 2\n",
        "Author Name: Humayun Ahmed\n",
        "Science Fiction: Onnobhubon\n",
        "Horror: Megher Upor Bari\n",
        "=================================\n",
        "Number of Book(s): 3\n",
        "Author Name: Humayun Ahmed\n",
        "Science Fiction: Onnobhubon, Ireena\n",
        "Horror: Megher Upor Bari\n",
        "=================================\n",
        "```"
      ]
    },
    {
      "cell_type": "code",
      "execution_count": 5,
      "metadata": {
        "id": "CRQf8NmHlYJ3",
        "outputId": "1d4ba249-12c8-4a50-ada3-cdad594d1ed5"
      },
      "outputs": [
        {
          "name": "stdout",
          "output_type": "stream",
          "text": [
            "=================================\n",
            "A book can not be added without author name\n",
            "=================================\n",
            "Number of Book(s): 1\n",
            "Author Name: Anna Kavan\n",
            "Science Fiction: Ice\n",
            "=================================\n",
            "=================================\n",
            "Number of Book(s): 2\n",
            "Author Name: Humayun Ahmed\n",
            "Science Fiction: Onnobhubon\n",
            "Horror: Megher Upor Bari\n",
            "=================================\n",
            "Number of Book(s): 3\n",
            "Author Name: Humayun Ahmed\n",
            "Science Fiction: Onnobhubon, Ireena\n",
            "Horror: Megher Upor Bari\n",
            "=================================\n"
          ]
        }
      ],
      "source": [
        "class Author:\n",
        "    def __init__(self,author=''):\n",
        "        self.author_name = author\n",
        "        self.books = {}\n",
        "        self.number = 0\n",
        "    def setName(self,name):\n",
        "        self.author_name = name\n",
        "    def addBook(self,name='',typ=''):\n",
        "        self.book_name = name\n",
        "        self.book_type = typ\n",
        "        if self.author_name == '':\n",
        "            print('A book can not be added without author name')\n",
        "        else:\n",
        "            if self.book_type not in self.books:\n",
        "                self.number+=1\n",
        "                self.books[self.book_type] = self.book_name\n",
        "            else:\n",
        "                self.number+=1\n",
        "                self.books[self.book_type] += ', '+self.book_name\n",
        "    def printDetail(self):\n",
        "        print(f'Number of Book(s): {self.number}')\n",
        "        print(f'Author Name: {self.author_name}')\n",
        "        for i,j in self.books.items():\n",
        "            print(f'{i}: {j}')\n",
        "a1 = Author()\n",
        "print(\"=================================\")\n",
        "a1.addBook(\"Ice\", \"Science Fiction\")\n",
        "print(\"=================================\")\n",
        "a1.setName(\"Anna Kavan\")\n",
        "a1.addBook(\"Ice\", \"Science Fiction\")\n",
        "a1.printDetail()\n",
        "print(\"=================================\")\n",
        "a2 = Author(\"Humayun Ahmed\")\n",
        "a2.addBook(\"Onnobhubon\", \"Science Fiction\")\n",
        "a2.addBook(\"Megher Upor Bari\", \"Horror\")\n",
        "print(\"=================================\")\n",
        "a2.printDetail()\n",
        "a2.addBook(\"Ireena\", \"Science Fiction\")\n",
        "print(\"=================================\")\n",
        "a2.printDetail()\n",
        "print(\"=================================\")"
      ]
    },
    {
      "cell_type": "markdown",
      "metadata": {
        "id": "QgdMko8mlYJ3"
      },
      "source": [
        "5. Implement the design of the Hospital, Doctor and Patient class so that the following output is produced:\n",
        "\n",
        "```\n",
        "# Write your code here\n",
        "\n",
        "# Do not change the following lines of code.\n",
        "h = Hospital(\"Evercare\")\n",
        "d1 = Doctor(\"1d\",\"Doctor\", \"Samar Kumar\", \"Neurologist\")\n",
        "h.addDoctor(d1)\n",
        "print(\"=================================\")\n",
        "print(h.getDoctorByID(\"1d\"))\n",
        "print(\"=================================\")\n",
        "p1 = Patient(\"1p\",\"Patient\", \"Kashem Ahmed\", 35, 12345)\n",
        "h.addPatient(p1)\n",
        "print(\"=================================\")\n",
        "print(h.getPatientByID(\"1p\"))\n",
        "print(\"=================================\")\n",
        "p2 = Patient (\"2p\",\"Patient\", \"Tanina Haque\", 26, 33456)\n",
        "h.addPatient(p2)\n",
        "print(\"=================================\")\n",
        "print(h.getPatientByID(\"2p\"))\n",
        "print(\"=================================\")\n",
        "h.allDoctors()\n",
        "h.allPatients()\n",
        "\n",
        "Output\n",
        "=================================\n",
        "Doctor's ID: 1d\n",
        "Name: Samar Kumar\n",
        "Speciality: Neurologist\n",
        "=================================\n",
        "=================================\n",
        "Patient's ID: 1p\n",
        "Name: Kashem Ahmed\n",
        "Age: 35\n",
        "Phone no.: 12345\n",
        "=================================\n",
        "=================================\n",
        "Patient's ID: 2p\n",
        "Name: Tanina Haque\n",
        "Age: 26\n",
        "Phone no.: 33456\n",
        "=================================\n",
        "All Doctors:\n",
        "Number of Doctors: 1\n",
        "{'1d': ['Samar Kumar', 'Neurologist']}\n",
        "All Patients:\n",
        "Number of Patients: 2\n",
        "{'1p': ['Kashem Ahmed', 35, 12345], '2p': ['Tanina Haque' 26, 33456]}\n",
        "```"
      ]
    },
    {
      "cell_type": "code",
      "execution_count": 6,
      "metadata": {
        "id": "opmVB9mVlYJ4",
        "outputId": "01c364eb-84e5-4257-b32e-6f5638e9239b"
      },
      "outputs": [
        {
          "name": "stdout",
          "output_type": "stream",
          "text": [
            "=================================\n",
            "Doctor's ID: 1d\n",
            "Name: Samar Kumar\n",
            "Speciality: Neurologist\n",
            "=================================\n",
            "=================================\n",
            "Patient's ID: 1p\n",
            "Name: Kashem Ahmed\n",
            "Age: 35\n",
            "Phone no.: 12345\n",
            "=================================\n",
            "=================================\n",
            "Patient's ID: 2p\n",
            "Name: Tanina Haque\n",
            "Age: 26\n",
            "Phone no.: 33456\n",
            "=================================\n",
            "All Doctors:\n",
            "Number of Doctors: 1\n",
            "{'1d': ['Samar Kumar', 'Neurologist']}\n",
            "All Patients:\n",
            "Number of Patients: 2\n",
            "{'1p': ['Kashem Ahmed', 35, 12345], '2p': ['Tanina Haque', 26, 33456]}\n"
          ]
        }
      ],
      "source": [
        "class Hospital:\n",
        "    def __init__(self,hospital):\n",
        "        self.hospital_name = hospital\n",
        "        self.doctors = {}\n",
        "        self.patients = {}\n",
        "        self.doctor_count = 0\n",
        "        self.patient_count = 0\n",
        "    def addDoctor(self,doctor):\n",
        "        self.doctor_count += 1\n",
        "        self.doctor_id = doctor.doctor_id\n",
        "        self.profession = doctor.profession\n",
        "        self.doctor_name = doctor.doctor_name\n",
        "        self.doctor_speciality = doctor.doctor_speciality\n",
        "        if self.doctor_id not in self.doctors:\n",
        "            self.doctors[self.doctor_id] = [self.doctor_name, self.doctor_speciality]\n",
        "        else:\n",
        "            self.doctors[self.doctor_id] += [self.doctor_name, self.doctor_speciality]\n",
        "    def getDoctorByID(self,id):\n",
        "        self.doctor_id = id\n",
        "        return f\"Doctor's ID: {self.doctor_id}\\nName: {self.doctor_name}\\nSpeciality: {self.doctor_speciality}\"\n",
        "    def addPatient(self,patient):\n",
        "        self.patient_count += 1\n",
        "        self.patient_id = patient.patient_id\n",
        "        self.patient = patient.patient\n",
        "        self.patient_name = patient.patient_name\n",
        "        self.patient_age = patient.patient_age\n",
        "        self.patient_mobile = patient.patient_mobile\n",
        "        if self.patient_id not in self.patients:\n",
        "            self.patients[self.patient_id] = [self.patient_name, self.patient_age, self.patient_mobile]\n",
        "        else:\n",
        "            self.patients[self.patient_id] += [self.patient_name, self.patient_age, self.patient_mobile]\n",
        "    def getPatientByID(self,id):\n",
        "        self.patient_id = id\n",
        "        return f\"Patient's ID: {self.patient_id}\\nName: {self.patient_name}\\nAge: {self.patient_age}\\nPhone no.: {self.patient_mobile}\"\n",
        "    def allDoctors(self):\n",
        "        print(f\"All Doctors:\\nNumber of Doctors: {self.doctor_count}\\n{self.doctors}\")\n",
        "    def allPatients(self):\n",
        "        print(f\"All Patients:\\nNumber of Patients: {self.patient_count}\\n{self.patients}\")\n",
        "class Doctor:\n",
        "    def __init__(self, id, profession, name, speciality):\n",
        "        self.doctor_id = id\n",
        "        self.profession =  profession\n",
        "        self.doctor_name = name\n",
        "        self.doctor_speciality = speciality\n",
        "class Patient:\n",
        "    def __init__(self, id, who, name,age, phone):\n",
        "        self.patient_id = id\n",
        "        self.patient = who\n",
        "        self.patient_name = name\n",
        "        self.patient_age = age\n",
        "        self.patient_mobile = phone\n",
        "h = Hospital(\"Evercare\")\n",
        "d1 = Doctor(\"1d\",\"Doctor\", \"Samar Kumar\", \"Neurologist\")\n",
        "h.addDoctor(d1)\n",
        "print(\"=================================\")\n",
        "print(h.getDoctorByID(\"1d\"))\n",
        "print(\"=================================\")\n",
        "p1 = Patient(\"1p\",\"Patient\", \"Kashem Ahmed\", 35, 12345)\n",
        "h.addPatient(p1)\n",
        "print(\"=================================\")\n",
        "print(h.getPatientByID(\"1p\"))\n",
        "print(\"=================================\")\n",
        "p2 = Patient (\"2p\",\"Patient\", \"Tanina Haque\", 26, 33456)\n",
        "h.addPatient(p2)\n",
        "print(\"=================================\")\n",
        "print(h.getPatientByID(\"2p\"))\n",
        "print(\"=================================\")\n",
        "h.allDoctors()\n",
        "h.allPatients()"
      ]
    },
    {
      "cell_type": "code",
      "execution_count": 1,
      "metadata": {},
      "outputs": [
        {
          "name": "stdout",
          "output_type": "stream",
          "text": [
            "=================================\n",
            "Doctor's ID: 1d\n",
            "Name: Samar Kumar\n",
            "Speciality: Neurologist\n",
            "=================================\n",
            "=================================\n",
            "Patient's ID: 1p\n",
            "Name: Kashem Ahmed\n",
            "Age: 35\n",
            "Phone no.: 12345\n",
            "=================================\n",
            "=================================\n",
            "Patient's ID: 2p\n",
            "Name: Tanina Haque\n",
            "Age: 26\n",
            "Phone no.: 33456\n",
            "=================================\n",
            "All Doctors:\n",
            "Number of Doctors: 1\n",
            "{'1d': ['Samar Kumar', 'Neurologist']}\n",
            "All Patients:\n",
            "Number of Patients: 2\n",
            "{'1p': ['Kashem Ahmed', 35, 12345], '2p': ['Tanina Haque', 26, 33456]}\n"
          ]
        }
      ],
      "source": [
        "class Hospital:\n",
        "    def __init__(self, name):\n",
        "        self.hospital=name\n",
        "        self.doctors={}\n",
        "        self.patients={}\n",
        "        self.number_of_doctors=0\n",
        "        self.number_of_patients=0\n",
        "        self.doctors_dict={}\n",
        "        self.patients_dict={}\n",
        "    def addDoctor(self, doctor):\n",
        "        self.doctors[doctor.iD]=doctor\n",
        "        self.doctors_dict[doctor.iD]=[doctor.name,doctor.speciality]\n",
        "        self.number_of_doctors+=1\n",
        "    def getDoctorByID(self, iD):\n",
        "        return f\"Doctor's ID: {self.doctors[iD].iD}\\nName: {self.doctors[iD].name}\\nSpeciality: {self.doctors[iD].speciality}\"\n",
        "    def addPatient(self, patient):\n",
        "        self.patients[patient.iD]=patient\n",
        "        self.patients_dict[patient.iD]=[patient.name, patient.age, patient.phone]\n",
        "        self.number_of_patients+=1\n",
        "    def getPatientByID(self, iD):\n",
        "        return f\"Patient's ID: {self.patients[iD].iD}\\nName: {self.patients[iD].name}\\nAge: {self.patients[iD].age}\\nPhone no.: {self.patients[iD].phone}\"\n",
        "    def allDoctors(self):\n",
        "        print(f'All Doctors:\\nNumber of Doctors: {self.number_of_doctors}\\n{self.doctors_dict}')\n",
        "    def allPatients(self):\n",
        "        print(f'All Patients:\\nNumber of Patients: {self.number_of_patients}\\n{self.patients_dict}')\n",
        "class Doctor:\n",
        "    def __init__(self, iD, typ, name, speciality):\n",
        "        self.iD=iD\n",
        "        self.typ=typ\n",
        "        self.name=name\n",
        "        self.speciality=speciality\n",
        "class Patient:\n",
        "    def __init__(self, iD, typ, name, age, phone):\n",
        "        self.iD=iD\n",
        "        self.typ=typ\n",
        "        self.name=name\n",
        "        self.age=age\n",
        "        self.phone=phone\n",
        "h = Hospital(\"Evercare\")\n",
        "d1 = Doctor(\"1d\",\"Doctor\", \"Samar Kumar\", \"Neurologist\")\n",
        "h.addDoctor(d1)\n",
        "print(\"=================================\")\n",
        "print(h.getDoctorByID(\"1d\"))\n",
        "print(\"=================================\")\n",
        "p1 = Patient(\"1p\",\"Patient\", \"Kashem Ahmed\", 35, 12345)\n",
        "h.addPatient(p1)\n",
        "print(\"=================================\")\n",
        "print(h.getPatientByID(\"1p\"))\n",
        "print(\"=================================\")\n",
        "p2 = Patient (\"2p\",\"Patient\", \"Tanina Haque\", 26, 33456)\n",
        "h.addPatient(p2)\n",
        "print(\"=================================\")\n",
        "print(h.getPatientByID(\"2p\"))\n",
        "print(\"=================================\")\n",
        "h.allDoctors()\n",
        "h.allPatients()"
      ]
    },
    {
      "cell_type": "markdown",
      "metadata": {
        "id": "olRo8EoLlYJ4"
      },
      "source": [
        "6. Design the Vaccine and Person class so that the following expected output is generated.\n",
        "\n",
        "[N.B: Students will get vaccines on a priority basis. So, age for students doesn’t matter]\n",
        "\n",
        "```\n",
        "# Write your code here\n",
        "\n",
        "astra = Vaccine(\"AstraZeneca\", \"UK\", 60)\n",
        "modr = Vaccine(\"Moderna\", \"UK\", 30)\n",
        "sin = Vaccine(\"Sinopharm\", \"China\", 30)\n",
        "p1 = Person(\"Bob\", 21, \"Student\")\n",
        "print(\"=================================\")\n",
        "p1.pushVaccine(astra)\n",
        "print(\"=================================\")\n",
        "p1.showDetail()\n",
        "print(\"=================================\")\n",
        "p1.pushVaccine(sin, \"2nd Dose\")\n",
        "print(\"=================================\")\n",
        "p1.pushVaccine(astra, \"2nd Dose\")\n",
        "print(\"=================================\")\n",
        "p1.showDetail()\n",
        "print(\"=================================\")\n",
        "p2 = Person(\"Carol\", 23, \"Actor\")\n",
        "print(\"=================================\")\n",
        "p2.pushVaccine(sin)\n",
        "print(\"=================================\")\n",
        "p3 = Person(\"David\", 34)\n",
        "print(\"=================================\")\n",
        "p3.pushVaccine(modr)\n",
        "print(\"=================================\")\n",
        "p3.showDetail()\n",
        "print(\"=================================\")\n",
        "p3.pushVaccine(modr, \"2nd Dose\")\n",
        "\n",
        "OUTPUT\n",
        "=================================\n",
        "1st dose done for Bob\n",
        "=================================\n",
        "Name: Bob Age: 21 Type: Student\n",
        "Vaccine name: AstraZeneca\n",
        "1st dose: Given\n",
        "2nd dose: Please come after 60 days\n",
        "=================================\n",
        "Sorry Bob, you can’t take 2 different vaccines\n",
        "=================================\n",
        "2nd dose done for Bob\n",
        "=================================\n",
        "Name: Bob Age: 21 Type: Student\n",
        "Vaccine name: AstraZeneca\n",
        "1st dose: Given\n",
        "2nd dose: Given\n",
        "=================================\n",
        "=================================\n",
        "Sorry Carol, Minimum age for taking vaccines is 25 years now.\n",
        "=================================\n",
        "=================================\n",
        "1st dose done for David\n",
        "=================================\n",
        "Name: David Age: 34 Type: General Citizen\n",
        "Vaccine name: Moderna\n",
        "1st dose: Given\n",
        "2nd dose: Please come after 30 days\n",
        "=================================\n",
        "2nd dose done for David\n",
        "```"
      ]
    },
    {
      "cell_type": "code",
      "execution_count": 7,
      "metadata": {
        "id": "O02WYjCblYJ4",
        "outputId": "f147829b-bad8-40d7-d78a-1a0fee3960af"
      },
      "outputs": [
        {
          "name": "stdout",
          "output_type": "stream",
          "text": [
            "=================================\n",
            "1st Dose done for Bob\n",
            "=================================\n",
            "Name: Bob  Age: 21  Type: Student\n",
            "Vaccine name: AstraZeneca\n",
            "1st dose: Given\n",
            "2nd dose: Please come after 60 days.\n",
            "=================================\n",
            "Sorry Bob, you can’t take 2 different vaccines\n",
            "=================================\n",
            "2nd Dose done for Bob\n",
            "=================================\n",
            "Name: Bob  Age: 21  Type: Student\n",
            "Vaccine name: AstraZeneca\n",
            "1st dose: Given\n",
            "2nd dose: Given\n",
            "=================================\n",
            "=================================\n",
            "Sorry Carol, Minimum age for taking vaccines is 25 years now.\n",
            "=================================\n",
            "=================================\n",
            "1st Dose done for David\n",
            "=================================\n",
            "Name: David  Age: 34  Type: General Citizen\n",
            "Vaccine name: Moderna\n",
            "1st dose: Given\n",
            "2nd dose: Please come after 30 days.\n",
            "=================================\n",
            "2nd Dose done for David\n"
          ]
        }
      ],
      "source": [
        "class Vaccine:\n",
        "  def __init__(self, name, country,days):\n",
        "    self.name=name\n",
        "    self.country=country\n",
        "    self.days=days\n",
        "class Person:\n",
        "  def __init__(self, name, age,prof='General Citizen'):\n",
        "    self.name=name\n",
        "    self.age=age\n",
        "    self.prof=prof\n",
        "    self.doseName=''\n",
        "    self.count=0\n",
        "    self.days=''\n",
        "  def pushVaccine(self, obj, dose='1st Dose'):  \n",
        "    if self.prof!='Student' and self.age<25:\n",
        "      print(f'Sorry {self.name}, Minimum age for taking vaccines is 25 years now.')\n",
        "    elif dose=='1st Dose':\n",
        "      self.doseName=obj.name\n",
        "      self.days=obj.days\n",
        "      print(f'{dose} done for {self.name}')\n",
        "      self.count+=1\n",
        "    elif dose=='2nd Dose':\n",
        "      if self.doseName==obj.name:\n",
        "        print(f'{dose} done for {self.name}')\n",
        "        self.count+=1\n",
        "      else:\n",
        "        print(f'Sorry {self.name}, you can’t take 2 different vaccines')\n",
        "  def showDetail(self):\n",
        "    print(f'Name: {self.name}  Age: {self.age}  Type: {self.prof}')\n",
        "    print(f'Vaccine name: {self.doseName}')\n",
        "    if self.count==1:\n",
        "     print(f'1st dose: Given')\n",
        "    if self.count==2:\n",
        "     print(f'1st dose: Given')\n",
        "     print(f'2nd dose: Given')\n",
        "    else:\n",
        "      print(f'2nd dose: Please come after {self.days} days.')\n",
        "astra = Vaccine(\"AstraZeneca\", \"UK\", 60)\n",
        "modr = Vaccine(\"Moderna\", \"UK\", 30)\n",
        "sin = Vaccine(\"Sinopharm\", \"China\", 30)\n",
        "p1 = Person(\"Bob\", 21, \"Student\")\n",
        "print(\"=================================\")\n",
        "p1.pushVaccine(astra)\n",
        "print(\"=================================\")\n",
        "p1.showDetail()\n",
        "print(\"=================================\")\n",
        "p1.pushVaccine(sin, \"2nd Dose\")\n",
        "print(\"=================================\")\n",
        "p1.pushVaccine(astra, \"2nd Dose\")\n",
        "print(\"=================================\")\n",
        "p1.showDetail()\n",
        "print(\"=================================\")\n",
        "p2 = Person(\"Carol\", 23, \"Actor\")\n",
        "print(\"=================================\")\n",
        "p2.pushVaccine(sin)\n",
        "print(\"=================================\")\n",
        "p3 = Person(\"David\", 34)\n",
        "print(\"=================================\")\n",
        "p3.pushVaccine(modr)\n",
        "print(\"=================================\")\n",
        "p3.showDetail()\n",
        "print(\"=================================\")\n",
        "p3.pushVaccine(modr, \"2nd Dose\")"
      ]
    },
    {
      "cell_type": "markdown",
      "metadata": {
        "id": "80OpNPMn92NS"
      },
      "source": [
        "#QUIZ"
      ]
    },
    {
      "cell_type": "markdown",
      "metadata": {
        "id": "RYVRw41d95Fz"
      },
      "source": [
        "**Quiz 01(SEC01)**\n",
        "\n",
        "Write a python function that will take a string as a parameter and returns a student database for each student as a form of a dictionary as given in the sample output.\n",
        "\n",
        "Note: Three student's information (Name, ID, Department) is given sequentially. The key order of output dictionary may vary.\n",
        "\n",
        "\n",
        "```\n",
        "Sample input                                          Sample output\n",
        "\n",
        "given_string = \"Nirob 17021211 CSE Sohel              { 'CSE': {'Name': 'Nirob', 'ID': 17021211},\n",
        "18204565 EEE Sumaiya 20119675 MNS\"                    'EEE': {'Name': 'Sohel', 'ID': 18204565},\n",
        "                                                      'MNS': {'Name': 'Sumaiya', 'ID': 20119675} }\n",
        "```"
      ]
    },
    {
      "cell_type": "code",
      "execution_count": null,
      "metadata": {
        "colab": {
          "base_uri": "https://localhost:8080/"
        },
        "id": "Oig3IdeE1Gnq",
        "outputId": "ed1b0343-d532-4ec6-9be5-a68b98a0ad34"
      },
      "outputs": [
        {
          "name": "stdout",
          "output_type": "stream",
          "text": [
            "{'CSE': {'Name': 'Nirob', 'ID': 1353663}, 'EEE': {'Name': 'Shoel', 'ID': 1727727}, 'MNS': {'Name': 'Sumaiya', 'ID': 3676667}}\n"
          ]
        }
      ],
      "source": [
        "def student_db(given_string = \"Nirob 1353663 CSE Shoel 1727727 EEE Sumaiya 3676667 MNS\"):\n",
        "  d = {}\n",
        "  gs = given_string.split()\n",
        "  for i in range(0,len(gs)-1,3):\n",
        "    d[gs[i+2]] = {'Name' : gs[i], 'ID' : int(gs[i+1])}\n",
        "  return d\n",
        "print(student_db())"
      ]
    },
    {
      "cell_type": "markdown",
      "metadata": {
        "id": "tTV9BhtkaDm4"
      },
      "source": [
        "**Quiz 01(SEC27)**\n",
        "\n",
        "**SET_A**\n",
        "\n",
        "Write a python program that takes a string from the user and creates a dictionary. The dictionary's keys will be each character's categories (Letters, Digits, Special Characters), and the values will be a list/tuple of those characters. See the sample input output below to understand the question better. \n",
        "\n",
        "```\n",
        "Sample Input 1:\n",
        "\"82  *  92  =  7544\"\n",
        "Sample Output 1:\n",
        "{'Digits': (8, 2, 9, 2, 7, 5, 4, 4), 'Special Characters': ('*', '='), 'Letters': []}\n",
        "Sample Input 2:\n",
        "\"CSE110  was  fun\" \n",
        "Sample output 2:\n",
        "{'Letters': ('C', 'S', 'E', 'w', 'a', 's', 'f', 'u', 'n'), 'Digits': (1, 1, 0), 'Special Characters': []}\n",
        "```\n"
      ]
    },
    {
      "cell_type": "code",
      "execution_count": null,
      "metadata": {
        "id": "X34KoDABaCYB",
        "outputId": "177e359b-be2d-4c6f-e60f-5e915ad84e1e"
      },
      "outputs": [
        {
          "name": "stdout",
          "output_type": "stream",
          "text": [
            "{'Letters': ('C', 'S', 'E', 'w', 'a', 's', 'f', 'u', 'n'), 'Digits': (1, 1, 0), 'Special Characters': []}\n"
          ]
        }
      ],
      "source": [
        "string =  input()\n",
        "catagories = ['Digits', 'Special Characters', 'Letters']\n",
        "dictionary = {}\n",
        "for i in string:\n",
        "    if i != ' ':\n",
        "        ascii = ord(i)\n",
        "        if ascii>=48 and ascii<=57:\n",
        "            if 'Digits' not in dictionary:\n",
        "                dictionary['Digits'] = [int(i)]\n",
        "            else:\n",
        "                dictionary['Digits'] += [int(i)]\n",
        "        elif (ascii>=65 and ascii<=90) or (ascii>=97 and ascii<=122):\n",
        "            if 'Letters' not in dictionary:\n",
        "                dictionary['Letters'] = i\n",
        "            else:\n",
        "                dictionary['Letters'] += i\n",
        "        else:\n",
        "            if 'Special Characters' not in dictionary:\n",
        "                dictionary['Special Characters'] = i\n",
        "            else:\n",
        "                dictionary['Special Characters'] += i\n",
        "for j in catagories:\n",
        "    if j not in dictionary:\n",
        "        dictionary[j] = []\n",
        "    else:\n",
        "        dictionary[j] = tuple(dictionary[j])\n",
        "print(dictionary)"
      ]
    },
    {
      "cell_type": "markdown",
      "metadata": {
        "id": "7NVojK5jax8T"
      },
      "source": [
        "**Quiz 01(SEC27)**\n",
        "\n",
        "**SET_B**\n",
        "\n",
        "\n",
        "Write a function called less_than_average which takes a list of strings as a parameter and returns the average length of the strings and a list of strings which are shorter than the average length. Finally, print the returned result in the function call. No need to take user inputs.\n",
        "\n",
        "```\n",
        "Sample Input 1:\n",
        "print(less_than_average([\"I\",\"love\",\"Programming\",\"in\",\"Python\"]))\n",
        "Sample Output 1:\n",
        "(4.8, ['I', 'love', 'in'])\n",
        "\n",
        "\n",
        "Sample Input 2:\n",
        "print(less_than_average([\"CSE111's\",\"Final\",\"Examination\",\"is\",\"extremely\",\"easy\"]))\n",
        "Sample Output 2:\n",
        "(6.5, ['Final', 'is', 'easy'])\n",
        "\n",
        "```    \n",
        "Explanation 1: Here the length of \"I\" is 1, \"love\" is 4, \"Programming\" is 11, \"in\" is 2 and \"Python\" is 6, so the average of these 5 strings = (1+4+11+2+6)/5 = 4.8. Hence, the strings \"I\"-length 1, \"love\"-length 4, and \"in\"-length 2 are shorter than the average of 4.8.\n",
        "\n",
        "Explanation 2: Here average of these 6 strings= (8+5+11+2+9+4)/6 = 6.5. Hence, the strings \"Final\"-length 5, \"is\"-length 2, and \"easy\"-length 4 are shorter than the average of 6.5."
      ]
    },
    {
      "cell_type": "code",
      "execution_count": null,
      "metadata": {
        "id": "K1sRtyS-bJs_",
        "outputId": "97a374b9-c133-4d9e-f66e-457eb88593fb"
      },
      "outputs": [
        {
          "name": "stdout",
          "output_type": "stream",
          "text": [
            "(4.8, ['I', 'love', 'in'])\n"
          ]
        }
      ],
      "source": [
        "def less_than_average(stlist):\n",
        "    lenstr = 0\n",
        "    lenght = 0\n",
        "    short = []\n",
        "    for i in stlist:\n",
        "        lenstr+=len(i)\n",
        "    average = lenstr/len(stlist)\n",
        "    output = [average]\n",
        "    for j in stlist:\n",
        "        if len(j) < average:\n",
        "            short.append(j)\n",
        "    output.append(short)\n",
        "    return tuple(output)\n",
        "print(less_than_average([\"I\",\"love\",\"Programming\",\"in\",\"Python\"]))"
      ]
    },
    {
      "cell_type": "markdown",
      "metadata": {
        "id": "KKszHKCMlYJ5"
      },
      "source": [
        "#MID_SUMMER22"
      ]
    },
    {
      "cell_type": "markdown",
      "metadata": {
        "id": "x5ODI1uDlYJ6"
      },
      "source": [
        "**CODE**"
      ]
    },
    {
      "cell_type": "markdown",
      "metadata": {
        "id": "oLgW4gDtlYJ6"
      },
      "source": [
        "1. Design the Exam class with necessary properties so that the given output is produced:\n",
        "\n",
        "```\n",
        "#Write your code here\n",
        "e1 = Exam('Midterm', 2, 10)\n",
        "print(e1.detail())\n",
        "print(\"===========================\")\n",
        "e2 = Exam('Final', 3, 10)\n",
        "print(e2.detail())\n",
        "\n",
        "Output:\n",
        "Exam Type: Midterm\n",
        "Number of questions: 2\n",
        "Marks per questions: 10\n",
        "Total Marks: 20\n",
        "============================\n",
        "Exam Type: Final\n",
        "Number of questions: 3\n",
        "Marks per questions: 10\n",
        "Total Marks: 30\n",
        "```"
      ]
    },
    {
      "cell_type": "code",
      "execution_count": null,
      "metadata": {
        "id": "U5XmTihblYJ6",
        "outputId": "e25bd833-3751-47f2-d46c-7def275232a2"
      },
      "outputs": [
        {
          "name": "stdout",
          "output_type": "stream",
          "text": [
            "Exam Type: Midterm\n",
            "Number of questions: 2\n",
            "Marks per question: 10\n",
            "Total marks: 20\n",
            "===========================\n",
            "Exam Type: Final\n",
            "Number of questions: 3\n",
            "Marks per question: 10\n",
            "Total marks: 30\n"
          ]
        }
      ],
      "source": [
        "class Exam:\n",
        "    def __init__(self,exam,number,marks):\n",
        "        self.exam = exam\n",
        "        self.number = number\n",
        "        self.marks = marks\n",
        "    def detail(self):\n",
        "        return f'''Exam Type: {self.exam}\n",
        "Number of questions: {self.number}\n",
        "Marks per question: {self.marks}\n",
        "Total marks: {self.number*self.marks}'''\n",
        "e1 = Exam('Midterm', 2, 10)\n",
        "print(e1.detail())\n",
        "print(\"===========================\")\n",
        "e2 = Exam('Final', 3, 10)\n",
        "print(e2.detail())"
      ]
    },
    {
      "cell_type": "markdown",
      "metadata": {
        "id": "OE5RFesklYJ6"
      },
      "source": [
        "2. Suppose you are making a program for a Television remote control named \"RickMote\". The TV channel provider has provided only 6 channels where the corresponding channel numbers are 0,2,3,6,7,9. This is a vital information as you might need to store the list of channel numbers in an instance variable. Now your task is to design the \"RickMote\" class in such a way that the expected output is produced for the given code below:\n",
        "\n",
        "[Hint:\n",
        "\n",
        "• The channel numbers are not circular. So, channel number 0 is the first channel while 9 is the last. You cannot go below channel number 0 and beyond channel number 9.\n",
        "\n",
        "• If power is turned off, there is no point in changing channel and volume.\n",
        "\n",
        "• Increasing channel number means going to the next channel in the channel list and decreasing it means going to the previous channel in the channel list.]\n",
        "\n",
        "```\n",
        "#Write your code here\n",
        "oTV = RickMote()\n",
        "oTV.power()\n",
        "print(\"1.############################\")\n",
        "oTV.showInfo()\n",
        "print(\"2.############################\")\n",
        "oTV.changeChannel()\n",
        "oTV.changeVolumeLevel()\n",
        "oTV.showInfo()\n",
        "print(\"3.############################\")\n",
        "oTV.power()\n",
        "oTV.showInfo()\n",
        "print(\"4.############################\")\n",
        "oTV.power()\n",
        "oTV.changeVolumeLevel(4)\n",
        "oTV.changeChannel(3)\n",
        "oTV.showInfo()\n",
        "print(\"5.############################\")\n",
        "oTV.changeVolumeLevel(-2)\n",
        "oTV.showInfo()\n",
        "print(\"6.############################\")\n",
        "oTV.power()\n",
        "oTV.changeChannel(9)\n",
        "oTV.changeVolumeLevel(-1)\n",
        "oTV.showInfo()\n",
        "print(\"7.############################\")\n",
        "oTV.power()\n",
        "oTV.changeChannel(11)\n",
        "oTV.showInfo()\n",
        "\n",
        "Output:\n",
        "1.############################\n",
        "ID Cable Box Status:\n",
        "Cable Box is: ON\n",
        "Channel:0\n",
        "Volume:3\n",
        "2.############################\n",
        "ID Cable Box Status:\n",
        "Cable Box is: ON\n",
        "Channel:2\n",
        "Volume:4\n",
        "3.############################\n",
        "ID Cable Box Status:\n",
        "Cable Box is: OFF\n",
        "4.############################\n",
        "ID Cable Box Status:\n",
        "Cable Box is: ON\n",
        "Channel:3\n",
        "Volume:8\n",
        "5.############################\n",
        "ID Cable Box Status:\n",
        "Cable Box is: ON\n",
        "Channel:3\n",
        "Volume:6\n",
        "6.############################\n",
        "Power is turned off. Cannot change channel.\n",
        "Power is turned off. Cannot change volume.\n",
        "ID Cable Box Status:\n",
        "Cable Box is: OFF\n",
        "7.############################\n",
        "TV channel does not exist.\n",
        "ID Cable Box Status:\n",
        "Cable Box is: ON\n",
        "Channel:3\n",
        "Volume:6\n",
        "```"
      ]
    },
    {
      "cell_type": "code",
      "execution_count": 6,
      "metadata": {
        "id": "DKCf-qi2lYJ6",
        "outputId": "749359d0-9f0d-4a7a-9ec4-9313249d699e"
      },
      "outputs": [
        {
          "name": "stdout",
          "output_type": "stream",
          "text": [
            "1.############################\n",
            "ID Cable Box Status:\n",
            "Cable Box is: ON\n",
            "Channel:0\n",
            "Volume:3\n",
            "2.############################\n",
            "Power is turned off. Cannot change channel.\n",
            "ID Cable Box Status:\n",
            "Cable Box is: ON\n",
            "Channel:0\n",
            "Volume:4\n",
            "3.############################\n",
            "ID Cable Box Status:\n",
            "Cable Box is: OFF\n",
            "4.############################\n",
            "ID Cable Box Status:\n",
            "Cable Box is: ON\n",
            "Channel:3\n",
            "Volume:8\n",
            "5.############################\n",
            "ID Cable Box Status:\n",
            "Cable Box is: ON\n",
            "Channel:3\n",
            "Volume:6\n",
            "6.############################\n",
            "Power is turned off. Cannot change channel.\n",
            "ID Cable Box Status:\n",
            "Cable Box is: OFF\n",
            "7.############################\n",
            "Power is turned off. Cannot change channel.\n",
            "ID Cable Box Status:\n",
            "Cable Box is: ON\n",
            "Channel:3\n",
            "Volume:6\n"
          ]
        }
      ],
      "source": [
        "class RickMote:\n",
        "    def __init__(self):\n",
        "        self.box = 'OFF'\n",
        "        self.channel = 0\n",
        "        self.volume = 3\n",
        "        self.lst = [0,2,3,6,7,9]\n",
        "    def power(self):\n",
        "        if self.box == 'OFF':\n",
        "            self.box = 'ON'\n",
        "        else:\n",
        "            self.box = 'OFF'\n",
        "    def changeChannel(self,num1= -1):\n",
        "        if self.box == 'ON':\n",
        "            if 0<=num1<=9:\n",
        "                if num1 in self.lst:\n",
        "                    self.channel = num1\n",
        "                elif num1 == -1:\n",
        "                    self.channel = self.lst[self.lst.index(self.channel)+1]\n",
        "                else:\n",
        "                    print(\"TV channel doesn't exist.\")\n",
        "            else:\n",
        "                print(\"Power is turned off. Cannot change channel.\")\n",
        "    def changeVolumeLevel(self,num2=1):\n",
        "        if self.box == 'ON':\n",
        "            self.volume+=num2\n",
        "        else:\n",
        "            print(\"Power is turned off. Cannot change channel.\")\n",
        "    def showInfo(self):\n",
        "        if self.box == 'ON':\n",
        "            print(f\"ID Cable Box Status:\\nCable Box is: {self.box}\\nChannel:{self.channel}\\nVolume:{self.volume}\")\n",
        "        else:\n",
        "            print(f\"ID Cable Box Status:\\nCable Box is: {self.box}\")\n",
        "oTV = RickMote()\n",
        "oTV.power()\n",
        "print(\"1.############################\")\n",
        "oTV.showInfo()\n",
        "print(\"2.############################\")\n",
        "oTV.changeChannel()\n",
        "oTV.changeVolumeLevel()\n",
        "oTV.showInfo()\n",
        "print(\"3.############################\")\n",
        "oTV.power()\n",
        "oTV.showInfo()\n",
        "print(\"4.############################\")\n",
        "oTV.power()\n",
        "oTV.changeVolumeLevel(4)\n",
        "oTV.changeChannel(3)\n",
        "oTV.showInfo()\n",
        "print(\"5.############################\")\n",
        "oTV.changeVolumeLevel(-2)\n",
        "oTV.showInfo()\n",
        "print(\"6.############################\")\n",
        "oTV.power()\n",
        "oTV.changeChannel(9)\n",
        "oTV.changeVolumeLevel(-1)\n",
        "oTV.showInfo()\n",
        "print(\"7.############################\")\n",
        "oTV.power()\n",
        "oTV.changeChannel(11)\n",
        "oTV.showInfo()"
      ]
    },
    {
      "cell_type": "markdown",
      "metadata": {
        "id": "C8yvHpv5lYJ6"
      },
      "source": [
        "#MID_FALL22"
      ]
    },
    {
      "cell_type": "markdown",
      "metadata": {
        "id": "Gs2RrEaSlYJ7"
      },
      "source": [
        "**CODE**"
      ]
    },
    {
      "cell_type": "markdown",
      "metadata": {
        "id": "uY6QPFEalYJ7"
      },
      "source": [
        "1. Design the \"Spotify\" class with required properties to produce the given output for the provided\n",
        "driver code.\n",
        "\n",
        "```\n",
        "#Write your code here\n",
        "rock= Spotify(\"Heavy Metal\", \"This Fire Burns\", \"Here I Am\")\n",
        "print(rock.show_playlist())\n",
        "Output:\n",
        "Genre: Heavy Metal\n",
        "Song list: This Fire Burns, Here I Am\n",
        "```"
      ]
    },
    {
      "cell_type": "code",
      "execution_count": null,
      "metadata": {
        "id": "Fgwpf9NvlYJ7"
      },
      "outputs": [],
      "source": [
        "\n",
        "rock= Spotify(\"Heavy Metal\", \"This Fire Burns\", \"Here I Am\")\n",
        "print(rock.show_playlist())"
      ]
    },
    {
      "cell_type": "markdown",
      "metadata": {
        "id": "ipjZRbSHlYJ7"
      },
      "source": [
        "2. Implement the \"PizzaMachine\" class with necessary properties, so that the given\n",
        "output is produced for the provided driver code.\n",
        "\n",
        "[Hint:\n",
        "\n",
        "1.The Pizza machine can only bake pizzas of 3 spice levels: Regular, Hot and Super Naga.\n",
        "\n",
        "2.Pizza cannot be baked if no toppings are specified.\n",
        "\n",
        "3.\"type(variable)\" function returns the data type of the variable passed to it as an argument.\n",
        "You may need it.\n",
        "\n",
        "```\n",
        "pizza1 = PizzaMachine()\n",
        "order1 = pizza1.customizePizza([\"Cheese\", \"Pepperoni\"],\n",
        "\"Hot\")\n",
        "print(\"1################################# \")\n",
        "print(order1)\n",
        "print(\"2================================\")\n",
        "pizza2 = PizzaMachine(\"Vege\")\n",
        "order2 = pizza2.customizePizza(\"Super Naga\")\n",
        "print(\"3#################################\")\n",
        "print(order2)\n",
        "print(\"4================================\")\n",
        "pizza3 = PizzaMachine(\"Chicken Blast\",12)\n",
        "order3 = pizza3.customizePizza([\"Mushroom\"])\n",
        "print(\"5#################################\")\n",
        "print(order3)\n",
        "print(\"6================================\")\n",
        "pizza4 = PizzaMachine(\"Beef Bonanza\",16)\n",
        "order4 = pizza4.customizePizza([\"Cheese\",\"Beef kala bhuna\"],\"Mild\")\n",
        "print(\"7#################################\")\n",
        "print(order4)\n",
        "print(\"8================================\")\n",
        "\n",
        "Output:\n",
        "1#################################\n",
        "Your 6-inch Hot spicy Regular Pizza is ready with\n",
        "Cheese,Pepperoni toppings. Enjoy!\n",
        "2================================\n",
        "3#################################\n",
        "No toppings specified! Can't bake pizza.\n",
        "4================================\n",
        "5#################################\n",
        "Your 12-inch Regular spicy Chicken Blast Pizza is ready\n",
        "with Mushroom toppings. Enjoy!\n",
        "6================================\n",
        "7#################################\n",
        "Sorry! Spice level not allowed. Can't bake pizza.\n",
        "8================================\n",
        "```"
      ]
    },
    {
      "cell_type": "code",
      "execution_count": 5,
      "metadata": {
        "id": "oiO3o9wKlYJ7"
      },
      "outputs": [
        {
          "name": "stdout",
          "output_type": "stream",
          "text": [
            "1################################# \n",
            "Your 6 -inch Hot spicy Regular Pizza is ready with\n",
            "Cheese,Pepperoni toppings. Enjoy!\n",
            "2================================\n",
            "3#################################\n",
            "No toppings specified! Can't bake pizza.\n",
            "4================================\n",
            "5#################################\n",
            "Your 12 -inch Regular spicy Chicken Blast Pizza is ready with\n",
            "Mushroom toppings. Enjoy!\n",
            "6================================\n",
            "7#################################\n",
            "Sorry! Spice level not allowed. Can't bake pizza.\n",
            "8================================\n"
          ]
        }
      ],
      "source": [
        "class PizzaMachine:\n",
        "  def __init__(self,name='Regular', size=6):\n",
        "    self.name=name\n",
        "    self.size = size\n",
        "  def customizePizza(self,*args):\n",
        "    if len(args)==2:\n",
        "      self.toppings=args[0]\n",
        "      self.spice=args[1]\n",
        "    else:\n",
        "      if type(args[0])==list:\n",
        "        self.toppings=args[0]\n",
        "        self.spice='Regular'\n",
        "      else:\n",
        "        self.toppings=None\n",
        "        self.spice=args[0]\n",
        "    if self.toppings==None:\n",
        "      return \"No toppings specified! Can't bake pizza.\"\n",
        "    elif self.spice not in ('Regular','Hot', 'Super Naga'):\n",
        "      return \"Sorry! Spice level not allowed. Can't bake pizza.\"\n",
        "    else:\n",
        "      str1=''\n",
        "      for i in self.toppings:\n",
        "        str1+=i+','\n",
        "      str1=str1[:-1:]\n",
        "      str2= f'Your {self.size} -inch {self.spice} spicy {self.name} Pizza is ready with\\n{str1} toppings. Enjoy!'\n",
        "      return str2\n",
        "pizza1 = PizzaMachine()\n",
        "order1 = pizza1.customizePizza([\"Cheese\", \"Pepperoni\"],\n",
        "\"Hot\")\n",
        "print(\"1#################################\")\n",
        "print(order1)\n",
        "print(\"2================================\")\n",
        "pizza2 = PizzaMachine(\"Vege\")\n",
        "order2 = pizza2.customizePizza(\"Super Naga\")\n",
        "print(\"3#################################\")\n",
        "print(order2)\n",
        "print(\"4================================\")\n",
        "pizza3 = PizzaMachine(\"Chicken Blast\",12)\n",
        "order3 = pizza3.customizePizza([\"Mushroom\"])\n",
        "print(\"5#################################\")\n",
        "print(order3)\n",
        "print(\"6================================\")\n",
        "pizza4 = PizzaMachine(\"Beef Bonanza\",16)\n",
        "order4 = pizza4.customizePizza([\"Cheese\",\"Beef kala bhuna\"],\"Mild\")\n",
        "print(\"7#################################\")\n",
        "print(order4)\n",
        "print(\"8================================\")\n"
      ]
    }
  ],
  "metadata": {
    "colab": {
      "collapsed_sections": [
        "RPUxK6hr-iU8",
        "T2-pgPWUmYl5",
        "U2cwVkI7Jz3e",
        "80OpNPMn92NS",
        "KKszHKCMlYJ5",
        "C8yvHpv5lYJ6"
      ],
      "provenance": []
    },
    "kernelspec": {
      "display_name": "base",
      "language": "python",
      "name": "python3"
    },
    "language_info": {
      "codemirror_mode": {
        "name": "ipython",
        "version": 3
      },
      "file_extension": ".py",
      "mimetype": "text/x-python",
      "name": "python",
      "nbconvert_exporter": "python",
      "pygments_lexer": "ipython3",
      "version": "3.9.12"
    },
    "vscode": {
      "interpreter": {
        "hash": "ad2bdc8ecc057115af97d19610ffacc2b4e99fae6737bb82f5d7fb13d2f2c186"
      }
    }
  },
  "nbformat": 4,
  "nbformat_minor": 0
}
